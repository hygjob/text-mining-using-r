{
 "cells": [
  {
   "cell_type": "code",
   "execution_count": null,
   "metadata": {},
   "outputs": [],
   "source": [
    "# R version 3.5.2 (2018-12-20)\n",
    "# reason: “dependency ‘quadprog’ is not available”Warning message in install.packages(\"stm\"):\n",
    "\n",
    "# 리눅스 계열 참고\n",
    "# https://stackoverflow.com/questions/24194409/how-do-i-install-a-package-that-has-been-archived-from-cran\n",
    "\n",
    "# 윈도우 계열 참고\n",
    "# https://stackoverflow.com/questions/55872936/dependency-quadprog-is-not-available-for-installing-package-bfast\n",
    "\n",
    "# 방법 소스저장소에서 받아서 빌드하여 설치한다.\n",
    "# 여기서는 리눅스 계열을 기준으로 하였다. \n",
    "\n",
    "\n",
    "\n",
    "url <- \"https://cran.r-project.org/src/contrib/Archive/quadprog/quadprog_1.5-5.tar.gz\"\n",
    "pkgFile <- \"quadprog_1.5-5.tar.gz\"\n",
    "download.file(url = url, destfile = pkgFile)\n",
    "\n",
    "# 해당 패키지말고 의존성 있는 패키지가 필요할 시 해당 것도 설치해주어야 한다. \n",
    "# ERROR: dependencies ‘xxxlib’, ‘yyylib'\n",
    "# install.packages(c(\"xxxlib\", \"yyylib\"   ))\n",
    "\n",
    "\n",
    "# Install package\n",
    "install.packages(pkgs=pkgFile, type=\"source\", repos=NULL)\n",
    "\n",
    "# Delete package tarball\n",
    "unlink(pkgFile)"
   ]
  }
 ],
 "metadata": {
  "kernelspec": {
   "display_name": "R",
   "language": "R",
   "name": "ir"
  },
  "language_info": {
   "codemirror_mode": "r",
   "file_extension": ".r",
   "mimetype": "text/x-r-source",
   "name": "R",
   "pygments_lexer": "r",
   "version": "3.5.2"
  }
 },
 "nbformat": 4,
 "nbformat_minor": 2
}
