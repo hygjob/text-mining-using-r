{
 "cells": [
  {
   "cell_type": "markdown",
   "metadata": {},
   "source": [
    "## R을 이용한 텍스트 마이닝\n",
    "## 백영민 / 한울아카데미"
   ]
  },
  {
   "cell_type": "markdown",
   "metadata": {},
   "source": [
    "\n",
    "\n",
    "########################################\n",
    "#제 3부 텍스트 데이터 분석 및 결과제시##\n",
    "#01 텍스트 데이터에 대한 기술통계분석###\n",
    "########################################"
   ]
  },
  {
   "cell_type": "code",
   "execution_count": null,
   "metadata": {},
   "outputs": [],
   "source": [
    "# prepare dtm.e\n",
    "\n",
    "library(stringr)\n",
    "#공란처리(stripping white space) 과정\n",
    "mytext <- c(\"software environment\",\"software  environment\",\"software\\tenvironment\")\n",
    "mytext\n",
    "\n",
    "#단어를 ' '으로 구분해보자. \n",
    "str_split(mytext,' ')\n",
    "\n",
    "#각 오브젝트별 단어수와 문자수를 세보자. \n",
    "sapply(str_split(mytext, \" \"),length)\n",
    "sapply(str_split(mytext, \" \"),str_length)\n",
    "\n",
    "#공란처리과정을 거친 후에 어떻게 되는지 살펴보자. \n",
    "mytext.nowhitespace <- str_replace_all(mytext,\"[[:space:]]{1,}\",\" \")\n",
    "mytext.nowhitespace\n",
    "#각 오브젝트별 단어수와 문자수를 세보자. \n",
    "sapply(str_split(mytext.nowhitespace,' '),length)\n",
    "sapply(str_split(mytext.nowhitespace,' '),str_length)\n",
    "\n",
    "#대소문자 통일과정\n",
    "mytext <- \"The 45th President of the United States, Donald Trump, states that he knows how to play trump with the former president\"\n",
    "myword <- unlist(str_extract_all(mytext,boundary(\"word\")))\n",
    "table(myword)\n",
    "\n",
    "#Trump 와 States가 고유명사임이 드러나게 _unique_표현을 덧붙였다. \n",
    "myword <- str_replace(myword,\"Trump\",\"Trump_unique_\")\n",
    "myword <- str_replace(myword,\"States\",\"States_unique_\")\n",
    "#대문자를 소문자로 전환한 후 빈도표를 도출했다. \n",
    "table(tolower(myword))\n",
    "\n",
    "mytext <- c(\"He is one of statisticians agreeing that R is the No. 1 statistical software.\",\"He is one of statisticians agreeing that R is the No. one statistical software.\")\n",
    "str_split(mytext,\" \")\n",
    "\n",
    "#숫자자료를 제거하는 방법\n",
    "mytext2 <- str_split(str_replace_all(mytext,\"[[:digit:]]{1,}[[:space:]]{1,}\",\"\"),\" \")\n",
    "str_c(mytext2[[1]],collapse=\" \")\n",
    "str_c(mytext2[[2]],collapse=\" \")\n",
    "\n",
    "#숫자자료임을 표시하고 수치의 구체적인 내용은 고려하지 않는 방법\n",
    "mytext3 <- str_split(str_replace_all(mytext,\"[[:digit:]]{1,}[[:space:]]{1,}\",\"_number_ \"),\" \")\n",
    "str_c(mytext3[[1]],collapse=\" \")\n",
    "str_c(mytext3[[2]],collapse=\" \")\n",
    "\n",
    "mytext <- \"Baek et al. (2014) argued that the state of default-setting is critical for people to protect their own personal privacy on the Internet.\"\n",
    "#사례로 든 문장에서 al.의 .는 문장구분 표시가 아니다.\n",
    "str_split(mytext,\"\\\\. \")\n",
    "\n",
    "#단어들을 살펴보면 다음과 같다. \n",
    "str_split(mytext,\" \")\n",
    "\n",
    "#default-setting을 두 단어로? 아니면 한단어로? 개인적으로 2단어가 맞다고 봄.\n",
    "#\"성 다음의 et al. (년도)\"의 형식을 띨 경우 하나의 단어로 교체.\n",
    "#단어를 기준으로 분석하기 때문에, 마침표는 없어도 될 듯. \n",
    "mytext2 <- str_replace_all(mytext,\"-\",\" \")\n",
    "mytext2 <- str_replace_all(mytext2,\"[[:upper:]]{1}[[:alpha:]]{1,}[[:space:]](et al\\\\.)[[:space:]]\\\\([[:digit:]]{4}\\\\)\",\"_reference_\")\n",
    "mytext2 <- str_replace_all(mytext2,\"\\\\.[[:space:]]{0,}\",\"\")\n",
    "mytext2\n",
    "\n",
    "mytext <- c(\"She is an actor\",\"She is the actor\")\n",
    "#다음과 같이 불용단어들의 목록을 오브젝트로 만들어 사용하면 편하다\n",
    "mystopwords <- \"(\\\\ba )|(\\\\ban )|(\\\\bthe )\"\n",
    "str_replace_all(mytext,mystopwords,\"\")\n",
    "\n",
    "#tm 라이브러리에 포함된 영어 불용단어 목록들은 두 가지다. \n",
    "library('tm')\n",
    "#짧은 불용단어 목록들에는 총 174개의 단어들이 포함되어 있다. \n",
    "length(stopwords(\"en\"))\n",
    "#긴 불용단어 목록들에는 총 571개의 단어들이 포함되어 있다. \n",
    "length(stopwords(\"SMART\"))\n",
    "\n",
    "#length() 함수표현을 없애면 어떤 단어들이 불용단어 목록에 포함되었는지 알 수 있다. \n",
    "stopwords(\"en\")\n",
    "stopwords(\"SMART\")\n",
    "\n",
    "#다음과 같은 약식 어근동일화 프로그램을 만들어 보자. \n",
    "mystemmer.func <- function(mytextobject,mystemmer,mystemmed){\n",
    "  mytext <- str_replace_all(mytext,\n",
    "                            \"(\\\\bam )|(\\\\bare )|(\\\\bis )|(\\\\bwas )|(\\\\bwere )|(\\\\bbe )\",\"be \")\n",
    "  mytext\n",
    "}\n",
    "\n",
    "#예시 텍스트 데이터 \n",
    "mytext <- c(\"I am a boy. You are a boy. He might be a boy.\")\n",
    "mytext.stem <- mystemmer.func(mytext)\n",
    "#어근 동일화이전과 이후의 텍스트 데이터의 단어들이 어떻게 다른 빈도표를 갖고 있는지 살펴보자. \n",
    "table(str_split(mytext,\" \"))\n",
    "table(str_split(mytext.stem,\" \"))\n",
    "\n",
    "#아래의 텍스트 데이터에서는 the/The, United, States가 3회 같은 순서로 제시되고 있다. \n",
    "mytext <- \"The United States comprises fifty states. In the United States, each state has its own laws. However, federal law overrides state law in the United States.\"\n",
    "myword <- unlist(str_extract_all(mytext,boundary(\"word\")))\n",
    "length(table(myword))\n",
    "sum(table(myword))\n",
    "#United, States를 붙어있는 단어, 즉 2-gram, 혹은 bigram이라고 가정하자. \n",
    "mytext.2gram <- str_replace_all(mytext,\"\\\\bUnited States\",\"United_States\")\n",
    "myword2 <- unlist(str_extract_all(mytext.2gram,boundary(\"word\")))\n",
    "length(table(myword2))\n",
    "sum(table(myword2))\n",
    "#the/The. United, States를 붙어있는 단어, 즉 3-gram, 혹은 trigram이라고 가정하자. \n",
    "mytext.3gram <- str_replace_all(mytext,\"\\\\b(t|T)he United States\",\"The_United_States\")\n",
    "myword3 <- unlist(str_extract_all(mytext.3gram,boundary(\"word\")))\n",
    "length(table(myword3))\n",
    "sum(table(myword3))\n",
    "\n",
    "#tm 라이브러리 구동 \n",
    "library('tm')\n",
    "#모아놓은 텍스트 자료의 화일 위치를 설정합니다. \n",
    "#2009년부터 2015년까지 백영민의 출간논문 초록의 말뭉치를 구성합니다. \n",
    "my.text.location <- \"ymbaek_papers\"\n",
    "mypaper  <- VCorpus(DirSource(my.text.location))\n",
    "#말뭉치를 검토해 봅시다\n",
    "mypaper\n",
    "summary(mypaper)\n",
    "\n",
    "#말뭉치를 구성하는 두 번째 문서는?\n",
    "mypaper[[2]]\n",
    "\n",
    "#말뭉치를 구성하는 두 번째 문서의 내용은? \n",
    "mypaper[[2]]$content\n",
    "\n",
    "#말뭉치를 구성하는 두 번째 문서의 메타데이터는? \n",
    "mypaper[[2]]$meta\n",
    "\n",
    "#메타데이터 입력\n",
    "meta(mypaper[[2]],tag='author') <- 'Y. M. Baek'\n",
    "meta(mypaper[[2]])\n",
    "\n",
    "#다음과 방식을 사용하면 특수기호 사용 전후의 단어들이 무엇인지 살펴볼 수 있다.\n",
    "myfunc <- function(x) {str_extract_all(x,\"[[:alnum:]]{1,}[[:punct:]]{1}?[[:alnum:]]{1,}\")}\n",
    "mypuncts <- lapply(mypaper, myfunc)\n",
    "table(unlist(mypuncts))\n",
    "\n",
    "#다음과 방식을 사용하면 수치로 표시된 자료가 어떤 것인지 살펴볼 수 있다. \n",
    "myfunc <- function(x) {str_extract_all(x,\"[[:digit:]]{1,}\")}\n",
    "mydigits <- lapply(mypaper, myfunc)\n",
    "table(unlist(mydigits))\n",
    "\n",
    "#다음과 방식을 사용하면 대문자로 시작하는 단어를 확인할 수 있다(고유명사 확인에 유용함)\n",
    "myfunc <- function(x) {str_extract_all(x,\"[[:upper:]]{1}[[:alpha:]]{1,}\")}\n",
    "myuppers <- lapply(mypaper, myfunc)\n",
    "table(unlist(myuppers))\n",
    "\n",
    "#우선 숫자표현들을 모두 삭제하였다. \n",
    "mycorpus <- tm_map(mypaper, removeNumbers)\n",
    "\n",
    "#다음으로 특수문자가 들어간 표현들 중 하나의 단어로 취급되어야 하는 것들을 처리하였다.\n",
    "#removePunctuation의 경우 텍스트 성격을 고려한 아래의 사항들을 반영하지 못한다.\n",
    "mytempfunc <- function(myobject,oldexp,newexp){\n",
    "newobject <- tm_map(myobject,\n",
    "content_transformer(function(x, pattern) gsub(pattern, newexp, x)), oldexp)\n",
    "newobject\n",
    "}\n",
    "mycorpus <- mytempfunc(mycorpus,\"-collar\",\"collar\")\n",
    "mycorpus <- mytempfunc(mycorpus,\"\\\\b((c|C)o-)\",\"co\")\n",
    "mycorpus <- mytempfunc(mycorpus,\"\\\\b((c|C)ross-)\",\"cross\")\n",
    "mycorpus <- mytempfunc(mycorpus,\"e\\\\.g\\\\.\",\"for example\")\n",
    "mycorpus <- mytempfunc(mycorpus,\"i\\\\.e\\\\.\",\"that is\")\n",
    "mycorpus <- mytempfunc(mycorpus,\"\\\\'s\",\"\")\n",
    "mycorpus <- mytempfunc(mycorpus,\"s’\",\"s\")\n",
    "mycorpus <- mytempfunc(mycorpus,\"ICD-\",\"ICD\")\n",
    "mycorpus <- mytempfunc(mycorpus,\"\\\\b((i|I)nter-)\",\"inter\")\n",
    "mycorpus <- mytempfunc(mycorpus,\"K-pop\",\"Kpop\")\n",
    "mycorpus <- mytempfunc(mycorpus,\"\\\\b((m|M)eta-)\",\"meta\")\n",
    "mycorpus <- mytempfunc(mycorpus,\"\\\\b((o|O)pt-)\",\"opt\")\n",
    "mycorpus <- mytempfunc(mycorpus,\"\\\\b((p|P)ost-)\",\"post\")\n",
    "mycorpus <- mytempfunc(mycorpus,\"-end\",\"end\")\n",
    "mycorpus <- mytempfunc(mycorpus,\"\\\\b((w|W)ithin-)\",\"within\")\n",
    "mycorpus <- mytempfunc(mycorpus,\"=\",\"is equal to\")\n",
    "mycorpus <- mytempfunc(mycorpus,\"and/or\",\"and or\")\n",
    "mycorpus <- mytempfunc(mycorpus,\"his/her\",\"his her\")\n",
    "mycorpus <- mytempfunc(mycorpus,\"-\",\" \")\n",
    "\n",
    "#나머지 특수문자들은 공란으로 처리하여 제거하였다. \n",
    "#removePunctuation의 경우 and/oR을 and or로 바꾸지 않고, andor로 바꾸는 등 여기서는 문제가 적지 않다. \n",
    "mycorpus <- tm_map(mycorpus, removePunctuation)\n",
    "\n",
    "#공란처리과정 \n",
    "mycorpus <- tm_map(mycorpus, stripWhitespace)\n",
    "\n",
    "#대소문자를 통합하였다. \n",
    "mycorpus <- tm_map(mycorpus, content_transformer(tolower))\n",
    "\n",
    "#불용단어들 삭제(SMART 목록 사용)\n",
    "mycorpus <- tm_map(mycorpus, removeWords, words=stopwords(\"SMART\"))\n",
    "\n",
    "#스테밍(어근동일화) 처리하였다. \n",
    "mycorpus <- tm_map(mycorpus, stemDocument, language=\"en\")\n",
    "\n",
    "#우선 문자수와 단어수를 계산하기 위한 개인맞춤형 함수 설정\n",
    "mycharfunc <- function(x) {str_extract_all(x,\".\")}\n",
    "mywordfunc <- function(x) {str_extract_all(x,boundary(\"word\"))}\n",
    "#사전처리과정 적용이전\n",
    "mychar <- lapply(mypaper, mycharfunc)\n",
    "myuniquechar0 <- length(table(unlist(mychar)))\n",
    "mytotalchar0 <- sum(table(unlist(mychar)))\n",
    "myword <- lapply(mypaper, mywordfunc)\n",
    "myuniqueword0 <- length(table(unlist(myword)))\n",
    "mytotalword0 <- sum(table(unlist(myword)))\n",
    "\n",
    "#사전처리과정 적용이후\n",
    "mychar <- lapply(mycorpus, mycharfunc)\n",
    "myuniquechar1 <- length(table(unlist(mychar)))\n",
    "mytotalchar1 <- sum(table(unlist(mychar)))\n",
    "myword <- lapply(mycorpus, mywordfunc)\n",
    "myuniqueword1 <- length(table(unlist(myword)))\n",
    "mytotalword1 <- sum(table(unlist(myword)))\n",
    "\n",
    "#사전처리로 인해 어떻게 변화했는지를 살펴보자. \n",
    "results.comparing <- rbind(\n",
    "  c(myuniquechar0,myuniquechar1),\n",
    "  c(mytotalchar0,mytotalchar1),\n",
    "  c(myuniqueword0,myuniqueword1),\n",
    "  c(mytotalword0,mytotalword1))\n",
    "colnames(results.comparing) <- c(\"before\",\"after\")\n",
    "rownames(results.comparing) <- c(\"고유문자수\",\"총문자수\",\"고유단어수\",\"총단어수\")\n",
    "results.comparing\n",
    "\n",
    "#이제 문서X단어행렬을 구축하자.\n",
    "#TermDocumentMatrix를 사용하면 가로줄에는 단어가, 세로줄에는 문서가 배치된다. \n",
    "# hygjob2\n",
    "dtm.e <- DocumentTermMatrix(mycorpus) \n",
    "#dtm.e\n"
   ]
  },
  {
   "cell_type": "code",
   "execution_count": 6,
   "metadata": {},
   "outputs": [
    {
     "data": {
      "text/html": [
       "<ol class=list-inline>\n",
       "\t<li>'software environment'</li>\n",
       "\t<li><span style=white-space:pre-wrap>'software  environment'</span></li>\n",
       "\t<li>'software\\tenvironment'</li>\n",
       "</ol>\n"
      ],
      "text/latex": [
       "\\begin{enumerate*}\n",
       "\\item 'software environment'\n",
       "\\item 'software  environment'\n",
       "\\item 'software\\textbackslash{}tenvironment'\n",
       "\\end{enumerate*}\n"
      ],
      "text/markdown": [
       "1. 'software environment'\n",
       "2. <span style=white-space:pre-wrap>'software  environment'</span>\n",
       "3. 'software\\tenvironment'\n",
       "\n",
       "\n"
      ],
      "text/plain": [
       "[1] \"software environment\"  \"software  environment\" \"software\\tenvironment\""
      ]
     },
     "metadata": {},
     "output_type": "display_data"
    },
    {
     "data": {
      "text/html": [
       "<ol>\n",
       "\t<li><ol class=list-inline>\n",
       "\t<li>'software'</li>\n",
       "\t<li>'environment'</li>\n",
       "</ol>\n",
       "</li>\n",
       "\t<li><ol class=list-inline>\n",
       "\t<li>'software'</li>\n",
       "\t<li>''</li>\n",
       "\t<li>'environment'</li>\n",
       "</ol>\n",
       "</li>\n",
       "\t<li>'software\\tenvironment'</li>\n",
       "</ol>\n"
      ],
      "text/latex": [
       "\\begin{enumerate}\n",
       "\\item \\begin{enumerate*}\n",
       "\\item 'software'\n",
       "\\item 'environment'\n",
       "\\end{enumerate*}\n",
       "\n",
       "\\item \\begin{enumerate*}\n",
       "\\item 'software'\n",
       "\\item ''\n",
       "\\item 'environment'\n",
       "\\end{enumerate*}\n",
       "\n",
       "\\item 'software\\textbackslash{}tenvironment'\n",
       "\\end{enumerate}\n"
      ],
      "text/markdown": [
       "1. 1. 'software'\n",
       "2. 'environment'\n",
       "\n",
       "\n",
       "\n",
       "2. 1. 'software'\n",
       "2. ''\n",
       "3. 'environment'\n",
       "\n",
       "\n",
       "\n",
       "3. 'software\\tenvironment'\n",
       "\n",
       "\n"
      ],
      "text/plain": [
       "[[1]]\n",
       "[1] \"software\"    \"environment\"\n",
       "\n",
       "[[2]]\n",
       "[1] \"software\"    \"\"            \"environment\"\n",
       "\n",
       "[[3]]\n",
       "[1] \"software\\tenvironment\"\n"
      ]
     },
     "metadata": {},
     "output_type": "display_data"
    }
   ],
   "source": [
    "# prepare dtm.e\n",
    "\n",
    "library(stringr)\n",
    "#공란처리(stripping white space) 과정\n",
    "mytext <- c(\"software environment\",\"software  environment\",\"software\\tenvironment\")\n",
    "mytext\n",
    "\n",
    "#단어를 ' '으로 구분해보자. \n",
    "str_split(mytext,' ')\n"
   ]
  },
  {
   "cell_type": "code",
   "execution_count": 10,
   "metadata": {},
   "outputs": [
    {
     "data": {
      "text/html": [
       "<ol class=list-inline>\n",
       "\t<li>'software environment'</li>\n",
       "\t<li><span style=white-space:pre-wrap>'software  environment'</span></li>\n",
       "\t<li>'software\\tenvironment'</li>\n",
       "</ol>\n"
      ],
      "text/latex": [
       "\\begin{enumerate*}\n",
       "\\item 'software environment'\n",
       "\\item 'software  environment'\n",
       "\\item 'software\\textbackslash{}tenvironment'\n",
       "\\end{enumerate*}\n"
      ],
      "text/markdown": [
       "1. 'software environment'\n",
       "2. <span style=white-space:pre-wrap>'software  environment'</span>\n",
       "3. 'software\\tenvironment'\n",
       "\n",
       "\n"
      ],
      "text/plain": [
       "[1] \"software environment\"  \"software  environment\" \"software\\tenvironment\""
      ]
     },
     "metadata": {},
     "output_type": "display_data"
    }
   ],
   "source": [
    "mytext"
   ]
  },
  {
   "cell_type": "code",
   "execution_count": 8,
   "metadata": {},
   "outputs": [
    {
     "data": {
      "text/html": [
       "<ol class=list-inline>\n",
       "\t<li>2</li>\n",
       "\t<li>3</li>\n",
       "\t<li>1</li>\n",
       "</ol>\n"
      ],
      "text/latex": [
       "\\begin{enumerate*}\n",
       "\\item 2\n",
       "\\item 3\n",
       "\\item 1\n",
       "\\end{enumerate*}\n"
      ],
      "text/markdown": [
       "1. 2\n",
       "2. 3\n",
       "3. 1\n",
       "\n",
       "\n"
      ],
      "text/plain": [
       "[1] 2 3 1"
      ]
     },
     "metadata": {},
     "output_type": "display_data"
    }
   ],
   "source": [
    "#각 오브젝트별 단어수와 문자수를 세보자. \n",
    "sapply(str_split(mytext, \" \"),length)\n",
    "#sapply(str_split(mytext, \" \"),str_length)"
   ]
  },
  {
   "cell_type": "code",
   "execution_count": 9,
   "metadata": {},
   "outputs": [
    {
     "data": {
      "text/html": [
       "<ol>\n",
       "\t<li><ol class=list-inline>\n",
       "\t<li>8</li>\n",
       "\t<li>11</li>\n",
       "</ol>\n",
       "</li>\n",
       "\t<li><ol class=list-inline>\n",
       "\t<li>8</li>\n",
       "\t<li>0</li>\n",
       "\t<li>11</li>\n",
       "</ol>\n",
       "</li>\n",
       "\t<li>20</li>\n",
       "</ol>\n"
      ],
      "text/latex": [
       "\\begin{enumerate}\n",
       "\\item \\begin{enumerate*}\n",
       "\\item 8\n",
       "\\item 11\n",
       "\\end{enumerate*}\n",
       "\n",
       "\\item \\begin{enumerate*}\n",
       "\\item 8\n",
       "\\item 0\n",
       "\\item 11\n",
       "\\end{enumerate*}\n",
       "\n",
       "\\item 20\n",
       "\\end{enumerate}\n"
      ],
      "text/markdown": [
       "1. 1. 8\n",
       "2. 11\n",
       "\n",
       "\n",
       "\n",
       "2. 1. 8\n",
       "2. 0\n",
       "3. 11\n",
       "\n",
       "\n",
       "\n",
       "3. 20\n",
       "\n",
       "\n"
      ],
      "text/plain": [
       "[[1]]\n",
       "[1]  8 11\n",
       "\n",
       "[[2]]\n",
       "[1]  8  0 11\n",
       "\n",
       "[[3]]\n",
       "[1] 20\n"
      ]
     },
     "metadata": {},
     "output_type": "display_data"
    }
   ],
   "source": [
    "sapply(str_split(mytext, \" \"),str_length)"
   ]
  },
  {
   "cell_type": "code",
   "execution_count": 11,
   "metadata": {},
   "outputs": [
    {
     "data": {
      "text/html": [
       "<ol class=list-inline>\n",
       "\t<li>'software environment'</li>\n",
       "\t<li>'software environment'</li>\n",
       "\t<li>'software environment'</li>\n",
       "</ol>\n"
      ],
      "text/latex": [
       "\\begin{enumerate*}\n",
       "\\item 'software environment'\n",
       "\\item 'software environment'\n",
       "\\item 'software environment'\n",
       "\\end{enumerate*}\n"
      ],
      "text/markdown": [
       "1. 'software environment'\n",
       "2. 'software environment'\n",
       "3. 'software environment'\n",
       "\n",
       "\n"
      ],
      "text/plain": [
       "[1] \"software environment\" \"software environment\" \"software environment\""
      ]
     },
     "metadata": {},
     "output_type": "display_data"
    }
   ],
   "source": [
    "#공란처리과정을 거친 후에 어떻게 되는지 살펴보자. \n",
    "mytext.nowhitespace <- str_replace_all(mytext,\"[[:space:]]{1,}\",\" \")\n",
    "mytext.nowhitespace"
   ]
  },
  {
   "cell_type": "code",
   "execution_count": 13,
   "metadata": {},
   "outputs": [
    {
     "data": {
      "text/html": [
       "<ol class=list-inline>\n",
       "\t<li>2</li>\n",
       "\t<li>2</li>\n",
       "\t<li>2</li>\n",
       "</ol>\n"
      ],
      "text/latex": [
       "\\begin{enumerate*}\n",
       "\\item 2\n",
       "\\item 2\n",
       "\\item 2\n",
       "\\end{enumerate*}\n"
      ],
      "text/markdown": [
       "1. 2\n",
       "2. 2\n",
       "3. 2\n",
       "\n",
       "\n"
      ],
      "text/plain": [
       "[1] 2 2 2"
      ]
     },
     "metadata": {},
     "output_type": "display_data"
    }
   ],
   "source": [
    "#각 오브젝트별 단어수와 문자수를 세보자. \n",
    "sapply(str_split(mytext.nowhitespace,' '),length)\n"
   ]
  },
  {
   "cell_type": "code",
   "execution_count": 14,
   "metadata": {},
   "outputs": [
    {
     "data": {
      "text/html": [
       "<table>\n",
       "<caption>A matrix: 2 × 3 of type int</caption>\n",
       "<tbody>\n",
       "\t<tr><td> 8</td><td> 8</td><td> 8</td></tr>\n",
       "\t<tr><td>11</td><td>11</td><td>11</td></tr>\n",
       "</tbody>\n",
       "</table>\n"
      ],
      "text/latex": [
       "A matrix: 2 × 3 of type int\n",
       "\\begin{tabular}{lll}\n",
       "\t  8 &  8 &  8\\\\\n",
       "\t 11 & 11 & 11\\\\\n",
       "\\end{tabular}\n"
      ],
      "text/markdown": [
       "\n",
       "A matrix: 2 × 3 of type int\n",
       "\n",
       "|  8 |  8 |  8 |\n",
       "| 11 | 11 | 11 |\n",
       "\n"
      ],
      "text/plain": [
       "     [,1] [,2] [,3]\n",
       "[1,]  8    8    8  \n",
       "[2,] 11   11   11  "
      ]
     },
     "metadata": {},
     "output_type": "display_data"
    }
   ],
   "source": [
    "sapply(str_split(mytext.nowhitespace,' '),str_length)"
   ]
  },
  {
   "cell_type": "code",
   "execution_count": 16,
   "metadata": {},
   "outputs": [
    {
     "data": {
      "text/plain": [
       "myword\n",
       "     45th    Donald    former        he       how     knows        of      play \n",
       "        1         1         1         1         1         1         1         1 \n",
       "president President    states    States      that       the       The        to \n",
       "        1         1         1         1         1         2         1         1 \n",
       "    trump     Trump    United      with \n",
       "        1         1         1         1 "
      ]
     },
     "metadata": {},
     "output_type": "display_data"
    }
   ],
   "source": [
    "#대소문자 통일과정\n",
    "mytext <- \"The 45th President of the United States, \\\n",
    "    Donald Trump, states that he knows how to play trump with the former president\"\n",
    "myword <- unlist(str_extract_all(mytext,boundary(\"word\")))\n",
    "table(myword)"
   ]
  },
  {
   "cell_type": "code",
   "execution_count": 17,
   "metadata": {},
   "outputs": [],
   "source": [
    "#Trump 와 States가 고유명사임이 드러나게 _unique_표현을 덧붙였다. \n",
    "myword <- str_replace(myword,\"Trump\",\"Trump_unique_\")\n",
    "myword <- str_replace(myword,\"States\",\"States_unique_\")"
   ]
  },
  {
   "cell_type": "code",
   "execution_count": 18,
   "metadata": {},
   "outputs": [
    {
     "data": {
      "text/plain": [
       "\n",
       "          45th         donald         former             he            how \n",
       "             1              1              1              1              1 \n",
       "         knows             of           play      president         states \n",
       "             1              1              1              2              1 \n",
       "states_unique_           that            the             to          trump \n",
       "             1              1              3              1              1 \n",
       " trump_unique_         united           with \n",
       "             1              1              1 "
      ]
     },
     "metadata": {},
     "output_type": "display_data"
    }
   ],
   "source": [
    "#대문자를 소문자로 전환한 후 빈도표를 도출했다. \n",
    "table(tolower(myword))"
   ]
  },
  {
   "cell_type": "code",
   "execution_count": 20,
   "metadata": {},
   "outputs": [
    {
     "data": {
      "text/html": [
       "<ol>\n",
       "\t<li><ol class=list-inline>\n",
       "\t<li>'He'</li>\n",
       "\t<li>'is'</li>\n",
       "\t<li>'one'</li>\n",
       "\t<li>'of'</li>\n",
       "\t<li>'statisticians'</li>\n",
       "\t<li>'agreeing'</li>\n",
       "\t<li>'that'</li>\n",
       "\t<li>'R'</li>\n",
       "\t<li>'is'</li>\n",
       "\t<li>'the'</li>\n",
       "\t<li>'No.'</li>\n",
       "\t<li>'1'</li>\n",
       "\t<li>'statistical'</li>\n",
       "\t<li>'software.'</li>\n",
       "</ol>\n",
       "</li>\n",
       "\t<li><ol class=list-inline>\n",
       "\t<li>'He'</li>\n",
       "\t<li>'is'</li>\n",
       "\t<li>'one'</li>\n",
       "\t<li>'of'</li>\n",
       "\t<li>'statisticians'</li>\n",
       "\t<li>'agreeing'</li>\n",
       "\t<li>'that'</li>\n",
       "\t<li>'R'</li>\n",
       "\t<li>'is'</li>\n",
       "\t<li>'the'</li>\n",
       "\t<li>'No.'</li>\n",
       "\t<li>'one'</li>\n",
       "\t<li>'statistical'</li>\n",
       "\t<li>'software.'</li>\n",
       "</ol>\n",
       "</li>\n",
       "</ol>\n"
      ],
      "text/latex": [
       "\\begin{enumerate}\n",
       "\\item \\begin{enumerate*}\n",
       "\\item 'He'\n",
       "\\item 'is'\n",
       "\\item 'one'\n",
       "\\item 'of'\n",
       "\\item 'statisticians'\n",
       "\\item 'agreeing'\n",
       "\\item 'that'\n",
       "\\item 'R'\n",
       "\\item 'is'\n",
       "\\item 'the'\n",
       "\\item 'No.'\n",
       "\\item '1'\n",
       "\\item 'statistical'\n",
       "\\item 'software.'\n",
       "\\end{enumerate*}\n",
       "\n",
       "\\item \\begin{enumerate*}\n",
       "\\item 'He'\n",
       "\\item 'is'\n",
       "\\item 'one'\n",
       "\\item 'of'\n",
       "\\item 'statisticians'\n",
       "\\item 'agreeing'\n",
       "\\item 'that'\n",
       "\\item 'R'\n",
       "\\item 'is'\n",
       "\\item 'the'\n",
       "\\item 'No.'\n",
       "\\item 'one'\n",
       "\\item 'statistical'\n",
       "\\item 'software.'\n",
       "\\end{enumerate*}\n",
       "\n",
       "\\end{enumerate}\n"
      ],
      "text/markdown": [
       "1. 1. 'He'\n",
       "2. 'is'\n",
       "3. 'one'\n",
       "4. 'of'\n",
       "5. 'statisticians'\n",
       "6. 'agreeing'\n",
       "7. 'that'\n",
       "8. 'R'\n",
       "9. 'is'\n",
       "10. 'the'\n",
       "11. 'No.'\n",
       "12. '1'\n",
       "13. 'statistical'\n",
       "14. 'software.'\n",
       "\n",
       "\n",
       "\n",
       "2. 1. 'He'\n",
       "2. 'is'\n",
       "3. 'one'\n",
       "4. 'of'\n",
       "5. 'statisticians'\n",
       "6. 'agreeing'\n",
       "7. 'that'\n",
       "8. 'R'\n",
       "9. 'is'\n",
       "10. 'the'\n",
       "11. 'No.'\n",
       "12. 'one'\n",
       "13. 'statistical'\n",
       "14. 'software.'\n",
       "\n",
       "\n",
       "\n",
       "\n",
       "\n"
      ],
      "text/plain": [
       "[[1]]\n",
       " [1] \"He\"            \"is\"            \"one\"           \"of\"           \n",
       " [5] \"statisticians\" \"agreeing\"      \"that\"          \"R\"            \n",
       " [9] \"is\"            \"the\"           \"No.\"           \"1\"            \n",
       "[13] \"statistical\"   \"software.\"    \n",
       "\n",
       "[[2]]\n",
       " [1] \"He\"            \"is\"            \"one\"           \"of\"           \n",
       " [5] \"statisticians\" \"agreeing\"      \"that\"          \"R\"            \n",
       " [9] \"is\"            \"the\"           \"No.\"           \"one\"          \n",
       "[13] \"statistical\"   \"software.\"    \n"
      ]
     },
     "metadata": {},
     "output_type": "display_data"
    }
   ],
   "source": [
    "mytext <- c(\"He is one of statisticians agreeing that R is the No. 1 statistical software.\",\n",
    "            \"He is one of statisticians agreeing that R is the No. one statistical software.\")\n",
    "str_split(mytext,\" \")"
   ]
  },
  {
   "cell_type": "code",
   "execution_count": 21,
   "metadata": {},
   "outputs": [
    {
     "data": {
      "text/html": [
       "'He is one of statisticians agreeing that R is the No. statistical software.'"
      ],
      "text/latex": [
       "'He is one of statisticians agreeing that R is the No. statistical software.'"
      ],
      "text/markdown": [
       "'He is one of statisticians agreeing that R is the No. statistical software.'"
      ],
      "text/plain": [
       "[1] \"He is one of statisticians agreeing that R is the No. statistical software.\""
      ]
     },
     "metadata": {},
     "output_type": "display_data"
    },
    {
     "data": {
      "text/html": [
       "'He is one of statisticians agreeing that R is the No. one statistical software.'"
      ],
      "text/latex": [
       "'He is one of statisticians agreeing that R is the No. one statistical software.'"
      ],
      "text/markdown": [
       "'He is one of statisticians agreeing that R is the No. one statistical software.'"
      ],
      "text/plain": [
       "[1] \"He is one of statisticians agreeing that R is the No. one statistical software.\""
      ]
     },
     "metadata": {},
     "output_type": "display_data"
    }
   ],
   "source": [
    "#숫자자료를 제거하는 방법\n",
    "mytext2 <- str_split(str_replace_all(mytext,\"[[:digit:]]{1,}[[:space:]]{1,}\",\"\"),\" \")\n",
    "str_c(mytext2[[1]],collapse=\" \")\n",
    "str_c(mytext2[[2]],collapse=\" \")"
   ]
  },
  {
   "cell_type": "code",
   "execution_count": 22,
   "metadata": {},
   "outputs": [
    {
     "data": {
      "text/html": [
       "'He is one of statisticians agreeing that R is the No. _number_ statistical software.'"
      ],
      "text/latex": [
       "'He is one of statisticians agreeing that R is the No. \\_number\\_ statistical software.'"
      ],
      "text/markdown": [
       "'He is one of statisticians agreeing that R is the No. _number_ statistical software.'"
      ],
      "text/plain": [
       "[1] \"He is one of statisticians agreeing that R is the No. _number_ statistical software.\""
      ]
     },
     "metadata": {},
     "output_type": "display_data"
    },
    {
     "data": {
      "text/html": [
       "'He is one of statisticians agreeing that R is the No. one statistical software.'"
      ],
      "text/latex": [
       "'He is one of statisticians agreeing that R is the No. one statistical software.'"
      ],
      "text/markdown": [
       "'He is one of statisticians agreeing that R is the No. one statistical software.'"
      ],
      "text/plain": [
       "[1] \"He is one of statisticians agreeing that R is the No. one statistical software.\""
      ]
     },
     "metadata": {},
     "output_type": "display_data"
    }
   ],
   "source": [
    "#숫자자료임을 표시하고 수치의 구체적인 내용은 고려하지 않는 방법\n",
    "mytext3 <- str_split(str_replace_all(mytext,\"[[:digit:]]{1,}[[:space:]]{1,}\",\"_number_ \"),\" \")\n",
    "str_c(mytext3[[1]],collapse=\" \")\n",
    "str_c(mytext3[[2]],collapse=\" \")"
   ]
  },
  {
   "cell_type": "code",
   "execution_count": 23,
   "metadata": {},
   "outputs": [
    {
     "data": {
      "text/html": [
       "<ol>\n",
       "\t<li><ol class=list-inline>\n",
       "\t<li>'Baek et al'</li>\n",
       "\t<li>'(2014) argued that the state of default-setting is critical for people to protect their own personal privacy on the Internet.'</li>\n",
       "</ol>\n",
       "</li>\n",
       "</ol>\n"
      ],
      "text/latex": [
       "\\begin{enumerate}\n",
       "\\item \\begin{enumerate*}\n",
       "\\item 'Baek et al'\n",
       "\\item '(2014) argued that the state of default-setting is critical for people to protect their own personal privacy on the Internet.'\n",
       "\\end{enumerate*}\n",
       "\n",
       "\\end{enumerate}\n"
      ],
      "text/markdown": [
       "1. 1. 'Baek et al'\n",
       "2. '(2014) argued that the state of default-setting is critical for people to protect their own personal privacy on the Internet.'\n",
       "\n",
       "\n",
       "\n",
       "\n",
       "\n"
      ],
      "text/plain": [
       "[[1]]\n",
       "[1] \"Baek et al\"                                                                                                                   \n",
       "[2] \"(2014) argued that the state of default-setting is critical for people to protect their own personal privacy on the Internet.\"\n"
      ]
     },
     "metadata": {},
     "output_type": "display_data"
    }
   ],
   "source": [
    "mytext <- \"Baek et al. (2014) argued that the state of default-setting is critical for people to protect their own personal privacy on the Internet.\"\n",
    "#사례로 든 문장에서 al.의 .는 문장구분 표시가 아니다.\n",
    "str_split(mytext,\"\\\\. \")"
   ]
  },
  {
   "cell_type": "code",
   "execution_count": 24,
   "metadata": {},
   "outputs": [
    {
     "data": {
      "text/html": [
       "<ol>\n",
       "\t<li><ol class=list-inline>\n",
       "\t<li>'Baek'</li>\n",
       "\t<li>'et'</li>\n",
       "\t<li>'al.'</li>\n",
       "\t<li>'(2014)'</li>\n",
       "\t<li>'argued'</li>\n",
       "\t<li>'that'</li>\n",
       "\t<li>'the'</li>\n",
       "\t<li>'state'</li>\n",
       "\t<li>'of'</li>\n",
       "\t<li>'default-setting'</li>\n",
       "\t<li>'is'</li>\n",
       "\t<li>'critical'</li>\n",
       "\t<li>'for'</li>\n",
       "\t<li>'people'</li>\n",
       "\t<li>'to'</li>\n",
       "\t<li>'protect'</li>\n",
       "\t<li>'their'</li>\n",
       "\t<li>'own'</li>\n",
       "\t<li>'personal'</li>\n",
       "\t<li>'privacy'</li>\n",
       "\t<li>'on'</li>\n",
       "\t<li>'the'</li>\n",
       "\t<li>'Internet.'</li>\n",
       "</ol>\n",
       "</li>\n",
       "</ol>\n"
      ],
      "text/latex": [
       "\\begin{enumerate}\n",
       "\\item \\begin{enumerate*}\n",
       "\\item 'Baek'\n",
       "\\item 'et'\n",
       "\\item 'al.'\n",
       "\\item '(2014)'\n",
       "\\item 'argued'\n",
       "\\item 'that'\n",
       "\\item 'the'\n",
       "\\item 'state'\n",
       "\\item 'of'\n",
       "\\item 'default-setting'\n",
       "\\item 'is'\n",
       "\\item 'critical'\n",
       "\\item 'for'\n",
       "\\item 'people'\n",
       "\\item 'to'\n",
       "\\item 'protect'\n",
       "\\item 'their'\n",
       "\\item 'own'\n",
       "\\item 'personal'\n",
       "\\item 'privacy'\n",
       "\\item 'on'\n",
       "\\item 'the'\n",
       "\\item 'Internet.'\n",
       "\\end{enumerate*}\n",
       "\n",
       "\\end{enumerate}\n"
      ],
      "text/markdown": [
       "1. 1. 'Baek'\n",
       "2. 'et'\n",
       "3. 'al.'\n",
       "4. '(2014)'\n",
       "5. 'argued'\n",
       "6. 'that'\n",
       "7. 'the'\n",
       "8. 'state'\n",
       "9. 'of'\n",
       "10. 'default-setting'\n",
       "11. 'is'\n",
       "12. 'critical'\n",
       "13. 'for'\n",
       "14. 'people'\n",
       "15. 'to'\n",
       "16. 'protect'\n",
       "17. 'their'\n",
       "18. 'own'\n",
       "19. 'personal'\n",
       "20. 'privacy'\n",
       "21. 'on'\n",
       "22. 'the'\n",
       "23. 'Internet.'\n",
       "\n",
       "\n",
       "\n",
       "\n",
       "\n"
      ],
      "text/plain": [
       "[[1]]\n",
       " [1] \"Baek\"            \"et\"              \"al.\"             \"(2014)\"         \n",
       " [5] \"argued\"          \"that\"            \"the\"             \"state\"          \n",
       " [9] \"of\"              \"default-setting\" \"is\"              \"critical\"       \n",
       "[13] \"for\"             \"people\"          \"to\"              \"protect\"        \n",
       "[17] \"their\"           \"own\"             \"personal\"        \"privacy\"        \n",
       "[21] \"on\"              \"the\"             \"Internet.\"      \n"
      ]
     },
     "metadata": {},
     "output_type": "display_data"
    }
   ],
   "source": [
    "#단어들을 살펴보면 다음과 같다. \n",
    "str_split(mytext,\" \")"
   ]
  },
  {
   "cell_type": "code",
   "execution_count": 25,
   "metadata": {},
   "outputs": [
    {
     "data": {
      "text/html": [
       "'_reference_ argued that the state of default setting is critical for people to protect their own personal privacy on the Internet'"
      ],
      "text/latex": [
       "'\\_reference\\_ argued that the state of default setting is critical for people to protect their own personal privacy on the Internet'"
      ],
      "text/markdown": [
       "'_reference_ argued that the state of default setting is critical for people to protect their own personal privacy on the Internet'"
      ],
      "text/plain": [
       "[1] \"_reference_ argued that the state of default setting is critical for people to protect their own personal privacy on the Internet\""
      ]
     },
     "metadata": {},
     "output_type": "display_data"
    }
   ],
   "source": [
    "#default-setting을 두 단어로? 아니면 한단어로? 개인적으로 2단어가 맞다고 봄.\n",
    "#\"성 다음의 et al. (년도)\"의 형식을 띨 경우 하나의 단어로 교체.\n",
    "#단어를 기준으로 분석하기 때문에, 마침표는 없어도 될 듯. \n",
    "mytext2 <- str_replace_all(mytext,\"-\",\" \")\n",
    "mytext2 <- str_replace_all(mytext2,\"[[:upper:]]{1}[[:alpha:]]{1,}[[:space:]](et al\\\\.)[[:space:]]\\\\([[:digit:]]{4}\\\\)\",\"_reference_\")\n",
    "mytext2 <- str_replace_all(mytext2,\"\\\\.[[:space:]]{0,}\",\"\")\n",
    "mytext2"
   ]
  },
  {
   "cell_type": "code",
   "execution_count": 26,
   "metadata": {},
   "outputs": [
    {
     "data": {
      "text/html": [
       "<ol class=list-inline>\n",
       "\t<li>'She is actor'</li>\n",
       "\t<li>'She is actor'</li>\n",
       "</ol>\n"
      ],
      "text/latex": [
       "\\begin{enumerate*}\n",
       "\\item 'She is actor'\n",
       "\\item 'She is actor'\n",
       "\\end{enumerate*}\n"
      ],
      "text/markdown": [
       "1. 'She is actor'\n",
       "2. 'She is actor'\n",
       "\n",
       "\n"
      ],
      "text/plain": [
       "[1] \"She is actor\" \"She is actor\""
      ]
     },
     "metadata": {},
     "output_type": "display_data"
    }
   ],
   "source": [
    "mytext <- c(\"She is an actor\",\"She is the actor\")\n",
    "#다음과 같이 불용단어들의 목록을 오브젝트로 만들어 사용하면 편하다\n",
    "mystopwords <- \"(\\\\ba )|(\\\\ban )|(\\\\bthe )\"\n",
    "str_replace_all(mytext,mystopwords,\"\")"
   ]
  },
  {
   "cell_type": "code",
   "execution_count": 27,
   "metadata": {},
   "outputs": [
    {
     "data": {
      "text/html": [
       "174"
      ],
      "text/latex": [
       "174"
      ],
      "text/markdown": [
       "174"
      ],
      "text/plain": [
       "[1] 174"
      ]
     },
     "metadata": {},
     "output_type": "display_data"
    },
    {
     "data": {
      "text/html": [
       "571"
      ],
      "text/latex": [
       "571"
      ],
      "text/markdown": [
       "571"
      ],
      "text/plain": [
       "[1] 571"
      ]
     },
     "metadata": {},
     "output_type": "display_data"
    }
   ],
   "source": [
    "#tm 라이브러리에 포함된 영어 불용단어 목록들은 두 가지다. \n",
    "library('tm')\n",
    "#짧은 불용단어 목록들에는 총 174개의 단어들이 포함되어 있다. \n",
    "length(stopwords(\"en\"))\n",
    "#긴 불용단어 목록들에는 총 571개의 단어들이 포함되어 있다. \n",
    "length(stopwords(\"SMART\"))"
   ]
  },
  {
   "cell_type": "code",
   "execution_count": null,
   "metadata": {},
   "outputs": [],
   "source": [
    "#length() 함수표현을 없애면 어떤 단어들이 불용단어 목록에 포함되었는지 알 수 있다. \n",
    "stopwords(\"en\")\n",
    "stopwords(\"SMART\")"
   ]
  },
  {
   "cell_type": "code",
   "execution_count": 29,
   "metadata": {},
   "outputs": [],
   "source": [
    "#다음과 같은 약식 어근동일화 프로그램을 만들어 보자. \n",
    "mystemmer.func <- function(mytextobject,mystemmer,mystemmed){\n",
    "  mytext <- str_replace_all(mytext,\n",
    "                            \"(\\\\bam )|(\\\\bare )|(\\\\bis )|(\\\\bwas )|(\\\\bwere )|(\\\\bbe )\",\"be \")\n",
    "  mytext\n",
    "}"
   ]
  },
  {
   "cell_type": "code",
   "execution_count": 30,
   "metadata": {},
   "outputs": [
    {
     "data": {
      "text/plain": [
       "\n",
       "    a    am   are    be  boy.    He     I might   You \n",
       "    3     1     1     1     3     1     1     1     1 "
      ]
     },
     "metadata": {},
     "output_type": "display_data"
    },
    {
     "data": {
      "text/plain": [
       "\n",
       "    a    be  boy.    He     I might   You \n",
       "    3     3     3     1     1     1     1 "
      ]
     },
     "metadata": {},
     "output_type": "display_data"
    }
   ],
   "source": [
    "#예시 텍스트 데이터 \n",
    "mytext <- c(\"I am a boy. You are a boy. He might be a boy.\")\n",
    "mytext.stem <- mystemmer.func(mytext)\n",
    "#어근 동일화이전과 이후의 텍스트 데이터의 단어들이 어떻게 다른 빈도표를 갖고 있는지 살펴보자. \n",
    "table(str_split(mytext,\" \"))\n",
    "table(str_split(mytext.stem,\" \"))"
   ]
  },
  {
   "cell_type": "code",
   "execution_count": 31,
   "metadata": {},
   "outputs": [
    {
     "data": {
      "text/html": [
       "19"
      ],
      "text/latex": [
       "19"
      ],
      "text/markdown": [
       "19"
      ],
      "text/plain": [
       "[1] 19"
      ]
     },
     "metadata": {},
     "output_type": "display_data"
    },
    {
     "data": {
      "text/html": [
       "26"
      ],
      "text/latex": [
       "26"
      ],
      "text/markdown": [
       "26"
      ],
      "text/plain": [
       "[1] 26"
      ]
     },
     "metadata": {},
     "output_type": "display_data"
    }
   ],
   "source": [
    "#아래의 텍스트 데이터에서는 the/The, United, States가 3회 같은 순서로 제시되고 있다. \n",
    "mytext <- \"The United States comprises fifty states. In the United States, each state has its own laws. However, federal law overrides state law in the United States.\"\n",
    "myword <- unlist(str_extract_all(mytext,boundary(\"word\")))\n",
    "length(table(myword))\n",
    "sum(table(myword))"
   ]
  },
  {
   "cell_type": "code",
   "execution_count": 32,
   "metadata": {},
   "outputs": [
    {
     "data": {
      "text/html": [
       "18"
      ],
      "text/latex": [
       "18"
      ],
      "text/markdown": [
       "18"
      ],
      "text/plain": [
       "[1] 18"
      ]
     },
     "metadata": {},
     "output_type": "display_data"
    },
    {
     "data": {
      "text/html": [
       "23"
      ],
      "text/latex": [
       "23"
      ],
      "text/markdown": [
       "23"
      ],
      "text/plain": [
       "[1] 23"
      ]
     },
     "metadata": {},
     "output_type": "display_data"
    }
   ],
   "source": [
    "#United, States를 붙어있는 단어, 즉 2-gram, 혹은 bigram이라고 가정하자. \n",
    "mytext.2gram <- str_replace_all(mytext,\"\\\\bUnited States\",\"United_States\")\n",
    "myword2 <- unlist(str_extract_all(mytext.2gram,boundary(\"word\")))\n",
    "length(table(myword2))\n",
    "sum(table(myword2))"
   ]
  },
  {
   "cell_type": "code",
   "execution_count": 33,
   "metadata": {},
   "outputs": [
    {
     "data": {
      "text/html": [
       "16"
      ],
      "text/latex": [
       "16"
      ],
      "text/markdown": [
       "16"
      ],
      "text/plain": [
       "[1] 16"
      ]
     },
     "metadata": {},
     "output_type": "display_data"
    },
    {
     "data": {
      "text/html": [
       "20"
      ],
      "text/latex": [
       "20"
      ],
      "text/markdown": [
       "20"
      ],
      "text/plain": [
       "[1] 20"
      ]
     },
     "metadata": {},
     "output_type": "display_data"
    }
   ],
   "source": [
    "#the/The. United, States를 붙어있는 단어, 즉 3-gram, 혹은 trigram이라고 가정하자. \n",
    "mytext.3gram <- str_replace_all(mytext,\"\\\\b(t|T)he United States\",\"The_United_States\")\n",
    "myword3 <- unlist(str_extract_all(mytext.3gram,boundary(\"word\")))\n",
    "length(table(myword3))\n",
    "sum(table(myword3))"
   ]
  },
  {
   "cell_type": "code",
   "execution_count": 34,
   "metadata": {},
   "outputs": [
    {
     "data": {
      "text/plain": [
       "<<VCorpus>>\n",
       "Metadata:  corpus specific: 0, document level (indexed): 0\n",
       "Content:  documents: 24"
      ]
     },
     "metadata": {},
     "output_type": "display_data"
    },
    {
     "data": {
      "text/plain": [
       "           Length Class             Mode\n",
       "p2009a.txt 2      PlainTextDocument list\n",
       "p2009b.txt 2      PlainTextDocument list\n",
       "p2010a.txt 2      PlainTextDocument list\n",
       "p2010b.txt 2      PlainTextDocument list\n",
       "p2010c.txt 2      PlainTextDocument list\n",
       "p2011a.txt 2      PlainTextDocument list\n",
       "p2011b.txt 2      PlainTextDocument list\n",
       "p2012a.txt 2      PlainTextDocument list\n",
       "p2012b.txt 2      PlainTextDocument list\n",
       "p2013a.txt 2      PlainTextDocument list\n",
       "p2014a.txt 2      PlainTextDocument list\n",
       "p2014b.txt 2      PlainTextDocument list\n",
       "p2014c.txt 2      PlainTextDocument list\n",
       "p2014d.txt 2      PlainTextDocument list\n",
       "p2014e.txt 2      PlainTextDocument list\n",
       "p2014f.txt 2      PlainTextDocument list\n",
       "p2014g.txt 2      PlainTextDocument list\n",
       "p2014h.txt 2      PlainTextDocument list\n",
       "p2014i.txt 2      PlainTextDocument list\n",
       "p2014k.txt 2      PlainTextDocument list\n",
       "p2015a.txt 2      PlainTextDocument list\n",
       "p2015b.txt 2      PlainTextDocument list\n",
       "p2015c.txt 2      PlainTextDocument list\n",
       "p2015d.txt 2      PlainTextDocument list"
      ]
     },
     "metadata": {},
     "output_type": "display_data"
    }
   ],
   "source": [
    "#tm 라이브러리 구동 \n",
    "library('tm')\n",
    "#모아놓은 텍스트 자료의 화일 위치를 설정합니다. \n",
    "#2009년부터 2015년까지 백영민의 출간논문 초록의 말뭉치를 구성합니다. \n",
    "my.text.location <- \"ymbaek_papers\"\n",
    "mypaper  <- VCorpus(DirSource(my.text.location))\n",
    "#말뭉치를 검토해 봅시다\n",
    "mypaper\n",
    "summary(mypaper)"
   ]
  },
  {
   "cell_type": "code",
   "execution_count": 35,
   "metadata": {},
   "outputs": [
    {
     "data": {
      "text/plain": [
       "<<PlainTextDocument>>\n",
       "Metadata:  7\n",
       "Content:  chars: 990"
      ]
     },
     "metadata": {},
     "output_type": "display_data"
    }
   ],
   "source": [
    "#말뭉치를 구성하는 두 번째 문서는?\n",
    "mypaper[[2]]"
   ]
  },
  {
   "cell_type": "code",
   "execution_count": 36,
   "metadata": {},
   "outputs": [
    {
     "data": {
      "text/html": [
       "'The debate on late night comedy has been inconclusive, with some scholars arguing that this genre increases political knowledge, and others seeing late night comedy as harmful to effective citizenry. We add to the debate and to the research on media effects more generally, by proposing a model that measures political knowledge. The model utilizes item response theory (IRT) to account for individual characteristics, knowledge item difficulty, and response format that influences the likelihood of providing a correct response. Drawing on the 2004 National Annenberg Election Study, we employ this model to test knowledge gain from late night comedy. Using a meta-analysis across 35 political knowledge items, we show that late night comedy increases knowledge, but primarily on easy political items that have fewer correct response options, and mainly among the inattentive citizens. We discuss theoretical implications and provide practical suggestions for scholarship on media effects.'"
      ],
      "text/latex": [
       "'The debate on late night comedy has been inconclusive, with some scholars arguing that this genre increases political knowledge, and others seeing late night comedy as harmful to effective citizenry. We add to the debate and to the research on media effects more generally, by proposing a model that measures political knowledge. The model utilizes item response theory (IRT) to account for individual characteristics, knowledge item difficulty, and response format that influences the likelihood of providing a correct response. Drawing on the 2004 National Annenberg Election Study, we employ this model to test knowledge gain from late night comedy. Using a meta-analysis across 35 political knowledge items, we show that late night comedy increases knowledge, but primarily on easy political items that have fewer correct response options, and mainly among the inattentive citizens. We discuss theoretical implications and provide practical suggestions for scholarship on media effects.'"
      ],
      "text/markdown": [
       "'The debate on late night comedy has been inconclusive, with some scholars arguing that this genre increases political knowledge, and others seeing late night comedy as harmful to effective citizenry. We add to the debate and to the research on media effects more generally, by proposing a model that measures political knowledge. The model utilizes item response theory (IRT) to account for individual characteristics, knowledge item difficulty, and response format that influences the likelihood of providing a correct response. Drawing on the 2004 National Annenberg Election Study, we employ this model to test knowledge gain from late night comedy. Using a meta-analysis across 35 political knowledge items, we show that late night comedy increases knowledge, but primarily on easy political items that have fewer correct response options, and mainly among the inattentive citizens. We discuss theoretical implications and provide practical suggestions for scholarship on media effects.'"
      ],
      "text/plain": [
       "[1] \"The debate on late night comedy has been inconclusive, with some scholars arguing that this genre increases political knowledge, and others seeing late night comedy as harmful to effective citizenry. We add to the debate and to the research on media effects more generally, by proposing a model that measures political knowledge. The model utilizes item response theory (IRT) to account for individual characteristics, knowledge item difficulty, and response format that influences the likelihood of providing a correct response. Drawing on the 2004 National Annenberg Election Study, we employ this model to test knowledge gain from late night comedy. Using a meta-analysis across 35 political knowledge items, we show that late night comedy increases knowledge, but primarily on easy political items that have fewer correct response options, and mainly among the inattentive citizens. We discuss theoretical implications and provide practical suggestions for scholarship on media effects.\""
      ]
     },
     "metadata": {},
     "output_type": "display_data"
    }
   ],
   "source": [
    "#말뭉치를 구성하는 두 번째 문서의 내용은? \n",
    "mypaper[[2]]$content"
   ]
  },
  {
   "cell_type": "code",
   "execution_count": 37,
   "metadata": {},
   "outputs": [
    {
     "data": {
      "text/plain": [
       "  author       : character(0)\n",
       "  datetimestamp: 2019-05-06 12:37:50\n",
       "  description  : character(0)\n",
       "  heading      : character(0)\n",
       "  id           : p2009b.txt\n",
       "  language     : en\n",
       "  origin       : character(0)"
      ]
     },
     "metadata": {},
     "output_type": "display_data"
    }
   ],
   "source": [
    "#말뭉치를 구성하는 두 번째 문서의 메타데이터는? \n",
    "mypaper[[2]]$meta"
   ]
  },
  {
   "cell_type": "code",
   "execution_count": 38,
   "metadata": {},
   "outputs": [
    {
     "data": {
      "text/plain": [
       "  author       : Y. M. Baek\n",
       "  datetimestamp: 2019-05-06 12:37:50\n",
       "  description  : character(0)\n",
       "  heading      : character(0)\n",
       "  id           : p2009b.txt\n",
       "  language     : en\n",
       "  origin       : character(0)"
      ]
     },
     "metadata": {},
     "output_type": "display_data"
    }
   ],
   "source": [
    "#메타데이터 입력\n",
    "meta(mypaper[[2]],tag='author') <- 'Y. M. Baek'\n",
    "meta(mypaper[[2]])"
   ]
  },
  {
   "cell_type": "code",
   "execution_count": 39,
   "metadata": {},
   "outputs": [
    {
     "name": "stderr",
     "output_type": "stream",
     "text": [
      "Warning message in stri_extract_all_regex(string, pattern, simplify = simplify, :\n",
      "“argument is not an atomic vector; coercing”Warning message in stri_extract_all_regex(string, pattern, simplify = simplify, :\n",
      "“argument is not an atomic vector; coercing”Warning message in stri_extract_all_regex(string, pattern, simplify = simplify, :\n",
      "“argument is not an atomic vector; coercing”Warning message in stri_extract_all_regex(string, pattern, simplify = simplify, :\n",
      "“argument is not an atomic vector; coercing”Warning message in stri_extract_all_regex(string, pattern, simplify = simplify, :\n",
      "“argument is not an atomic vector; coercing”Warning message in stri_extract_all_regex(string, pattern, simplify = simplify, :\n",
      "“argument is not an atomic vector; coercing”Warning message in stri_extract_all_regex(string, pattern, simplify = simplify, :\n",
      "“argument is not an atomic vector; coercing”Warning message in stri_extract_all_regex(string, pattern, simplify = simplify, :\n",
      "“argument is not an atomic vector; coercing”Warning message in stri_extract_all_regex(string, pattern, simplify = simplify, :\n",
      "“argument is not an atomic vector; coercing”Warning message in stri_extract_all_regex(string, pattern, simplify = simplify, :\n",
      "“argument is not an atomic vector; coercing”Warning message in stri_extract_all_regex(string, pattern, simplify = simplify, :\n",
      "“argument is not an atomic vector; coercing”Warning message in stri_extract_all_regex(string, pattern, simplify = simplify, :\n",
      "“argument is not an atomic vector; coercing”Warning message in stri_extract_all_regex(string, pattern, simplify = simplify, :\n",
      "“argument is not an atomic vector; coercing”Warning message in stri_extract_all_regex(string, pattern, simplify = simplify, :\n",
      "“argument is not an atomic vector; coercing”Warning message in stri_extract_all_regex(string, pattern, simplify = simplify, :\n",
      "“argument is not an atomic vector; coercing”Warning message in stri_extract_all_regex(string, pattern, simplify = simplify, :\n",
      "“argument is not an atomic vector; coercing”Warning message in stri_extract_all_regex(string, pattern, simplify = simplify, :\n",
      "“argument is not an atomic vector; coercing”Warning message in stri_extract_all_regex(string, pattern, simplify = simplify, :\n",
      "“argument is not an atomic vector; coercing”Warning message in stri_extract_all_regex(string, pattern, simplify = simplify, :\n",
      "“argument is not an atomic vector; coercing”Warning message in stri_extract_all_regex(string, pattern, simplify = simplify, :\n",
      "“argument is not an atomic vector; coercing”Warning message in stri_extract_all_regex(string, pattern, simplify = simplify, :\n",
      "“argument is not an atomic vector; coercing”Warning message in stri_extract_all_regex(string, pattern, simplify = simplify, :\n",
      "“argument is not an atomic vector; coercing”Warning message in stri_extract_all_regex(string, pattern, simplify = simplify, :\n",
      "“argument is not an atomic vector; coercing”Warning message in stri_extract_all_regex(string, pattern, simplify = simplify, :\n",
      "“argument is not an atomic vector; coercing”"
     ]
    },
    {
     "data": {
      "text/plain": [
       "\n",
       "             and/or  anxious-ambivalent         blue-collar       co-activation \n",
       "                  2                   1                   1                   1 \n",
       "      co-constraint        co-emergence        co-existence     content-analyze \n",
       "                  1                   1                   1                   1 \n",
       "     cross-cultural    cross-culturally         cross-party    culture-specific \n",
       "                  6                   1                   1                   1 \n",
       "        data-driven dismissive-avoidant                 e.g       export/import \n",
       "                  1                   1                   3                   1 \n",
       "       eye-oriented             face-to    fearful-avoidant    five-dimensional \n",
       "                  1                   6                   1                   1 \n",
       "          follow-up         Gudykunst's             his/her          Hofstede's \n",
       "                  3                   1                   1                   2 \n",
       "                i.e               ICD-9  inter-disciplinary               ISP's \n",
       "                  5                   1                   1                   1 \n",
       "              K-pop         large-scale  lifestyle-oriented         main-effect \n",
       "                  3                   2                   1                   1 \n",
       "   mediation-effect       meta-analysis      mouth-oriented        news/opinion \n",
       "                  2                   1                   1                   2 \n",
       "      news/opinions          notice-and          open-ended              opt-in \n",
       "                  1                   1                   3                   2 \n",
       "            opt-out             other's     over-represents            people's \n",
       "                  1                   1                   1                   3 \n",
       "      policy-making       post-material  privacy-protective         self-esteem \n",
       "                  1                   1                   2                   3 \n",
       "  self-presentation         SNS-related     socio-political         within-bloc \n",
       "                  2                   1                   1                   1 \n",
       "     within-subject \n",
       "                  1 "
      ]
     },
     "metadata": {},
     "output_type": "display_data"
    }
   ],
   "source": [
    "#다음과 방식을 사용하면 특수기호 사용 전후의 단어들이 무엇인지 살펴볼 수 있다.\n",
    "myfunc <- function(x) {str_extract_all(x,\"[[:alnum:]]{1,}[[:punct:]]{1}?[[:alnum:]]{1,}\")}\n",
    "mypuncts <- lapply(mypaper, myfunc)\n",
    "table(unlist(mypuncts))"
   ]
  },
  {
   "cell_type": "code",
   "execution_count": 40,
   "metadata": {},
   "outputs": [
    {
     "name": "stderr",
     "output_type": "stream",
     "text": [
      "Warning message in stri_extract_all_regex(string, pattern, simplify = simplify, :\n",
      "“argument is not an atomic vector; coercing”Warning message in stri_extract_all_regex(string, pattern, simplify = simplify, :\n",
      "“argument is not an atomic vector; coercing”Warning message in stri_extract_all_regex(string, pattern, simplify = simplify, :\n",
      "“argument is not an atomic vector; coercing”Warning message in stri_extract_all_regex(string, pattern, simplify = simplify, :\n",
      "“argument is not an atomic vector; coercing”Warning message in stri_extract_all_regex(string, pattern, simplify = simplify, :\n",
      "“argument is not an atomic vector; coercing”Warning message in stri_extract_all_regex(string, pattern, simplify = simplify, :\n",
      "“argument is not an atomic vector; coercing”Warning message in stri_extract_all_regex(string, pattern, simplify = simplify, :\n",
      "“argument is not an atomic vector; coercing”Warning message in stri_extract_all_regex(string, pattern, simplify = simplify, :\n",
      "“argument is not an atomic vector; coercing”Warning message in stri_extract_all_regex(string, pattern, simplify = simplify, :\n",
      "“argument is not an atomic vector; coercing”Warning message in stri_extract_all_regex(string, pattern, simplify = simplify, :\n",
      "“argument is not an atomic vector; coercing”Warning message in stri_extract_all_regex(string, pattern, simplify = simplify, :\n",
      "“argument is not an atomic vector; coercing”Warning message in stri_extract_all_regex(string, pattern, simplify = simplify, :\n",
      "“argument is not an atomic vector; coercing”Warning message in stri_extract_all_regex(string, pattern, simplify = simplify, :\n",
      "“argument is not an atomic vector; coercing”Warning message in stri_extract_all_regex(string, pattern, simplify = simplify, :\n",
      "“argument is not an atomic vector; coercing”Warning message in stri_extract_all_regex(string, pattern, simplify = simplify, :\n",
      "“argument is not an atomic vector; coercing”Warning message in stri_extract_all_regex(string, pattern, simplify = simplify, :\n",
      "“argument is not an atomic vector; coercing”Warning message in stri_extract_all_regex(string, pattern, simplify = simplify, :\n",
      "“argument is not an atomic vector; coercing”Warning message in stri_extract_all_regex(string, pattern, simplify = simplify, :\n",
      "“argument is not an atomic vector; coercing”Warning message in stri_extract_all_regex(string, pattern, simplify = simplify, :\n",
      "“argument is not an atomic vector; coercing”Warning message in stri_extract_all_regex(string, pattern, simplify = simplify, :\n",
      "“argument is not an atomic vector; coercing”Warning message in stri_extract_all_regex(string, pattern, simplify = simplify, :\n",
      "“argument is not an atomic vector; coercing”Warning message in stri_extract_all_regex(string, pattern, simplify = simplify, :\n",
      "“argument is not an atomic vector; coercing”Warning message in stri_extract_all_regex(string, pattern, simplify = simplify, :\n",
      "“argument is not an atomic vector; coercing”Warning message in stri_extract_all_regex(string, pattern, simplify = simplify, :\n",
      "“argument is not an atomic vector; coercing”"
     ]
    },
    {
     "data": {
      "text/plain": [
       "\n",
       "   0    1   11 1973    2 2002 2003 2004 2007 2008 2012 2028    3   35    4  712 \n",
       "   1   35    1    1    9    1    1    1    1    2    2    1    7    1    2    1 \n",
       " 756   78   82    9 \n",
       "   1    1    1    1 "
      ]
     },
     "metadata": {},
     "output_type": "display_data"
    }
   ],
   "source": [
    "#다음과 방식을 사용하면 수치로 표시된 자료가 어떤 것인지 살펴볼 수 있다. \n",
    "myfunc <- function(x) {str_extract_all(x,\"[[:digit:]]{1,}\")}\n",
    "mydigits <- lapply(mypaper, myfunc)\n",
    "table(unlist(mydigits))"
   ]
  },
  {
   "cell_type": "code",
   "execution_count": 41,
   "metadata": {},
   "outputs": [
    {
     "name": "stderr",
     "output_type": "stream",
     "text": [
      "Warning message in stri_extract_all_regex(string, pattern, simplify = simplify, :\n",
      "“argument is not an atomic vector; coercing”Warning message in stri_extract_all_regex(string, pattern, simplify = simplify, :\n",
      "“argument is not an atomic vector; coercing”Warning message in stri_extract_all_regex(string, pattern, simplify = simplify, :\n",
      "“argument is not an atomic vector; coercing”Warning message in stri_extract_all_regex(string, pattern, simplify = simplify, :\n",
      "“argument is not an atomic vector; coercing”Warning message in stri_extract_all_regex(string, pattern, simplify = simplify, :\n",
      "“argument is not an atomic vector; coercing”Warning message in stri_extract_all_regex(string, pattern, simplify = simplify, :\n",
      "“argument is not an atomic vector; coercing”Warning message in stri_extract_all_regex(string, pattern, simplify = simplify, :\n",
      "“argument is not an atomic vector; coercing”Warning message in stri_extract_all_regex(string, pattern, simplify = simplify, :\n",
      "“argument is not an atomic vector; coercing”Warning message in stri_extract_all_regex(string, pattern, simplify = simplify, :\n",
      "“argument is not an atomic vector; coercing”Warning message in stri_extract_all_regex(string, pattern, simplify = simplify, :\n",
      "“argument is not an atomic vector; coercing”Warning message in stri_extract_all_regex(string, pattern, simplify = simplify, :\n",
      "“argument is not an atomic vector; coercing”Warning message in stri_extract_all_regex(string, pattern, simplify = simplify, :\n",
      "“argument is not an atomic vector; coercing”Warning message in stri_extract_all_regex(string, pattern, simplify = simplify, :\n",
      "“argument is not an atomic vector; coercing”Warning message in stri_extract_all_regex(string, pattern, simplify = simplify, :\n",
      "“argument is not an atomic vector; coercing”Warning message in stri_extract_all_regex(string, pattern, simplify = simplify, :\n",
      "“argument is not an atomic vector; coercing”Warning message in stri_extract_all_regex(string, pattern, simplify = simplify, :\n",
      "“argument is not an atomic vector; coercing”Warning message in stri_extract_all_regex(string, pattern, simplify = simplify, :\n",
      "“argument is not an atomic vector; coercing”Warning message in stri_extract_all_regex(string, pattern, simplify = simplify, :\n",
      "“argument is not an atomic vector; coercing”Warning message in stri_extract_all_regex(string, pattern, simplify = simplify, :\n",
      "“argument is not an atomic vector; coercing”Warning message in stri_extract_all_regex(string, pattern, simplify = simplify, :\n",
      "“argument is not an atomic vector; coercing”Warning message in stri_extract_all_regex(string, pattern, simplify = simplify, :\n",
      "“argument is not an atomic vector; coercing”Warning message in stri_extract_all_regex(string, pattern, simplify = simplify, :\n",
      "“argument is not an atomic vector; coercing”Warning message in stri_extract_all_regex(string, pattern, simplify = simplify, :\n",
      "“argument is not an atomic vector; coercing”Warning message in stri_extract_all_regex(string, pattern, simplify = simplify, :\n",
      "“argument is not an atomic vector; coercing”"
     ]
    },
    {
     "data": {
      "text/plain": [
       "\n",
       "     Abstract        Action  Additionally     Affective   Affirmative \n",
       "            1             1             1             3             1 \n",
       "      African          AIMS      Although   Ambivalence      American \n",
       "            1             1             2             1             1 \n",
       "    Americans            An           AND         Anger     Annenberg \n",
       "            2             1             1             1             1 \n",
       "  Application Approximately           Are            As        Asians \n",
       "            1             1             1             1             1 \n",
       "           At    BACKGROUND          Bank        Barack         Based \n",
       "            1             1             1             1             5 \n",
       "       Benoit         Black          Both            By   CONCLUSIONS \n",
       "            1             4             1             5             1 \n",
       "          CVC          Data    Democratic     Democrats    Depression \n",
       "            1             1             1             4             2 \n",
       "      Despite          Does       Drawing      Election   Expenditure \n",
       "            2             1             5             3             1 \n",
       "     Findings         First      Focusing   Furthermore         Garry \n",
       "            4             2             1             1             1 \n",
       "      General         Given     Gudykunst     Hispanics      Hofstede \n",
       "            1             1             1             1             2 \n",
       "      However           ICD  Implications            In  Independents \n",
       "            2             1             4             2             1 \n",
       "    Interface      Internet    Intonation           IRT           ISP \n",
       "            1             5             3             1             2 \n",
       "         ISPs            It          John       Kingdom         Korea \n",
       "            1             1             1             1             2 \n",
       "       Korean         Laver        Little        McCain       Medical \n",
       "           13             1             1             1             1 \n",
       "         MEPS       METHODS          Most      National         Obama \n",
       "            1             1             1             2             1 \n",
       "           On           Our         Panel         Party     Political \n",
       "            1             4             1             1             1 \n",
       "          Pop  Presidential   Programming        Racial        Rather \n",
       "            1             1             1             2             1 \n",
       "       Recent     Regarding      Relative       Relying       Results \n",
       "            1             1             1             5             3 \n",
       "      RESULTS       Sadness           SEM         Sewol           SNA \n",
       "            1             1             3             1             1 \n",
       "          SNS          SNSs          Some         South       Studies \n",
       "           23             8             1             5             2 \n",
       "        Study        Survey           The   Theoretical         These \n",
       "            1             1            11             5             2 \n",
       "         This         Three       Twitter        United        Unlike \n",
       "           12             1             1             1             1 \n",
       "        Using        Voting            We          Weak         While \n",
       "            5             1            13             1             2 \n",
       "        White          With    Wordscores         World       YouTube \n",
       "            6             3             3             1             2 "
      ]
     },
     "metadata": {},
     "output_type": "display_data"
    }
   ],
   "source": [
    "#다음과 방식을 사용하면 대문자로 시작하는 단어를 확인할 수 있다(고유명사 확인에 유용함)\n",
    "myfunc <- function(x) {str_extract_all(x,\"[[:upper:]]{1}[[:alpha:]]{1,}\")}\n",
    "myuppers <- lapply(mypaper, myfunc)\n",
    "table(unlist(myuppers))"
   ]
  },
  {
   "cell_type": "code",
   "execution_count": 42,
   "metadata": {},
   "outputs": [],
   "source": [
    "#우선 숫자표현들을 모두 삭제하였다. \n",
    "mycorpus <- tm_map(mypaper, removeNumbers)"
   ]
  },
  {
   "cell_type": "code",
   "execution_count": 43,
   "metadata": {},
   "outputs": [],
   "source": [
    "#다음으로 특수문자가 들어간 표현들 중 하나의 단어로 취급되어야 하는 것들을 처리하였다.\n",
    "#removePunctuation의 경우 텍스트 성격을 고려한 아래의 사항들을 반영하지 못한다.\n",
    "mytempfunc <- function(myobject,oldexp,newexp){\n",
    "newobject <- tm_map(myobject,\n",
    "content_transformer(function(x, pattern) gsub(pattern, newexp, x)), oldexp)\n",
    "newobject\n",
    "}\n",
    "mycorpus <- mytempfunc(mycorpus,\"-collar\",\"collar\")\n",
    "mycorpus <- mytempfunc(mycorpus,\"\\\\b((c|C)o-)\",\"co\")\n",
    "mycorpus <- mytempfunc(mycorpus,\"\\\\b((c|C)ross-)\",\"cross\")\n",
    "mycorpus <- mytempfunc(mycorpus,\"e\\\\.g\\\\.\",\"for example\")\n",
    "mycorpus <- mytempfunc(mycorpus,\"i\\\\.e\\\\.\",\"that is\")\n",
    "mycorpus <- mytempfunc(mycorpus,\"\\\\'s\",\"\")\n",
    "mycorpus <- mytempfunc(mycorpus,\"s’\",\"s\")\n",
    "mycorpus <- mytempfunc(mycorpus,\"ICD-\",\"ICD\")\n",
    "mycorpus <- mytempfunc(mycorpus,\"\\\\b((i|I)nter-)\",\"inter\")\n",
    "mycorpus <- mytempfunc(mycorpus,\"K-pop\",\"Kpop\")\n",
    "mycorpus <- mytempfunc(mycorpus,\"\\\\b((m|M)eta-)\",\"meta\")\n",
    "mycorpus <- mytempfunc(mycorpus,\"\\\\b((o|O)pt-)\",\"opt\")\n",
    "mycorpus <- mytempfunc(mycorpus,\"\\\\b((p|P)ost-)\",\"post\")\n",
    "mycorpus <- mytempfunc(mycorpus,\"-end\",\"end\")\n",
    "mycorpus <- mytempfunc(mycorpus,\"\\\\b((w|W)ithin-)\",\"within\")\n",
    "mycorpus <- mytempfunc(mycorpus,\"=\",\"is equal to\")\n",
    "mycorpus <- mytempfunc(mycorpus,\"and/or\",\"and or\")\n",
    "mycorpus <- mytempfunc(mycorpus,\"his/her\",\"his her\")\n",
    "mycorpus <- mytempfunc(mycorpus,\"-\",\" \")"
   ]
  },
  {
   "cell_type": "code",
   "execution_count": 44,
   "metadata": {},
   "outputs": [],
   "source": [
    "#나머지 특수문자들은 공란으로 처리하여 제거하였다. \n",
    "#removePunctuation의 경우 and/oR을 and or로 바꾸지 않고, andor로 바꾸는 등 여기서는 문제가 적지 않다. \n",
    "mycorpus <- tm_map(mycorpus, removePunctuation)"
   ]
  },
  {
   "cell_type": "code",
   "execution_count": 45,
   "metadata": {},
   "outputs": [],
   "source": [
    "#공란처리과정 \n",
    "mycorpus <- tm_map(mycorpus, stripWhitespace)"
   ]
  },
  {
   "cell_type": "code",
   "execution_count": 46,
   "metadata": {},
   "outputs": [],
   "source": [
    "#대소문자를 통합하였다. \n",
    "mycorpus <- tm_map(mycorpus, content_transformer(tolower))"
   ]
  },
  {
   "cell_type": "code",
   "execution_count": 47,
   "metadata": {},
   "outputs": [],
   "source": [
    "#불용단어들 삭제(SMART 목록 사용)\n",
    "mycorpus <- tm_map(mycorpus, removeWords, words=stopwords(\"SMART\"))"
   ]
  },
  {
   "cell_type": "code",
   "execution_count": 48,
   "metadata": {},
   "outputs": [],
   "source": [
    "#스테밍(어근동일화) 처리하였다. \n",
    "mycorpus <- tm_map(mycorpus, stemDocument, language=\"en\")"
   ]
  },
  {
   "cell_type": "code",
   "execution_count": 49,
   "metadata": {},
   "outputs": [],
   "source": [
    "#우선 문자수와 단어수를 계산하기 위한 개인맞춤형 함수 설정\n",
    "mycharfunc <- function(x) {str_extract_all(x,\".\")}\n",
    "mywordfunc <- function(x) {str_extract_all(x,boundary(\"word\"))}"
   ]
  },
  {
   "cell_type": "code",
   "execution_count": 50,
   "metadata": {},
   "outputs": [
    {
     "name": "stderr",
     "output_type": "stream",
     "text": [
      "Warning message in stri_extract_all_regex(string, pattern, simplify = simplify, :\n",
      "“argument is not an atomic vector; coercing”Warning message in stri_extract_all_regex(string, pattern, simplify = simplify, :\n",
      "“argument is not an atomic vector; coercing”Warning message in stri_extract_all_regex(string, pattern, simplify = simplify, :\n",
      "“argument is not an atomic vector; coercing”Warning message in stri_extract_all_regex(string, pattern, simplify = simplify, :\n",
      "“argument is not an atomic vector; coercing”Warning message in stri_extract_all_regex(string, pattern, simplify = simplify, :\n",
      "“argument is not an atomic vector; coercing”Warning message in stri_extract_all_regex(string, pattern, simplify = simplify, :\n",
      "“argument is not an atomic vector; coercing”Warning message in stri_extract_all_regex(string, pattern, simplify = simplify, :\n",
      "“argument is not an atomic vector; coercing”Warning message in stri_extract_all_regex(string, pattern, simplify = simplify, :\n",
      "“argument is not an atomic vector; coercing”Warning message in stri_extract_all_regex(string, pattern, simplify = simplify, :\n",
      "“argument is not an atomic vector; coercing”Warning message in stri_extract_all_regex(string, pattern, simplify = simplify, :\n",
      "“argument is not an atomic vector; coercing”Warning message in stri_extract_all_regex(string, pattern, simplify = simplify, :\n",
      "“argument is not an atomic vector; coercing”Warning message in stri_extract_all_regex(string, pattern, simplify = simplify, :\n",
      "“argument is not an atomic vector; coercing”Warning message in stri_extract_all_regex(string, pattern, simplify = simplify, :\n",
      "“argument is not an atomic vector; coercing”Warning message in stri_extract_all_regex(string, pattern, simplify = simplify, :\n",
      "“argument is not an atomic vector; coercing”Warning message in stri_extract_all_regex(string, pattern, simplify = simplify, :\n",
      "“argument is not an atomic vector; coercing”Warning message in stri_extract_all_regex(string, pattern, simplify = simplify, :\n",
      "“argument is not an atomic vector; coercing”Warning message in stri_extract_all_regex(string, pattern, simplify = simplify, :\n",
      "“argument is not an atomic vector; coercing”Warning message in stri_extract_all_regex(string, pattern, simplify = simplify, :\n",
      "“argument is not an atomic vector; coercing”Warning message in stri_extract_all_regex(string, pattern, simplify = simplify, :\n",
      "“argument is not an atomic vector; coercing”Warning message in stri_extract_all_regex(string, pattern, simplify = simplify, :\n",
      "“argument is not an atomic vector; coercing”Warning message in stri_extract_all_regex(string, pattern, simplify = simplify, :\n",
      "“argument is not an atomic vector; coercing”Warning message in stri_extract_all_regex(string, pattern, simplify = simplify, :\n",
      "“argument is not an atomic vector; coercing”Warning message in stri_extract_all_regex(string, pattern, simplify = simplify, :\n",
      "“argument is not an atomic vector; coercing”Warning message in stri_extract_all_regex(string, pattern, simplify = simplify, :\n",
      "“argument is not an atomic vector; coercing”Warning message in stri_extract_all_boundaries(string, pattern, simplify = simplify, :\n",
      "“argument is not an atomic vector; coercing”Warning message in stri_extract_all_boundaries(string, pattern, simplify = simplify, :\n",
      "“argument is not an atomic vector; coercing”Warning message in stri_extract_all_boundaries(string, pattern, simplify = simplify, :\n",
      "“argument is not an atomic vector; coercing”Warning message in stri_extract_all_boundaries(string, pattern, simplify = simplify, :\n",
      "“argument is not an atomic vector; coercing”Warning message in stri_extract_all_boundaries(string, pattern, simplify = simplify, :\n",
      "“argument is not an atomic vector; coercing”Warning message in stri_extract_all_boundaries(string, pattern, simplify = simplify, :\n",
      "“argument is not an atomic vector; coercing”Warning message in stri_extract_all_boundaries(string, pattern, simplify = simplify, :\n",
      "“argument is not an atomic vector; coercing”Warning message in stri_extract_all_boundaries(string, pattern, simplify = simplify, :\n",
      "“argument is not an atomic vector; coercing”Warning message in stri_extract_all_boundaries(string, pattern, simplify = simplify, :\n",
      "“argument is not an atomic vector; coercing”Warning message in stri_extract_all_boundaries(string, pattern, simplify = simplify, :\n",
      "“argument is not an atomic vector; coercing”Warning message in stri_extract_all_boundaries(string, pattern, simplify = simplify, :\n",
      "“argument is not an atomic vector; coercing”Warning message in stri_extract_all_boundaries(string, pattern, simplify = simplify, :\n",
      "“argument is not an atomic vector; coercing”Warning message in stri_extract_all_boundaries(string, pattern, simplify = simplify, :\n",
      "“argument is not an atomic vector; coercing”Warning message in stri_extract_all_boundaries(string, pattern, simplify = simplify, :\n",
      "“argument is not an atomic vector; coercing”Warning message in stri_extract_all_boundaries(string, pattern, simplify = simplify, :\n",
      "“argument is not an atomic vector; coercing”Warning message in stri_extract_all_boundaries(string, pattern, simplify = simplify, :\n",
      "“argument is not an atomic vector; coercing”Warning message in stri_extract_all_boundaries(string, pattern, simplify = simplify, :\n",
      "“argument is not an atomic vector; coercing”Warning message in stri_extract_all_boundaries(string, pattern, simplify = simplify, :\n",
      "“argument is not an atomic vector; coercing”Warning message in stri_extract_all_boundaries(string, pattern, simplify = simplify, :\n",
      "“argument is not an atomic vector; coercing”Warning message in stri_extract_all_boundaries(string, pattern, simplify = simplify, :\n",
      "“argument is not an atomic vector; coercing”Warning message in stri_extract_all_boundaries(string, pattern, simplify = simplify, :\n",
      "“argument is not an atomic vector; coercing”Warning message in stri_extract_all_boundaries(string, pattern, simplify = simplify, :\n",
      "“argument is not an atomic vector; coercing”Warning message in stri_extract_all_boundaries(string, pattern, simplify = simplify, :\n",
      "“argument is not an atomic vector; coercing”Warning message in stri_extract_all_boundaries(string, pattern, simplify = simplify, :\n",
      "“argument is not an atomic vector; coercing”"
     ]
    }
   ],
   "source": [
    "#사전처리과정 적용이전\n",
    "mychar <- lapply(mypaper, mycharfunc)\n",
    "myuniquechar0 <- length(table(unlist(mychar)))\n",
    "mytotalchar0 <- sum(table(unlist(mychar)))\n",
    "myword <- lapply(mypaper, mywordfunc)\n",
    "myuniqueword0 <- length(table(unlist(myword)))\n",
    "mytotalword0 <- sum(table(unlist(myword)))"
   ]
  },
  {
   "cell_type": "code",
   "execution_count": 51,
   "metadata": {},
   "outputs": [
    {
     "name": "stderr",
     "output_type": "stream",
     "text": [
      "Warning message in stri_extract_all_regex(string, pattern, simplify = simplify, :\n",
      "“argument is not an atomic vector; coercing”Warning message in stri_extract_all_regex(string, pattern, simplify = simplify, :\n",
      "“argument is not an atomic vector; coercing”Warning message in stri_extract_all_regex(string, pattern, simplify = simplify, :\n",
      "“argument is not an atomic vector; coercing”Warning message in stri_extract_all_regex(string, pattern, simplify = simplify, :\n",
      "“argument is not an atomic vector; coercing”Warning message in stri_extract_all_regex(string, pattern, simplify = simplify, :\n",
      "“argument is not an atomic vector; coercing”Warning message in stri_extract_all_regex(string, pattern, simplify = simplify, :\n",
      "“argument is not an atomic vector; coercing”Warning message in stri_extract_all_regex(string, pattern, simplify = simplify, :\n",
      "“argument is not an atomic vector; coercing”Warning message in stri_extract_all_regex(string, pattern, simplify = simplify, :\n",
      "“argument is not an atomic vector; coercing”Warning message in stri_extract_all_regex(string, pattern, simplify = simplify, :\n",
      "“argument is not an atomic vector; coercing”Warning message in stri_extract_all_regex(string, pattern, simplify = simplify, :\n",
      "“argument is not an atomic vector; coercing”Warning message in stri_extract_all_regex(string, pattern, simplify = simplify, :\n",
      "“argument is not an atomic vector; coercing”Warning message in stri_extract_all_regex(string, pattern, simplify = simplify, :\n",
      "“argument is not an atomic vector; coercing”Warning message in stri_extract_all_regex(string, pattern, simplify = simplify, :\n",
      "“argument is not an atomic vector; coercing”Warning message in stri_extract_all_regex(string, pattern, simplify = simplify, :\n",
      "“argument is not an atomic vector; coercing”Warning message in stri_extract_all_regex(string, pattern, simplify = simplify, :\n",
      "“argument is not an atomic vector; coercing”Warning message in stri_extract_all_regex(string, pattern, simplify = simplify, :\n",
      "“argument is not an atomic vector; coercing”Warning message in stri_extract_all_regex(string, pattern, simplify = simplify, :\n",
      "“argument is not an atomic vector; coercing”Warning message in stri_extract_all_regex(string, pattern, simplify = simplify, :\n",
      "“argument is not an atomic vector; coercing”Warning message in stri_extract_all_regex(string, pattern, simplify = simplify, :\n",
      "“argument is not an atomic vector; coercing”Warning message in stri_extract_all_regex(string, pattern, simplify = simplify, :\n",
      "“argument is not an atomic vector; coercing”Warning message in stri_extract_all_regex(string, pattern, simplify = simplify, :\n",
      "“argument is not an atomic vector; coercing”Warning message in stri_extract_all_regex(string, pattern, simplify = simplify, :\n",
      "“argument is not an atomic vector; coercing”Warning message in stri_extract_all_regex(string, pattern, simplify = simplify, :\n",
      "“argument is not an atomic vector; coercing”Warning message in stri_extract_all_regex(string, pattern, simplify = simplify, :\n",
      "“argument is not an atomic vector; coercing”Warning message in stri_extract_all_boundaries(string, pattern, simplify = simplify, :\n",
      "“argument is not an atomic vector; coercing”Warning message in stri_extract_all_boundaries(string, pattern, simplify = simplify, :\n",
      "“argument is not an atomic vector; coercing”Warning message in stri_extract_all_boundaries(string, pattern, simplify = simplify, :\n",
      "“argument is not an atomic vector; coercing”Warning message in stri_extract_all_boundaries(string, pattern, simplify = simplify, :\n",
      "“argument is not an atomic vector; coercing”Warning message in stri_extract_all_boundaries(string, pattern, simplify = simplify, :\n",
      "“argument is not an atomic vector; coercing”Warning message in stri_extract_all_boundaries(string, pattern, simplify = simplify, :\n",
      "“argument is not an atomic vector; coercing”Warning message in stri_extract_all_boundaries(string, pattern, simplify = simplify, :\n",
      "“argument is not an atomic vector; coercing”Warning message in stri_extract_all_boundaries(string, pattern, simplify = simplify, :\n",
      "“argument is not an atomic vector; coercing”Warning message in stri_extract_all_boundaries(string, pattern, simplify = simplify, :\n",
      "“argument is not an atomic vector; coercing”Warning message in stri_extract_all_boundaries(string, pattern, simplify = simplify, :\n",
      "“argument is not an atomic vector; coercing”Warning message in stri_extract_all_boundaries(string, pattern, simplify = simplify, :\n",
      "“argument is not an atomic vector; coercing”Warning message in stri_extract_all_boundaries(string, pattern, simplify = simplify, :\n",
      "“argument is not an atomic vector; coercing”Warning message in stri_extract_all_boundaries(string, pattern, simplify = simplify, :\n",
      "“argument is not an atomic vector; coercing”Warning message in stri_extract_all_boundaries(string, pattern, simplify = simplify, :\n",
      "“argument is not an atomic vector; coercing”Warning message in stri_extract_all_boundaries(string, pattern, simplify = simplify, :\n",
      "“argument is not an atomic vector; coercing”Warning message in stri_extract_all_boundaries(string, pattern, simplify = simplify, :\n",
      "“argument is not an atomic vector; coercing”Warning message in stri_extract_all_boundaries(string, pattern, simplify = simplify, :\n",
      "“argument is not an atomic vector; coercing”Warning message in stri_extract_all_boundaries(string, pattern, simplify = simplify, :\n",
      "“argument is not an atomic vector; coercing”Warning message in stri_extract_all_boundaries(string, pattern, simplify = simplify, :\n",
      "“argument is not an atomic vector; coercing”Warning message in stri_extract_all_boundaries(string, pattern, simplify = simplify, :\n",
      "“argument is not an atomic vector; coercing”Warning message in stri_extract_all_boundaries(string, pattern, simplify = simplify, :\n",
      "“argument is not an atomic vector; coercing”Warning message in stri_extract_all_boundaries(string, pattern, simplify = simplify, :\n",
      "“argument is not an atomic vector; coercing”Warning message in stri_extract_all_boundaries(string, pattern, simplify = simplify, :\n",
      "“argument is not an atomic vector; coercing”Warning message in stri_extract_all_boundaries(string, pattern, simplify = simplify, :\n",
      "“argument is not an atomic vector; coercing”"
     ]
    }
   ],
   "source": [
    "#사전처리과정 적용이후\n",
    "mychar <- lapply(mycorpus, mycharfunc)\n",
    "myuniquechar1 <- length(table(unlist(mychar)))\n",
    "mytotalchar1 <- sum(table(unlist(mychar)))\n",
    "myword <- lapply(mycorpus, mywordfunc)\n",
    "myuniqueword1 <- length(table(unlist(myword)))\n",
    "mytotalword1 <- sum(table(unlist(myword)))"
   ]
  },
  {
   "cell_type": "code",
   "execution_count": 52,
   "metadata": {},
   "outputs": [
    {
     "data": {
      "text/html": [
       "<table>\n",
       "<caption>A matrix: 4 × 2 of type int</caption>\n",
       "<thead>\n",
       "\t<tr><th></th><th scope=col>before</th><th scope=col>after</th></tr>\n",
       "</thead>\n",
       "<tbody>\n",
       "\t<tr><th scope=row>고유문자수</th><td>   77</td><td>   27</td></tr>\n",
       "\t<tr><th scope=row>총문자수</th><td>24940</td><td>14605</td></tr>\n",
       "\t<tr><th scope=row>고유단어수</th><td> 1155</td><td>  687</td></tr>\n",
       "\t<tr><th scope=row>총단어수</th><td> 3556</td><td> 2045</td></tr>\n",
       "</tbody>\n",
       "</table>\n"
      ],
      "text/latex": [
       "A matrix: 4 × 2 of type int\n",
       "\\begin{tabular}{r|ll}\n",
       "  & before & after\\\\\n",
       "\\hline\n",
       "\t고유문자수 &    77 &    27\\\\\n",
       "\t총문자수 & 24940 & 14605\\\\\n",
       "\t고유단어수 &  1155 &   687\\\\\n",
       "\t총단어수 &  3556 &  2045\\\\\n",
       "\\end{tabular}\n"
      ],
      "text/markdown": [
       "\n",
       "A matrix: 4 × 2 of type int\n",
       "\n",
       "| <!--/--> | before | after |\n",
       "|---|---|---|\n",
       "| 고유문자수 |    77 |    27 |\n",
       "| 총문자수 | 24940 | 14605 |\n",
       "| 고유단어수 |  1155 |   687 |\n",
       "| 총단어수 |  3556 |  2045 |\n",
       "\n"
      ],
      "text/plain": [
       "           before after\n",
       "고유문자수    77     27\n",
       "총문자수   24940  14605\n",
       "고유단어수  1155    687\n",
       "총단어수    3556   2045"
      ]
     },
     "metadata": {},
     "output_type": "display_data"
    }
   ],
   "source": [
    "#사전처리로 인해 어떻게 변화했는지를 살펴보자. \n",
    "results.comparing <- rbind(\n",
    "  c(myuniquechar0,myuniquechar1),\n",
    "  c(mytotalchar0,mytotalchar1),\n",
    "  c(myuniqueword0,myuniqueword1),\n",
    "  c(mytotalword0,mytotalword1))\n",
    "colnames(results.comparing) <- c(\"before\",\"after\")\n",
    "rownames(results.comparing) <- c(\"고유문자수\",\"총문자수\",\"고유단어수\",\"총단어수\")\n",
    "results.comparing"
   ]
  },
  {
   "cell_type": "code",
   "execution_count": 53,
   "metadata": {},
   "outputs": [],
   "source": [
    "#이제 문서X단어행렬을 구축하자.\n",
    "#TermDocumentMatrix를 사용하면 가로줄에는 단어가, 세로줄에는 문서가 배치된다. \n",
    "# hygjob2\n",
    "dtm.e <- DocumentTermMatrix(mycorpus) "
   ]
  },
  {
   "cell_type": "markdown",
   "metadata": {},
   "source": [
    "## 지금까지 dtm.e를 구하는 과정이었다. \n",
    "## 3부 01 - 텍스트 데이터에 대한 기술통계분석를 시작하자"
   ]
  },
  {
   "cell_type": "code",
   "execution_count": 54,
   "metadata": {},
   "outputs": [
    {
     "data": {
      "text/html": [
       "<dl class=dl-horizontal>\n",
       "\t<dt>aaebuycottingaaf</dt>\n",
       "\t\t<dd>1</dd>\n",
       "\t<dt>aaeoptinaaf</dt>\n",
       "\t\t<dd>1</dd>\n",
       "\t<dt>aaeoptoutaaf</dt>\n",
       "\t\t<dd>1</dd>\n",
       "\t<dt>abnotic</dt>\n",
       "\t\t<dd>1</dd>\n",
       "\t<dt>abstract</dt>\n",
       "\t\t<dd>1</dd>\n",
       "\t<dt>academ</dt>\n",
       "\t\t<dd>1</dd>\n",
       "</dl>\n"
      ],
      "text/latex": [
       "\\begin{description*}\n",
       "\\item[aaebuycottingaaf] 1\n",
       "\\item[aaeoptinaaf] 1\n",
       "\\item[aaeoptoutaaf] 1\n",
       "\\item[abnotic] 1\n",
       "\\item[abstract] 1\n",
       "\\item[academ] 1\n",
       "\\end{description*}\n"
      ],
      "text/markdown": [
       "aaebuycottingaaf\n",
       ":   1aaeoptinaaf\n",
       ":   1aaeoptoutaaf\n",
       ":   1abnotic\n",
       ":   1abstract\n",
       ":   1academ\n",
       ":   1\n",
       "\n"
      ],
      "text/plain": [
       "aaebuycottingaaf      aaeoptinaaf     aaeoptoutaaf          abnotic \n",
       "               1                1                1                1 \n",
       "        abstract           academ \n",
       "               1                1 "
      ]
     },
     "metadata": {},
     "output_type": "display_data"
    },
    {
     "data": {
      "text/html": [
       "686"
      ],
      "text/latex": [
       "686"
      ],
      "text/markdown": [
       "686"
      ],
      "text/plain": [
       "[1] 686"
      ]
     },
     "metadata": {},
     "output_type": "display_data"
    }
   ],
   "source": [
    "#tm 라이브러리 함수를 설명했던 dtm.e 오브젝트를 사용할 것이다. \n",
    "#먼저 단어의 발현빈도를 구해보자. \n",
    "word.freq <- apply(dtm.e[,],2,sum)\n",
    "#아래와 같은 형식의 벡터가 구성되어 있고, 총 단어수는 678로 나타났다. \n",
    "head(word.freq)\n",
    "length(word.freq)"
   ]
  },
  {
   "cell_type": "code",
   "execution_count": 58,
   "metadata": {},
   "outputs": [
    {
     "data": {
      "text/html": [
       "<pre class=language-r><code>function (string, start = 1L, end = start, sep = fixed(\" \")) \n",
       "{\n",
       "<span style=white-space:pre-wrap>    n &lt;- max(length(string), length(start), length(end))</span>\n",
       "<span style=white-space:pre-wrap>    string &lt;- rep(string, length.out = n)</span>\n",
       "<span style=white-space:pre-wrap>    start &lt;- rep(start, length.out = n)</span>\n",
       "<span style=white-space:pre-wrap>    end &lt;- rep(end, length.out = n)</span>\n",
       "<span style=white-space:pre-wrap>    breaks &lt;- str_locate_all(string, sep)</span>\n",
       "<span style=white-space:pre-wrap>    words &lt;- lapply(breaks, invert_match)</span>\n",
       "<span style=white-space:pre-wrap>    len &lt;- vapply(words, nrow, integer(1))</span>\n",
       "<span style=white-space:pre-wrap>    neg_start &lt;- !is.na(start) &amp; start &lt; 0L</span>\n",
       "<span style=white-space:pre-wrap>    start[neg_start] &lt;- start[neg_start] + len[neg_start] + 1L</span>\n",
       "<span style=white-space:pre-wrap>    neg_end &lt;- !is.na(end) &amp; end &lt; 0L</span>\n",
       "<span style=white-space:pre-wrap>    end[neg_end] &lt;- end[neg_end] + len[neg_end] + 1L</span>\n",
       "<span style=white-space:pre-wrap>    start[start &gt; len] &lt;- NA</span>\n",
       "<span style=white-space:pre-wrap>    end[end &gt; len] &lt;- NA</span>\n",
       "<span style=white-space:pre-wrap>    starts &lt;- mapply(function(word, loc) word[loc, \"start\"], </span>\n",
       "<span style=white-space:pre-wrap>        words, start)</span>\n",
       "<span style=white-space:pre-wrap>    ends &lt;- mapply(function(word, loc) word[loc, \"end\"], words, </span>\n",
       "<span style=white-space:pre-wrap>        end)</span>\n",
       "<span style=white-space:pre-wrap>    str_sub(string, starts, ends)</span>\n",
       "}</code></pre>"
      ],
      "text/latex": [
       "\\begin{minted}{r}\n",
       "function (string, start = 1L, end = start, sep = fixed(\" \")) \n",
       "\\{\n",
       "    n <- max(length(string), length(start), length(end))\n",
       "    string <- rep(string, length.out = n)\n",
       "    start <- rep(start, length.out = n)\n",
       "    end <- rep(end, length.out = n)\n",
       "    breaks <- str\\_locate\\_all(string, sep)\n",
       "    words <- lapply(breaks, invert\\_match)\n",
       "    len <- vapply(words, nrow, integer(1))\n",
       "    neg\\_start <- !is.na(start) \\& start < 0L\n",
       "    start{[}neg\\_start{]} <- start{[}neg\\_start{]} + len{[}neg\\_start{]} + 1L\n",
       "    neg\\_end <- !is.na(end) \\& end < 0L\n",
       "    end{[}neg\\_end{]} <- end{[}neg\\_end{]} + len{[}neg\\_end{]} + 1L\n",
       "    start{[}start > len{]} <- NA\n",
       "    end{[}end > len{]} <- NA\n",
       "    starts <- mapply(function(word, loc) word{[}loc, \"start\"{]}, \n",
       "        words, start)\n",
       "    ends <- mapply(function(word, loc) word{[}loc, \"end\"{]}, words, \n",
       "        end)\n",
       "    str\\_sub(string, starts, ends)\n",
       "\\}\n",
       "\\end{minted}"
      ],
      "text/markdown": [
       "```r\n",
       "function (string, start = 1L, end = start, sep = fixed(\" \")) \n",
       "{\n",
       "    n <- max(length(string), length(start), length(end))\n",
       "    string <- rep(string, length.out = n)\n",
       "    start <- rep(start, length.out = n)\n",
       "    end <- rep(end, length.out = n)\n",
       "    breaks <- str_locate_all(string, sep)\n",
       "    words <- lapply(breaks, invert_match)\n",
       "    len <- vapply(words, nrow, integer(1))\n",
       "    neg_start <- !is.na(start) & start < 0L\n",
       "    start[neg_start] <- start[neg_start] + len[neg_start] + 1L\n",
       "    neg_end <- !is.na(end) & end < 0L\n",
       "    end[neg_end] <- end[neg_end] + len[neg_end] + 1L\n",
       "    start[start > len] <- NA\n",
       "    end[end > len] <- NA\n",
       "    starts <- mapply(function(word, loc) word[loc, \"start\"], \n",
       "        words, start)\n",
       "    ends <- mapply(function(word, loc) word[loc, \"end\"], words, \n",
       "        end)\n",
       "    str_sub(string, starts, ends)\n",
       "}\n",
       "```"
      ],
      "text/plain": [
       "function (string, start = 1L, end = start, sep = fixed(\" \")) \n",
       "{\n",
       "    n <- max(length(string), length(start), length(end))\n",
       "    string <- rep(string, length.out = n)\n",
       "    start <- rep(start, length.out = n)\n",
       "    end <- rep(end, length.out = n)\n",
       "    breaks <- str_locate_all(string, sep)\n",
       "    words <- lapply(breaks, invert_match)\n",
       "    len <- vapply(words, nrow, integer(1))\n",
       "    neg_start <- !is.na(start) & start < 0L\n",
       "    start[neg_start] <- start[neg_start] + len[neg_start] + 1L\n",
       "    neg_end <- !is.na(end) & end < 0L\n",
       "    end[neg_end] <- end[neg_end] + len[neg_end] + 1L\n",
       "    start[start > len] <- NA\n",
       "    end[end > len] <- NA\n",
       "    starts <- mapply(function(word, loc) word[loc, \"start\"], \n",
       "        words, start)\n",
       "    ends <- mapply(function(word, loc) word[loc, \"end\"], words, \n",
       "        end)\n",
       "    str_sub(string, starts, ends)\n",
       "}\n",
       "<bytecode: 0x52a3ae8>\n",
       "<environment: namespace:stringr>"
      ]
     },
     "metadata": {},
     "output_type": "display_data"
    }
   ],
   "source": [
    "word"
   ]
  },
  {
   "cell_type": "code",
   "execution_count": 62,
   "metadata": {},
   "outputs": [
    {
     "data": {
      "text/html": [
       "<dl class=dl-horizontal>\n",
       "\t<dt>studi</dt>\n",
       "\t\t<dd>45</dd>\n",
       "\t<dt>polit</dt>\n",
       "\t\t<dd>35</dd>\n",
       "\t<dt>effect</dt>\n",
       "\t\t<dd>27</dd>\n",
       "\t<dt>onlin</dt>\n",
       "\t\t<dd>27</dd>\n",
       "\t<dt>cultur</dt>\n",
       "\t\t<dd>26</dd>\n",
       "\t<dt>find</dt>\n",
       "\t\t<dd>24</dd>\n",
       "\t<dt>sns</dt>\n",
       "\t\t<dd>23</dd>\n",
       "\t<dt>social</dt>\n",
       "\t\t<dd>22</dd>\n",
       "\t<dt>privaci</dt>\n",
       "\t\t<dd>19</dd>\n",
       "\t<dt>influenc</dt>\n",
       "\t\t<dd>16</dd>\n",
       "\t<dt>model</dt>\n",
       "\t\t<dd>16</dd>\n",
       "\t<dt>examin</dt>\n",
       "\t\t<dd>15</dd>\n",
       "\t<dt>relationship</dt>\n",
       "\t\t<dd>15</dd>\n",
       "\t<dt>survey</dt>\n",
       "\t\t<dd>15</dd>\n",
       "\t<dt>poll</dt>\n",
       "\t\t<dd>14</dd>\n",
       "\t<dt>korean</dt>\n",
       "\t\t<dd>13</dd>\n",
       "\t<dt>user</dt>\n",
       "\t\t<dd>13</dd>\n",
       "\t<dt>discuss</dt>\n",
       "\t\t<dd>12</dd>\n",
       "\t<dt>face</dt>\n",
       "\t\t<dd>12</dd>\n",
       "\t<dt>implic</dt>\n",
       "\t\t<dd>12</dd>\n",
       "</dl>\n"
      ],
      "text/latex": [
       "\\begin{description*}\n",
       "\\item[studi] 45\n",
       "\\item[polit] 35\n",
       "\\item[effect] 27\n",
       "\\item[onlin] 27\n",
       "\\item[cultur] 26\n",
       "\\item[find] 24\n",
       "\\item[sns] 23\n",
       "\\item[social] 22\n",
       "\\item[privaci] 19\n",
       "\\item[influenc] 16\n",
       "\\item[model] 16\n",
       "\\item[examin] 15\n",
       "\\item[relationship] 15\n",
       "\\item[survey] 15\n",
       "\\item[poll] 14\n",
       "\\item[korean] 13\n",
       "\\item[user] 13\n",
       "\\item[discuss] 12\n",
       "\\item[face] 12\n",
       "\\item[implic] 12\n",
       "\\end{description*}\n"
      ],
      "text/markdown": [
       "studi\n",
       ":   45polit\n",
       ":   35effect\n",
       ":   27onlin\n",
       ":   27cultur\n",
       ":   26find\n",
       ":   24sns\n",
       ":   23social\n",
       ":   22privaci\n",
       ":   19influenc\n",
       ":   16model\n",
       ":   16examin\n",
       ":   15relationship\n",
       ":   15survey\n",
       ":   15poll\n",
       ":   14korean\n",
       ":   13user\n",
       ":   13discuss\n",
       ":   12face\n",
       ":   12implic\n",
       ":   12\n",
       "\n"
      ],
      "text/plain": [
       "       studi        polit       effect        onlin       cultur         find \n",
       "          45           35           27           27           26           24 \n",
       "         sns       social      privaci     influenc        model       examin \n",
       "          23           22           19           16           16           15 \n",
       "relationship       survey         poll       korean         user      discuss \n",
       "          15           15           14           13           13           12 \n",
       "        face       implic \n",
       "          12           12 "
      ]
     },
     "metadata": {},
     "output_type": "display_data"
    }
   ],
   "source": [
    "#빈도가 높은 것부터 낮은 것으로 정렬하자. \n",
    "sort.word.freq <- sort(word.freq,decreasing=TRUE)\n",
    "sort.word.freq[1:20]"
   ]
  },
  {
   "cell_type": "code",
   "execution_count": 65,
   "metadata": {},
   "outputs": [
    {
     "data": {
      "text/html": [
       "<dl class=dl-horizontal>\n",
       "\t<dt>studi</dt>\n",
       "\t\t<dd>45</dd>\n",
       "\t<dt>polit</dt>\n",
       "\t\t<dd>80</dd>\n",
       "\t<dt>effect</dt>\n",
       "\t\t<dd>107</dd>\n",
       "\t<dt>onlin</dt>\n",
       "\t\t<dd>134</dd>\n",
       "\t<dt>cultur</dt>\n",
       "\t\t<dd>160</dd>\n",
       "\t<dt>find</dt>\n",
       "\t\t<dd>184</dd>\n",
       "\t<dt>sns</dt>\n",
       "\t\t<dd>207</dd>\n",
       "\t<dt>social</dt>\n",
       "\t\t<dd>229</dd>\n",
       "\t<dt>privaci</dt>\n",
       "\t\t<dd>248</dd>\n",
       "\t<dt>influenc</dt>\n",
       "\t\t<dd>264</dd>\n",
       "\t<dt>model</dt>\n",
       "\t\t<dd>280</dd>\n",
       "\t<dt>examin</dt>\n",
       "\t\t<dd>295</dd>\n",
       "\t<dt>relationship</dt>\n",
       "\t\t<dd>310</dd>\n",
       "\t<dt>survey</dt>\n",
       "\t\t<dd>325</dd>\n",
       "\t<dt>poll</dt>\n",
       "\t\t<dd>339</dd>\n",
       "\t<dt>korean</dt>\n",
       "\t\t<dd>352</dd>\n",
       "\t<dt>user</dt>\n",
       "\t\t<dd>365</dd>\n",
       "\t<dt>discuss</dt>\n",
       "\t\t<dd>377</dd>\n",
       "\t<dt>face</dt>\n",
       "\t\t<dd>389</dd>\n",
       "\t<dt>implic</dt>\n",
       "\t\t<dd>401</dd>\n",
       "</dl>\n"
      ],
      "text/latex": [
       "\\begin{description*}\n",
       "\\item[studi] 45\n",
       "\\item[polit] 80\n",
       "\\item[effect] 107\n",
       "\\item[onlin] 134\n",
       "\\item[cultur] 160\n",
       "\\item[find] 184\n",
       "\\item[sns] 207\n",
       "\\item[social] 229\n",
       "\\item[privaci] 248\n",
       "\\item[influenc] 264\n",
       "\\item[model] 280\n",
       "\\item[examin] 295\n",
       "\\item[relationship] 310\n",
       "\\item[survey] 325\n",
       "\\item[poll] 339\n",
       "\\item[korean] 352\n",
       "\\item[user] 365\n",
       "\\item[discuss] 377\n",
       "\\item[face] 389\n",
       "\\item[implic] 401\n",
       "\\end{description*}\n"
      ],
      "text/markdown": [
       "studi\n",
       ":   45polit\n",
       ":   80effect\n",
       ":   107onlin\n",
       ":   134cultur\n",
       ":   160find\n",
       ":   184sns\n",
       ":   207social\n",
       ":   229privaci\n",
       ":   248influenc\n",
       ":   264model\n",
       ":   280examin\n",
       ":   295relationship\n",
       ":   310survey\n",
       ":   325poll\n",
       ":   339korean\n",
       ":   352user\n",
       ":   365discuss\n",
       ":   377face\n",
       ":   389implic\n",
       ":   401\n",
       "\n"
      ],
      "text/plain": [
       "       studi        polit       effect        onlin       cultur         find \n",
       "          45           80          107          134          160          184 \n",
       "         sns       social      privaci     influenc        model       examin \n",
       "         207          229          248          264          280          295 \n",
       "relationship       survey         poll       korean         user      discuss \n",
       "         310          325          339          352          365          377 \n",
       "        face       implic \n",
       "         389          401 "
      ]
     },
     "metadata": {},
     "output_type": "display_data"
    }
   ],
   "source": [
    "#다음과 같이 하면 누적빈도를 계산할 수 있다. \n",
    "cumsum.word.freq <- cumsum(sort.word.freq)\n",
    "cumsum.word.freq[1:20]"
   ]
  },
  {
   "cell_type": "code",
   "execution_count": 66,
   "metadata": {},
   "outputs": [
    {
     "data": {
      "text/html": [
       "<dl class=dl-horizontal>\n",
       "\t<dt>studi</dt>\n",
       "\t\t<dd>0.0220156555772994</dd>\n",
       "\t<dt>polit</dt>\n",
       "\t\t<dd>0.0391389432485323</dd>\n",
       "\t<dt>effect</dt>\n",
       "\t\t<dd>0.0523483365949119</dd>\n",
       "\t<dt>onlin</dt>\n",
       "\t\t<dd>0.0655577299412916</dd>\n",
       "\t<dt>cultur</dt>\n",
       "\t\t<dd>0.0782778864970646</dd>\n",
       "\t<dt>find</dt>\n",
       "\t\t<dd>0.0900195694716243</dd>\n",
       "\t<dt>sns</dt>\n",
       "\t\t<dd>0.101272015655577</dd>\n",
       "\t<dt>social</dt>\n",
       "\t\t<dd>0.112035225048924</dd>\n",
       "\t<dt>privaci</dt>\n",
       "\t\t<dd>0.12133072407045</dd>\n",
       "\t<dt>influenc</dt>\n",
       "\t\t<dd>0.129158512720157</dd>\n",
       "\t<dt>model</dt>\n",
       "\t\t<dd>0.136986301369863</dd>\n",
       "\t<dt>examin</dt>\n",
       "\t\t<dd>0.144324853228963</dd>\n",
       "\t<dt>relationship</dt>\n",
       "\t\t<dd>0.151663405088063</dd>\n",
       "\t<dt>survey</dt>\n",
       "\t\t<dd>0.159001956947162</dd>\n",
       "\t<dt>poll</dt>\n",
       "\t\t<dd>0.165851272015656</dd>\n",
       "\t<dt>korean</dt>\n",
       "\t\t<dd>0.172211350293542</dd>\n",
       "\t<dt>user</dt>\n",
       "\t\t<dd>0.178571428571429</dd>\n",
       "\t<dt>discuss</dt>\n",
       "\t\t<dd>0.184442270058708</dd>\n",
       "\t<dt>face</dt>\n",
       "\t\t<dd>0.190313111545988</dd>\n",
       "\t<dt>implic</dt>\n",
       "\t\t<dd>0.196183953033268</dd>\n",
       "</dl>\n"
      ],
      "text/latex": [
       "\\begin{description*}\n",
       "\\item[studi] 0.0220156555772994\n",
       "\\item[polit] 0.0391389432485323\n",
       "\\item[effect] 0.0523483365949119\n",
       "\\item[onlin] 0.0655577299412916\n",
       "\\item[cultur] 0.0782778864970646\n",
       "\\item[find] 0.0900195694716243\n",
       "\\item[sns] 0.101272015655577\n",
       "\\item[social] 0.112035225048924\n",
       "\\item[privaci] 0.12133072407045\n",
       "\\item[influenc] 0.129158512720157\n",
       "\\item[model] 0.136986301369863\n",
       "\\item[examin] 0.144324853228963\n",
       "\\item[relationship] 0.151663405088063\n",
       "\\item[survey] 0.159001956947162\n",
       "\\item[poll] 0.165851272015656\n",
       "\\item[korean] 0.172211350293542\n",
       "\\item[user] 0.178571428571429\n",
       "\\item[discuss] 0.184442270058708\n",
       "\\item[face] 0.190313111545988\n",
       "\\item[implic] 0.196183953033268\n",
       "\\end{description*}\n"
      ],
      "text/markdown": [
       "studi\n",
       ":   0.0220156555772994polit\n",
       ":   0.0391389432485323effect\n",
       ":   0.0523483365949119onlin\n",
       ":   0.0655577299412916cultur\n",
       ":   0.0782778864970646find\n",
       ":   0.0900195694716243sns\n",
       ":   0.101272015655577social\n",
       ":   0.112035225048924privaci\n",
       ":   0.12133072407045influenc\n",
       ":   0.129158512720157model\n",
       ":   0.136986301369863examin\n",
       ":   0.144324853228963relationship\n",
       ":   0.151663405088063survey\n",
       ":   0.159001956947162poll\n",
       ":   0.165851272015656korean\n",
       ":   0.172211350293542user\n",
       ":   0.178571428571429discuss\n",
       ":   0.184442270058708face\n",
       ":   0.190313111545988implic\n",
       ":   0.196183953033268\n",
       "\n"
      ],
      "text/plain": [
       "       studi        polit       effect        onlin       cultur         find \n",
       "  0.02201566   0.03913894   0.05234834   0.06555773   0.07827789   0.09001957 \n",
       "         sns       social      privaci     influenc        model       examin \n",
       "  0.10127202   0.11203523   0.12133072   0.12915851   0.13698630   0.14432485 \n",
       "relationship       survey         poll       korean         user      discuss \n",
       "  0.15166341   0.15900196   0.16585127   0.17221135   0.17857143   0.18444227 \n",
       "        face       implic \n",
       "  0.19031311   0.19618395 "
      ]
     },
     "metadata": {},
     "output_type": "display_data"
    }
   ],
   "source": [
    "#다음과 같이 하면 전체합이 1이 되는 비율을 계산할 수 있다. \n",
    "prop.word.freq <- cumsum.word.freq/cumsum.word.freq[length(cumsum.word.freq)]\n",
    "prop.word.freq[1:20]"
   ]
  },
  {
   "cell_type": "code",
   "execution_count": 67,
   "metadata": {},
   "outputs": [
    {
     "data": {
      "image/png": "[encoded data removed]",
      "text/plain": [
       "Plot with title “”"
      ]
     },
     "metadata": {},
     "output_type": "display_data"
    }
   ],
   "source": [
    "#단어빈도에 대한 간단한 분석  \n",
    "plot(1:length(word.freq),prop.word.freq,type='l',\n",
    "     xlab='Order of word frequency',ylab='Cumulative proportion',\n",
    "     main=\"\",axes=FALSE)\n",
    "axis(1,at=round(67.8*(0:10)),labels=paste(10*(0:10),\"%\",sep=\"\"))\n",
    "axis(2,at=0.20*(0:5),labels=paste(20*(0:5),\"%\",sep=\"\"))\n",
    "for (i in 1:9) {\n",
    "  text(6.8*10*i,0.05+prop.word.freq[6.8*10*i],\n",
    "       labels=paste(round(100*prop.word.freq[6.8*10*i]),\"%\",sep=\"\"))\n",
    "  points(6.8*10*i,prop.word.freq[6.8*10*i],pch=19)\n",
    "}"
   ]
  },
  {
   "cell_type": "code",
   "execution_count": 68,
   "metadata": {},
   "outputs": [
    {
     "name": "stderr",
     "output_type": "stream",
     "text": [
      "Loading required package: RColorBrewer\n"
     ]
    },
    {
     "data": {
      "image/png": "[encoded data removed]",
      "text/plain": [
       "plot without title"
      ]
     },
     "metadata": {},
     "output_type": "display_data"
    }
   ],
   "source": [
    "#wordcloud 라이브러리 구동 \n",
    "library('wordcloud')\n",
    "wordcloud(names(word.freq),freq=word.freq,scale=c(4,0.2),\n",
    "          rot.per=0.0,min.freq=5,random.order=FALSE)"
   ]
  },
  {
   "cell_type": "code",
   "execution_count": 69,
   "metadata": {},
   "outputs": [
    {
     "data": {
      "image/png": "[encoded data removed]",
      "text/plain": [
       "plot without title"
      ]
     },
     "metadata": {},
     "output_type": "display_data"
    }
   ],
   "source": [
    "#색조를 넣으려면 RColorBrewer 라이브러리를 추가로 구동\n",
    "library('RColorBrewer') \n",
    "#어떤 색이 가능한지는 다음을 실행하세요: display.brewer.all()\n",
    "pal <- brewer.pal(4, \"Dark2\")\n",
    "wordcloud(names(word.freq),freq=word.freq,scale=c(4,0.2),\n",
    "          rot.per=0.0,min.freq=5,random.order=FALSE,col=pal)"
   ]
  },
  {
   "cell_type": "code",
   "execution_count": 71,
   "metadata": {},
   "outputs": [
    {
     "name": "stderr",
     "output_type": "stream",
     "text": [
      "Checking user defined dictionary!\n",
      "\n"
     ]
    },
    {
     "data": {
      "text/plain": [
       "<<VCorpus>>\n",
       "Metadata:  corpus specific: 0, document level (indexed): 0\n",
       "Content:  documents: 19"
      ]
     },
     "metadata": {},
     "output_type": "display_data"
    },
    {
     "data": {
      "text/html": [
       "'본 논문의 목적은 언론학 교육과정(curriculum) 개선논의의 등장배경과 역사를 서술하고 그 필요성과 방향성을 제시하는 것이다. 본 논문에서는 컴퓨터 프로그래밍 언어와 데이터 수집 · 관리 · 분석 · 재현과 같은 데이터 과학관련 지식과 기술의 필요성을 강조하며 이를 언론학의 교과과정에 첨가 · 융합해야 한다는 주장의 등장배경과 필요성을 전반적으로 개괄 · 소개하였다. 또한 제도주의(institutionalism) 이론에 근거하여 언론학 교과과정을 ‘제도(institution)’로 파악하였으며, 제도를 둘러싼 이해관계자들로 ‘교수진’, ‘학생’, ‘학부모를 비롯한 일반인’, ‘다른 학문분과들’을 논의하였다. 이를 통해 기존의 교과과정과 새로운 교과과정이 특정 집단내부 혹은 집단 간 갈등을 일으킬 수 있으며, 이러한 갈등을 최소화시키고 협력가능성을 증대시킬 수 있는 방안을 추상적 수준에서나마 제안해 보았다.'"
      ],
      "text/latex": [
       "'본 논문의 목적은 언론학 교육과정(curriculum) 개선논의의 등장배경과 역사를 서술하고 그 필요성과 방향성을 제시하는 것이다. 본 논문에서는 컴퓨터 프로그래밍 언어와 데이터 수집 · 관리 · 분석 · 재현과 같은 데이터 과학관련 지식과 기술의 필요성을 강조하며 이를 언론학의 교과과정에 첨가 · 융합해야 한다는 주장의 등장배경과 필요성을 전반적으로 개괄 · 소개하였다. 또한 제도주의(institutionalism) 이론에 근거하여 언론학 교과과정을 ‘제도(institution)’로 파악하였으며, 제도를 둘러싼 이해관계자들로 ‘교수진’, ‘학생’, ‘학부모를 비롯한 일반인’, ‘다른 학문분과들’을 논의하였다. 이를 통해 기존의 교과과정과 새로운 교과과정이 특정 집단내부 혹은 집단 간 갈등을 일으킬 수 있으며, 이러한 갈등을 최소화시키고 협력가능성을 증대시킬 수 있는 방안을 추상적 수준에서나마 제안해 보았다.'"
      ],
      "text/markdown": [
       "'본 논문의 목적은 언론학 교육과정(curriculum) 개선논의의 등장배경과 역사를 서술하고 그 필요성과 방향성을 제시하는 것이다. 본 논문에서는 컴퓨터 프로그래밍 언어와 데이터 수집 · 관리 · 분석 · 재현과 같은 데이터 과학관련 지식과 기술의 필요성을 강조하며 이를 언론학의 교과과정에 첨가 · 융합해야 한다는 주장의 등장배경과 필요성을 전반적으로 개괄 · 소개하였다. 또한 제도주의(institutionalism) 이론에 근거하여 언론학 교과과정을 ‘제도(institution)’로 파악하였으며, 제도를 둘러싼 이해관계자들로 ‘교수진’, ‘학생’, ‘학부모를 비롯한 일반인’, ‘다른 학문분과들’을 논의하였다. 이를 통해 기존의 교과과정과 새로운 교과과정이 특정 집단내부 혹은 집단 간 갈등을 일으킬 수 있으며, 이러한 갈등을 최소화시키고 협력가능성을 증대시킬 수 있는 방안을 추상적 수준에서나마 제안해 보았다.'"
      ],
      "text/plain": [
       "[1] \"본 논문의 목적은 언론학 교육과정(curriculum) 개선논의의 등장배경과 역사를 서술하고 그 필요성과 방향성을 제시하는 것이다. 본 논문에서는 컴퓨터 프로그래밍 언어와 데이터 수집 · 관리 · 분석 · 재현과 같은 데이터 과학관련 지식과 기술의 필요성을 강조하며 이를 언론학의 교과과정에 첨가 · 융합해야 한다는 주장의 등장배경과 필요성을 전반적으로 개괄 · 소개하였다. 또한 제도주의(institutionalism) 이론에 근거하여 언론학 교과과정을 ‘제도(institution)’로 파악하였으며, 제도를 둘러싼 이해관계자들로 ‘교수진’, ‘학생’, ‘학부모를 비롯한 일반인’, ‘다른 학문분과들’을 논의하였다. 이를 통해 기존의 교과과정과 새로운 교과과정이 특정 집단내부 혹은 집단 간 갈등을 일으킬 수 있으며, 이러한 갈등을 최소화시키고 협력가능성을 증대시킬 수 있는 방안을 추상적 수준에서나마 제안해 보았다.\""
      ]
     },
     "metadata": {},
     "output_type": "display_data"
    },
    {
     "data": {
      "text/html": [
       "'본 논문의 목적은 언론학 교육과정 개선논의의 등장배경과 역사를 서술하고 그 필요성과 방향성을 제시하는 것이다. 본 논문에서는 컴퓨터 프로그래밍 언어와 데이터 수집, 관리, 분석, 재현과 같은 데이터 과학관련 지식과 기술의 필요성을 강조하며 이를 언론학의 교과과정에 첨가, 융합해야 한다는 주장의 등장배경과 필요성을 전반적으로 개괄, 소개하였다. 또한 제도주의 이론에 근거하여 언론학 교과과정을 제도로 파악하였으며, 제도를 둘러싼 이해관계자들로 교수진, 학생, 학부모를 비롯한 일반인, 다른 학문분과들을 논의하였다. 이를 통해 기존의 교과과정과 새로운 교과과정이 특정 집단내부 혹은 집단 간 갈등을 일으킬 수 있으며, 이러한 갈등을 최소화시키고 협력가능성을 증대시킬 수 있는 방안을 추상적 수준에서나마 제안해 보았다.'"
      ],
      "text/latex": [
       "'본 논문의 목적은 언론학 교육과정 개선논의의 등장배경과 역사를 서술하고 그 필요성과 방향성을 제시하는 것이다. 본 논문에서는 컴퓨터 프로그래밍 언어와 데이터 수집, 관리, 분석, 재현과 같은 데이터 과학관련 지식과 기술의 필요성을 강조하며 이를 언론학의 교과과정에 첨가, 융합해야 한다는 주장의 등장배경과 필요성을 전반적으로 개괄, 소개하였다. 또한 제도주의 이론에 근거하여 언론학 교과과정을 제도로 파악하였으며, 제도를 둘러싼 이해관계자들로 교수진, 학생, 학부모를 비롯한 일반인, 다른 학문분과들을 논의하였다. 이를 통해 기존의 교과과정과 새로운 교과과정이 특정 집단내부 혹은 집단 간 갈등을 일으킬 수 있으며, 이러한 갈등을 최소화시키고 협력가능성을 증대시킬 수 있는 방안을 추상적 수준에서나마 제안해 보았다.'"
      ],
      "text/markdown": [
       "'본 논문의 목적은 언론학 교육과정 개선논의의 등장배경과 역사를 서술하고 그 필요성과 방향성을 제시하는 것이다. 본 논문에서는 컴퓨터 프로그래밍 언어와 데이터 수집, 관리, 분석, 재현과 같은 데이터 과학관련 지식과 기술의 필요성을 강조하며 이를 언론학의 교과과정에 첨가, 융합해야 한다는 주장의 등장배경과 필요성을 전반적으로 개괄, 소개하였다. 또한 제도주의 이론에 근거하여 언론학 교과과정을 제도로 파악하였으며, 제도를 둘러싼 이해관계자들로 교수진, 학생, 학부모를 비롯한 일반인, 다른 학문분과들을 논의하였다. 이를 통해 기존의 교과과정과 새로운 교과과정이 특정 집단내부 혹은 집단 간 갈등을 일으킬 수 있으며, 이러한 갈등을 최소화시키고 협력가능성을 증대시킬 수 있는 방안을 추상적 수준에서나마 제안해 보았다.'"
      ],
      "text/plain": [
       "[1] \"본 논문의 목적은 언론학 교육과정 개선논의의 등장배경과 역사를 서술하고 그 필요성과 방향성을 제시하는 것이다. 본 논문에서는 컴퓨터 프로그래밍 언어와 데이터 수집, 관리, 분석, 재현과 같은 데이터 과학관련 지식과 기술의 필요성을 강조하며 이를 언론학의 교과과정에 첨가, 융합해야 한다는 주장의 등장배경과 필요성을 전반적으로 개괄, 소개하였다. 또한 제도주의 이론에 근거하여 언론학 교과과정을 제도로 파악하였으며, 제도를 둘러싼 이해관계자들로 교수진, 학생, 학부모를 비롯한 일반인, 다른 학문분과들을 논의하였다. 이를 통해 기존의 교과과정과 새로운 교과과정이 특정 집단내부 혹은 집단 간 갈등을 일으킬 수 있으며, 이러한 갈등을 최소화시키고 협력가능성을 증대시킬 수 있는 방안을 추상적 수준에서나마 제안해 보았다.\""
      ]
     },
     "metadata": {},
     "output_type": "display_data"
    },
    {
     "data": {
      "text/html": [
       "<ol class=list-inline>\n",
       "\t<li>'논문'</li>\n",
       "\t<li>'목적'</li>\n",
       "\t<li>'언론학'</li>\n",
       "\t<li>'교육과정'</li>\n",
       "\t<li>'개선'</li>\n",
       "\t<li>'논의'</li>\n",
       "\t<li>'등장'</li>\n",
       "\t<li>'배경'</li>\n",
       "\t<li>'역사'</li>\n",
       "\t<li>'서술'</li>\n",
       "\t<li>'필요'</li>\n",
       "\t<li>'성'</li>\n",
       "\t<li>'방향'</li>\n",
       "\t<li>'성'</li>\n",
       "\t<li>'시하'</li>\n",
       "\t<li>'것'</li>\n",
       "\t<li>'논문'</li>\n",
       "\t<li>'컴퓨터'</li>\n",
       "\t<li>'프로그래밍'</li>\n",
       "\t<li>'언어'</li>\n",
       "\t<li>'데이터'</li>\n",
       "\t<li>'수집'</li>\n",
       "\t<li>'관리'</li>\n",
       "\t<li>'분석'</li>\n",
       "\t<li>'재현'</li>\n",
       "\t<li>'데이터'</li>\n",
       "\t<li>'과학'</li>\n",
       "\t<li>'관련'</li>\n",
       "\t<li>'지식'</li>\n",
       "\t<li>'기술'</li>\n",
       "\t<li>'필요'</li>\n",
       "\t<li>'성'</li>\n",
       "\t<li>'강조'</li>\n",
       "\t<li>'이'</li>\n",
       "\t<li>'언론학'</li>\n",
       "\t<li>'교과과정'</li>\n",
       "\t<li>'첨'</li>\n",
       "\t<li>'융합'</li>\n",
       "\t<li>'주장'</li>\n",
       "\t<li>'등장'</li>\n",
       "\t<li>'배경'</li>\n",
       "\t<li>'필요'</li>\n",
       "\t<li>'성'</li>\n",
       "\t<li>'전반'</li>\n",
       "\t<li>'적'</li>\n",
       "\t<li>'개괄'</li>\n",
       "\t<li>'소개'</li>\n",
       "\t<li>'제도'</li>\n",
       "\t<li>'주의'</li>\n",
       "\t<li>'이론'</li>\n",
       "\t<li>'근거'</li>\n",
       "\t<li>'언론학'</li>\n",
       "\t<li>'교과과정'</li>\n",
       "\t<li>'제도'</li>\n",
       "\t<li>'파악'</li>\n",
       "\t<li>'제도'</li>\n",
       "\t<li>'이해관계자'</li>\n",
       "\t<li>'들'</li>\n",
       "\t<li>'교수진'</li>\n",
       "\t<li>'학생'</li>\n",
       "\t<li>'학부모'</li>\n",
       "\t<li>'비롯'</li>\n",
       "\t<li>'한'</li>\n",
       "\t<li>'일반'</li>\n",
       "\t<li>'학문분과'</li>\n",
       "\t<li>'들'</li>\n",
       "\t<li>'논의'</li>\n",
       "\t<li>'이'</li>\n",
       "\t<li>'기존'</li>\n",
       "\t<li>'교과과정'</li>\n",
       "\t<li>'교과과정'</li>\n",
       "\t<li>'특정'</li>\n",
       "\t<li>'집단'</li>\n",
       "\t<li>'내부'</li>\n",
       "\t<li>'집단'</li>\n",
       "\t<li>'등'</li>\n",
       "\t<li>'수'</li>\n",
       "\t<li>'등'</li>\n",
       "\t<li>'최소'</li>\n",
       "\t<li>'화시'</li>\n",
       "\t<li>'키'</li>\n",
       "\t<li>'협력가능성'</li>\n",
       "\t<li>'증대'</li>\n",
       "\t<li>'수'</li>\n",
       "\t<li>'방안'</li>\n",
       "\t<li>'추상'</li>\n",
       "\t<li>'적'</li>\n",
       "\t<li>'수준'</li>\n",
       "\t<li>'제안'</li>\n",
       "\t<li>'해'</li>\n",
       "</ol>\n"
      ],
      "text/latex": [
       "\\begin{enumerate*}\n",
       "\\item '논문'\n",
       "\\item '목적'\n",
       "\\item '언론학'\n",
       "\\item '교육과정'\n",
       "\\item '개선'\n",
       "\\item '논의'\n",
       "\\item '등장'\n",
       "\\item '배경'\n",
       "\\item '역사'\n",
       "\\item '서술'\n",
       "\\item '필요'\n",
       "\\item '성'\n",
       "\\item '방향'\n",
       "\\item '성'\n",
       "\\item '시하'\n",
       "\\item '것'\n",
       "\\item '논문'\n",
       "\\item '컴퓨터'\n",
       "\\item '프로그래밍'\n",
       "\\item '언어'\n",
       "\\item '데이터'\n",
       "\\item '수집'\n",
       "\\item '관리'\n",
       "\\item '분석'\n",
       "\\item '재현'\n",
       "\\item '데이터'\n",
       "\\item '과학'\n",
       "\\item '관련'\n",
       "\\item '지식'\n",
       "\\item '기술'\n",
       "\\item '필요'\n",
       "\\item '성'\n",
       "\\item '강조'\n",
       "\\item '이'\n",
       "\\item '언론학'\n",
       "\\item '교과과정'\n",
       "\\item '첨'\n",
       "\\item '융합'\n",
       "\\item '주장'\n",
       "\\item '등장'\n",
       "\\item '배경'\n",
       "\\item '필요'\n",
       "\\item '성'\n",
       "\\item '전반'\n",
       "\\item '적'\n",
       "\\item '개괄'\n",
       "\\item '소개'\n",
       "\\item '제도'\n",
       "\\item '주의'\n",
       "\\item '이론'\n",
       "\\item '근거'\n",
       "\\item '언론학'\n",
       "\\item '교과과정'\n",
       "\\item '제도'\n",
       "\\item '파악'\n",
       "\\item '제도'\n",
       "\\item '이해관계자'\n",
       "\\item '들'\n",
       "\\item '교수진'\n",
       "\\item '학생'\n",
       "\\item '학부모'\n",
       "\\item '비롯'\n",
       "\\item '한'\n",
       "\\item '일반'\n",
       "\\item '학문분과'\n",
       "\\item '들'\n",
       "\\item '논의'\n",
       "\\item '이'\n",
       "\\item '기존'\n",
       "\\item '교과과정'\n",
       "\\item '교과과정'\n",
       "\\item '특정'\n",
       "\\item '집단'\n",
       "\\item '내부'\n",
       "\\item '집단'\n",
       "\\item '등'\n",
       "\\item '수'\n",
       "\\item '등'\n",
       "\\item '최소'\n",
       "\\item '화시'\n",
       "\\item '키'\n",
       "\\item '협력가능성'\n",
       "\\item '증대'\n",
       "\\item '수'\n",
       "\\item '방안'\n",
       "\\item '추상'\n",
       "\\item '적'\n",
       "\\item '수준'\n",
       "\\item '제안'\n",
       "\\item '해'\n",
       "\\end{enumerate*}\n"
      ],
      "text/markdown": [
       "1. '논문'\n",
       "2. '목적'\n",
       "3. '언론학'\n",
       "4. '교육과정'\n",
       "5. '개선'\n",
       "6. '논의'\n",
       "7. '등장'\n",
       "8. '배경'\n",
       "9. '역사'\n",
       "10. '서술'\n",
       "11. '필요'\n",
       "12. '성'\n",
       "13. '방향'\n",
       "14. '성'\n",
       "15. '시하'\n",
       "16. '것'\n",
       "17. '논문'\n",
       "18. '컴퓨터'\n",
       "19. '프로그래밍'\n",
       "20. '언어'\n",
       "21. '데이터'\n",
       "22. '수집'\n",
       "23. '관리'\n",
       "24. '분석'\n",
       "25. '재현'\n",
       "26. '데이터'\n",
       "27. '과학'\n",
       "28. '관련'\n",
       "29. '지식'\n",
       "30. '기술'\n",
       "31. '필요'\n",
       "32. '성'\n",
       "33. '강조'\n",
       "34. '이'\n",
       "35. '언론학'\n",
       "36. '교과과정'\n",
       "37. '첨'\n",
       "38. '융합'\n",
       "39. '주장'\n",
       "40. '등장'\n",
       "41. '배경'\n",
       "42. '필요'\n",
       "43. '성'\n",
       "44. '전반'\n",
       "45. '적'\n",
       "46. '개괄'\n",
       "47. '소개'\n",
       "48. '제도'\n",
       "49. '주의'\n",
       "50. '이론'\n",
       "51. '근거'\n",
       "52. '언론학'\n",
       "53. '교과과정'\n",
       "54. '제도'\n",
       "55. '파악'\n",
       "56. '제도'\n",
       "57. '이해관계자'\n",
       "58. '들'\n",
       "59. '교수진'\n",
       "60. '학생'\n",
       "61. '학부모'\n",
       "62. '비롯'\n",
       "63. '한'\n",
       "64. '일반'\n",
       "65. '학문분과'\n",
       "66. '들'\n",
       "67. '논의'\n",
       "68. '이'\n",
       "69. '기존'\n",
       "70. '교과과정'\n",
       "71. '교과과정'\n",
       "72. '특정'\n",
       "73. '집단'\n",
       "74. '내부'\n",
       "75. '집단'\n",
       "76. '등'\n",
       "77. '수'\n",
       "78. '등'\n",
       "79. '최소'\n",
       "80. '화시'\n",
       "81. '키'\n",
       "82. '협력가능성'\n",
       "83. '증대'\n",
       "84. '수'\n",
       "85. '방안'\n",
       "86. '추상'\n",
       "87. '적'\n",
       "88. '수준'\n",
       "89. '제안'\n",
       "90. '해'\n",
       "\n",
       "\n"
      ],
      "text/plain": [
       " [1] \"논문\"       \"목적\"       \"언론학\"     \"교육과정\"   \"개선\"      \n",
       " [6] \"논의\"       \"등장\"       \"배경\"       \"역사\"       \"서술\"      \n",
       "[11] \"필요\"       \"성\"         \"방향\"       \"성\"         \"시하\"      \n",
       "[16] \"것\"         \"논문\"       \"컴퓨터\"     \"프로그래밍\" \"언어\"      \n",
       "[21] \"데이터\"     \"수집\"       \"관리\"       \"분석\"       \"재현\"      \n",
       "[26] \"데이터\"     \"과학\"       \"관련\"       \"지식\"       \"기술\"      \n",
       "[31] \"필요\"       \"성\"         \"강조\"       \"이\"         \"언론학\"    \n",
       "[36] \"교과과정\"   \"첨\"         \"융합\"       \"주장\"       \"등장\"      \n",
       "[41] \"배경\"       \"필요\"       \"성\"         \"전반\"       \"적\"        \n",
       "[46] \"개괄\"       \"소개\"       \"제도\"       \"주의\"       \"이론\"      \n",
       "[51] \"근거\"       \"언론학\"     \"교과과정\"   \"제도\"       \"파악\"      \n",
       "[56] \"제도\"       \"이해관계자\" \"들\"         \"교수진\"     \"학생\"      \n",
       "[61] \"학부모\"     \"비롯\"       \"한\"         \"일반\"       \"학문분과\"  \n",
       "[66] \"들\"         \"논의\"       \"이\"         \"기존\"       \"교과과정\"  \n",
       "[71] \"교과과정\"   \"특정\"       \"집단\"       \"내부\"       \"집단\"      \n",
       "[76] \"등\"         \"수\"         \"등\"         \"최소\"       \"화시\"      \n",
       "[81] \"키\"         \"협력가능성\" \"증대\"       \"수\"         \"방안\"      \n",
       "[86] \"추상\"       \"적\"         \"수준\"       \"제안\"       \"해\"        "
      ]
     },
     "metadata": {},
     "output_type": "display_data"
    },
    {
     "data": {
      "text/plain": [
       "noun.mytext\n",
       "      강조       개괄       개선         것       과학       관련       관리 \n",
       "         1          1          1          1          1          1          1 \n",
       "  교과과정     교수진   교육과정       근거       기술       기존       내부 \n",
       "         4          1          1          1          1          1          1 \n",
       "      논문       논의     데이터         들         등       등장       목적 \n",
       "         2          2          2          2          2          2          1 \n",
       "      방안       방향       배경       분석       비롯       서술         성 \n",
       "         1          1          2          1          1          1          4 \n",
       "      소개         수       수준       수집       시하     언론학       언어 \n",
       "         1          2          1          1          1          3          1 \n",
       "      역사       융합         이       이론 이해관계자       일반       재현 \n",
       "         1          1          2          1          1          1          1 \n",
       "        적       전반       제도       제안       주의       주장       증대 \n",
       "         2          1          3          1          1          1          1 \n",
       "      지식       집단         첨       최소       추상     컴퓨터         키 \n",
       "         1          2          1          1          1          1          1 \n",
       "      특정       파악 프로그래밍       필요   학문분과     학부모       학생 \n",
       "         1          1          1          3          1          1          1 \n",
       "        한         해 협력가능성       화시 \n",
       "         1          1          1          1 "
      ]
     },
     "metadata": {},
     "output_type": "display_data"
    },
    {
     "name": "stderr",
     "output_type": "stream",
     "text": [
      "Warning message in stri_extract_all_regex(string, pattern, simplify = simplify, :\n",
      "“argument is not an atomic vector; coercing”Warning message in stri_extract_all_regex(string, pattern, simplify = simplify, :\n",
      "“argument is not an atomic vector; coercing”Warning message in stri_extract_all_regex(string, pattern, simplify = simplify, :\n",
      "“argument is not an atomic vector; coercing”Warning message in stri_extract_all_regex(string, pattern, simplify = simplify, :\n",
      "“argument is not an atomic vector; coercing”Warning message in stri_extract_all_regex(string, pattern, simplify = simplify, :\n",
      "“argument is not an atomic vector; coercing”Warning message in stri_extract_all_regex(string, pattern, simplify = simplify, :\n",
      "“argument is not an atomic vector; coercing”Warning message in stri_extract_all_regex(string, pattern, simplify = simplify, :\n",
      "“argument is not an atomic vector; coercing”Warning message in stri_extract_all_regex(string, pattern, simplify = simplify, :\n",
      "“argument is not an atomic vector; coercing”Warning message in stri_extract_all_regex(string, pattern, simplify = simplify, :\n",
      "“argument is not an atomic vector; coercing”Warning message in stri_extract_all_regex(string, pattern, simplify = simplify, :\n",
      "“argument is not an atomic vector; coercing”Warning message in stri_extract_all_regex(string, pattern, simplify = simplify, :\n",
      "“argument is not an atomic vector; coercing”Warning message in stri_extract_all_regex(string, pattern, simplify = simplify, :\n",
      "“argument is not an atomic vector; coercing”Warning message in stri_extract_all_regex(string, pattern, simplify = simplify, :\n",
      "“argument is not an atomic vector; coercing”Warning message in stri_extract_all_regex(string, pattern, simplify = simplify, :\n",
      "“argument is not an atomic vector; coercing”Warning message in stri_extract_all_regex(string, pattern, simplify = simplify, :\n",
      "“argument is not an atomic vector; coercing”Warning message in stri_extract_all_regex(string, pattern, simplify = simplify, :\n",
      "“argument is not an atomic vector; coercing”Warning message in stri_extract_all_regex(string, pattern, simplify = simplify, :\n",
      "“argument is not an atomic vector; coercing”Warning message in stri_extract_all_regex(string, pattern, simplify = simplify, :\n",
      "“argument is not an atomic vector; coercing”Warning message in stri_extract_all_regex(string, pattern, simplify = simplify, :\n",
      "“argument is not an atomic vector; coercing”"
     ]
    },
    {
     "data": {
      "text/plain": [
       "\n",
       " 080    1   10  120   16   18 1977 1981    2 2000 2001 2004 2006 2010 2013 2015 \n",
       "   1    5    2    1    1    1    1    1    3    1    2    1    2    1    1    2 \n",
       "  21   23   25    3   30  300    4    5    7  863 \n",
       "   1    1    2    2    1    1    1    2    1    1 "
      ]
     },
     "metadata": {},
     "output_type": "display_data"
    },
    {
     "name": "stderr",
     "output_type": "stream",
     "text": [
      "Warning message in stri_extract_all_regex(string, pattern, simplify = simplify, :\n",
      "“argument is not an atomic vector; coercing”Warning message in stri_extract_all_regex(string, pattern, simplify = simplify, :\n",
      "“argument is not an atomic vector; coercing”Warning message in stri_extract_all_regex(string, pattern, simplify = simplify, :\n",
      "“argument is not an atomic vector; coercing”Warning message in stri_extract_all_regex(string, pattern, simplify = simplify, :\n",
      "“argument is not an atomic vector; coercing”Warning message in stri_extract_all_regex(string, pattern, simplify = simplify, :\n",
      "“argument is not an atomic vector; coercing”Warning message in stri_extract_all_regex(string, pattern, simplify = simplify, :\n",
      "“argument is not an atomic vector; coercing”Warning message in stri_extract_all_regex(string, pattern, simplify = simplify, :\n",
      "“argument is not an atomic vector; coercing”Warning message in stri_extract_all_regex(string, pattern, simplify = simplify, :\n",
      "“argument is not an atomic vector; coercing”Warning message in stri_extract_all_regex(string, pattern, simplify = simplify, :\n",
      "“argument is not an atomic vector; coercing”Warning message in stri_extract_all_regex(string, pattern, simplify = simplify, :\n",
      "“argument is not an atomic vector; coercing”Warning message in stri_extract_all_regex(string, pattern, simplify = simplify, :\n",
      "“argument is not an atomic vector; coercing”Warning message in stri_extract_all_regex(string, pattern, simplify = simplify, :\n",
      "“argument is not an atomic vector; coercing”Warning message in stri_extract_all_regex(string, pattern, simplify = simplify, :\n",
      "“argument is not an atomic vector; coercing”Warning message in stri_extract_all_regex(string, pattern, simplify = simplify, :\n",
      "“argument is not an atomic vector; coercing”Warning message in stri_extract_all_regex(string, pattern, simplify = simplify, :\n",
      "“argument is not an atomic vector; coercing”Warning message in stri_extract_all_regex(string, pattern, simplify = simplify, :\n",
      "“argument is not an atomic vector; coercing”Warning message in stri_extract_all_regex(string, pattern, simplify = simplify, :\n",
      "“argument is not an atomic vector; coercing”Warning message in stri_extract_all_regex(string, pattern, simplify = simplify, :\n",
      "“argument is not an atomic vector; coercing”Warning message in stri_extract_all_regex(string, pattern, simplify = simplify, :\n",
      "“argument is not an atomic vector; coercing”"
     ]
    },
    {
     "data": {
      "text/plain": [
       "\n",
       "               account)을           action)이론들을               Consumer)의 \n",
       "                        1                         1                         1 \n",
       "         consumption)하는                 effect)를           Performing-arts \n",
       "                        1                         1                         1 \n",
       "             가치지향’은          감시견’으로서의              감염자’라는 \n",
       "                        2                         1                         1 \n",
       "                  경우)의           관계유지’(기존        관계형성’(SNS에서 \n",
       "                        1                         1                         1 \n",
       "      관계회복’(끊어졌던          광고·기업태도를          광고·기업태도에 \n",
       "                        1                         1                         1 \n",
       "      교육과정(curriculum                  국민’을                기업－공익 \n",
       "                        1                         1                         6 \n",
       "                 노출’이            대등적－일방적             대등적-협력적 \n",
       "                        1                         1                         1 \n",
       "       대리소비(vicarious                  만족’을                  모형’을 \n",
       "                        1                         3                         1 \n",
       "               문화’에는       문화소비자들(Active              민주주의’의 \n",
       "                        3                         1                         1 \n",
       "              변명(excuse               부인(denial        사회요망성가설’들 \n",
       "                        1                         1                         1 \n",
       "     사회인지이론(Bandura      설득과정모형(McGuire              성별·연령별 \n",
       "                        1                         1                         1 \n",
       "           성별·연령별로    소통행위(communicative         양가감정(兩價感情 \n",
       "                        1                         1                         1 \n",
       "                  없음(no                엘리트’와               온/오프라인 \n",
       "                        1                         1                         1 \n",
       "           유지·형성하는              이념성향’도            이론적·실제적 \n",
       "                        1                         1                         1 \n",
       "             이방인’들을            인사청문회’를                 인식’)를 \n",
       "                        1                         1                         1 \n",
       "            일방적-상호적              저널리즘’과                  전략’을 \n",
       "                        1                         1                         1 \n",
       "               정당화’와      정당화(justification              정치·경제적 \n",
       "                        1                         1                         1 \n",
       "             정치신뢰’를            정치적·사회적          제도(institution \n",
       "                        1                         1                         1 \n",
       "제도주의(institutionalism             주재국-대사관                직접·간접 \n",
       "                        1                         1                         1 \n",
       "          직접효과(direct                 진보-보수                  참여’를 \n",
       "                        1                         1                         1 \n",
       "          참회(confession                 창조-매개          추정오류가설’이 \n",
       "                        1                         1                         1 \n",
       "                   타입-I             평가(‘자신의            학문분과들’을 \n",
       "                        1                         1                         1 \n",
       "         허위합의지각’을            협력적－상호적            협력적－일방적 \n",
       "                        1                         1                         1 "
      ]
     },
     "metadata": {},
     "output_type": "display_data"
    },
    {
     "name": "stderr",
     "output_type": "stream",
     "text": [
      "Warning message in stri_extract_all_boundaries(string, pattern, simplify = simplify, :\n",
      "“argument is not an atomic vector; coercing”Warning message in stri_extract_all_boundaries(string, pattern, simplify = simplify, :\n",
      "“argument is not an atomic vector; coercing”Warning message in stri_extract_all_boundaries(string, pattern, simplify = simplify, :\n",
      "“argument is not an atomic vector; coercing”Warning message in stri_extract_all_boundaries(string, pattern, simplify = simplify, :\n",
      "“argument is not an atomic vector; coercing”Warning message in stri_extract_all_boundaries(string, pattern, simplify = simplify, :\n",
      "“argument is not an atomic vector; coercing”Warning message in stri_extract_all_boundaries(string, pattern, simplify = simplify, :\n",
      "“argument is not an atomic vector; coercing”Warning message in stri_extract_all_boundaries(string, pattern, simplify = simplify, :\n",
      "“argument is not an atomic vector; coercing”Warning message in stri_extract_all_boundaries(string, pattern, simplify = simplify, :\n",
      "“argument is not an atomic vector; coercing”Warning message in stri_extract_all_boundaries(string, pattern, simplify = simplify, :\n",
      "“argument is not an atomic vector; coercing”Warning message in stri_extract_all_boundaries(string, pattern, simplify = simplify, :\n",
      "“argument is not an atomic vector; coercing”Warning message in stri_extract_all_boundaries(string, pattern, simplify = simplify, :\n",
      "“argument is not an atomic vector; coercing”Warning message in stri_extract_all_boundaries(string, pattern, simplify = simplify, :\n",
      "“argument is not an atomic vector; coercing”Warning message in stri_extract_all_boundaries(string, pattern, simplify = simplify, :\n",
      "“argument is not an atomic vector; coercing”Warning message in stri_extract_all_boundaries(string, pattern, simplify = simplify, :\n",
      "“argument is not an atomic vector; coercing”Warning message in stri_extract_all_boundaries(string, pattern, simplify = simplify, :\n",
      "“argument is not an atomic vector; coercing”Warning message in stri_extract_all_boundaries(string, pattern, simplify = simplify, :\n",
      "“argument is not an atomic vector; coercing”Warning message in stri_extract_all_boundaries(string, pattern, simplify = simplify, :\n",
      "“argument is not an atomic vector; coercing”Warning message in stri_extract_all_boundaries(string, pattern, simplify = simplify, :\n",
      "“argument is not an atomic vector; coercing”Warning message in stri_extract_all_boundaries(string, pattern, simplify = simplify, :\n",
      "“argument is not an atomic vector; coercing”"
     ]
    },
    {
     "data": {
      "text/plain": [
       "\n",
       "                       1                        2                        3 \n",
       "                       1                        1                        1 \n",
       "                       4                        5                        6 \n",
       "                       1                        1                        1 \n",
       "                       7                       價                     가구 \n",
       "                       1                        1                        4 \n",
       "                    가능                   가능성                 가부장적 \n",
       "                       1                        1                        1 \n",
       "                    가상                     가설                     가중 \n",
       "                       2                        7                        1 \n",
       "                  가중치                     가지                     가치 \n",
       "                       2                       11                        6 \n",
       "                  가치관                 가치지향                     각각 \n",
       "                       1                        6                        2 \n",
       "                    각종                       간                     간접 \n",
       "                       1                        2                        3 \n",
       "                      감                     감소                     감시 \n",
       "                       6                        1                        2 \n",
       "                    감염                   감염자                     감영 \n",
       "                       1                        2                        1 \n",
       "                    감은                     감정                     感情 \n",
       "                       2                        6                        1 \n",
       "                    강도             강도가어떠한                     강력 \n",
       "                       5                        1                        1 \n",
       "                    강조                       개                     개괄 \n",
       "                       1                        3                        1 \n",
       "                    개별                   개별화                     개선 \n",
       "                       2                        1                        3 \n",
       "                개선방안                     개인                     개입 \n",
       "                       1                        1                        1 \n",
       "                    거주                     건강                 건강정보 \n",
       "                       1                       15                        1 \n",
       "                건강증진                     건의                     검증 \n",
       "                       6                        1                        3 \n",
       "                      것                       견                     견해 \n",
       "                      24                        1                        1 \n",
       "                    결과                     결론                     결합 \n",
       "                      18                        2                        1 \n",
       "                    경영                     경우                     경유 \n",
       "                       1                        9                        1 \n",
       "                    경제                     경향                     경험 \n",
       "                       1                        1                        9 \n",
       "                    고려                     고양               고위공직자 \n",
       "                       2                        1                        1 \n",
       "                    공간                     공개                   공공성 \n",
       "                       5                        3                        1 \n",
       "                    공동                   공동체                 공동체적 \n",
       "                       1                       19                        1 \n",
       "                    공론                     공연                 공연예술 \n",
       "                       2                        2                        1 \n",
       "                    공익                   공익성                     공존 \n",
       "                      11                        1                        1 \n",
       "                      과                     과도                     과정 \n",
       "                       2                        3                        8 \n",
       "                    과학                     관계                     관련 \n",
       "                       3                       19                       11 \n",
       "                  관료제                     관리                     관변 \n",
       "                       1                        2                        1 \n",
       "                    관점                     관통                     관행 \n",
       "                       7                        1                        2 \n",
       "                    광고                 교과과정                     교류 \n",
       "                       5                        4                        2 \n",
       "                  교수진                     교양                 교육과정 \n",
       "                       1                        1                        1 \n",
       "                    교차                       구                     구매 \n",
       "                       1                        1                        4 \n",
       "                    구별                     구분                     구성 \n",
       "                       1                       11                        2 \n",
       "                    구조                     구체                     구축 \n",
       "                       4                        7                        1 \n",
       "                      국                   국내외                     국민 \n",
       "                       1                        1                        3 \n",
       "                    국인                 권위주의                       귀 \n",
       "                       1                        3                        4 \n",
       "                    귀인                     규범                     규정 \n",
       "                       4                       10                        1 \n",
       "                  규정하                     균형                     극복 \n",
       "                       2                        1                        3 \n",
       "                    근간                     근거                       글 \n",
       "                       1                        3                        1 \n",
       "                    급격                     긍정                       기 \n",
       "                       1                        5                        2 \n",
       "                    기간                     기계                   기고자 \n",
       "                       1                        2                        1 \n",
       "                    기록                     기반                     기법 \n",
       "                       3                        6                        1 \n",
       "                    기술                     기업                     기존 \n",
       "                       3                       14                        9 \n",
       "                기존연구                     기획                     꾸준 \n",
       "                       1                        1                        1 \n",
       "                      끝                       나                     남녀 \n",
       "                       1                        2                        1 \n",
       "                남북경협                       낮                       내 \n",
       "                       1                        2                        7 \n",
       "                    내부                     내용                 냉소주의 \n",
       "                       3                        3                        1 \n",
       "                네트워크                     넷째                       년 \n",
       "                       2                        1                        6 \n",
       "                    년대                     노력           노스탤지어적인 \n",
       "                       1                        1                        1 \n",
       "                    노출                     논란                     논문 \n",
       "                       7                        1                        7 \n",
       "                    논의                     누구                     다수 \n",
       "                       9                        1                        1 \n",
       "                    다양                     다음                   다집단 \n",
       "                       6                        5                        1 \n",
       "                      단                   단순화                     담론 \n",
       "                       1                        1                        2 \n",
       "                      답                       대             대등적일방적 \n",
       "                       1                        2                        1 \n",
       "            대등적협력적                     대리                     대립 \n",
       "                       1                        1                        1 \n",
       "                    대상                   대상자                     대안 \n",
       "                       6                        1                        9 \n",
       "                  대외비                   대용량                     대중 \n",
       "                       1                        1                        1 \n",
       "                  대표성                 대형병원                       데 \n",
       "                       1                        2                        1 \n",
       "                  데이터                       도                     도덕 \n",
       "                       6                        9                        2 \n",
       "              도시공동체                     도입                     도출 \n",
       "                       1                        2                        1 \n",
       "                  동기와                     동북                   동질성 \n",
       "                       3                        1                        2 \n",
       "                    동향                     되기                       두 \n",
       "                       1                        1                        5 \n",
       "                    둘째                       들                     들이 \n",
       "                       6                       31                        7 \n",
       "                      등                     등장             디리쉴레분포 \n",
       "                       9                        4                        1 \n",
       "                      때                     뚜렷                       라 \n",
       "                       2                        1                        1 \n",
       "                  라디오                     라인                       兩 \n",
       "                       1                        8                        1 \n",
       "                  레토릭                       로                     로그 \n",
       "                       1                        5                        1 \n",
       "                      를                   리더쉽                     링크 \n",
       "                       6                        2                        1 \n",
       "                    마을                   마케팅                       만 \n",
       "                      12                        2                        3 \n",
       "                    만족                   만족감                   말하기 \n",
       "                       5                        1                        3 \n",
       "                    맛집                       망                     매개 \n",
       "                       1                        6                       13 \n",
       "                매개과정                 매개변수                     맥락 \n",
       "                       1                        1                        1 \n",
       "                  메르스                       명                     명령 \n",
       "                       3                        3                        1 \n",
       "                      몇                     모델                     모두 \n",
       "                       4                        1                        3 \n",
       "                    모형                     목교                     목적 \n",
       "                       8                        1                        7 \n",
       "                    목표                     무관                     무엇 \n",
       "                       3                        1                        7 \n",
       "                      문                     문서                     문제 \n",
       "                       4                        2                        8 \n",
       "                    문화                 문화예술                     물질 \n",
       "                      10                        2                        2 \n",
       "                    미국                   미국과               미국대사관 \n",
       "                       1                        1                        2 \n",
       "                  미디어                     민감                 민주주의 \n",
       "                      14                        1                        3 \n",
       "                    바탕                     반면                     반복 \n",
       "                       3                        4                        1 \n",
       "                    반영                     반응                     발견 \n",
       "                       2                        1                        5 \n",
       "                    발생                     발송                     발전 \n",
       "                       1                        1                        3 \n",
       "                    방법                   방법론                   방송사 \n",
       "                       8                        3                        4 \n",
       "                    방식                     방안                     방정 \n",
       "                      19                        2                        2 \n",
       "                    방향                     배경                     배척 \n",
       "                       3                        2                        1 \n",
       "                    배치                   배타적                       법 \n",
       "                       2                        1                        2 \n",
       "                    변명                     변수                     변화 \n",
       "                       1                        6                       12 \n",
       "                      별                     보도                     보수 \n",
       "                       1                        1                        4 \n",
       "              보수주의자                     보정                     본국 \n",
       "                       2                        1                        3 \n",
       "                    본질                       부                     부문 \n",
       "                       1                        8                        1 \n",
       "                    부분                     부서                     부여 \n",
       "                       1                        3                        1 \n",
       "부여방법인성향가중방법과                     부인                     부정 \n",
       "                       1                        1                        2 \n",
       "                북한관련                     분과                     분석 \n",
       "                       1                        2                       18 \n",
       "                    분야                     불과                     불구 \n",
       "                       4                        1                        1 \n",
       "                  불일치                     비교                     비례 \n",
       "                       1                        3                        1 \n",
       "                    비롯                     비밀                     비슷 \n",
       "                       1                        1                        1 \n",
       "                    비용                     비판                     빈도 \n",
       "                       1                        2                        4 \n",
       "                    빈번                       뿐                     사교 \n",
       "                       1                        1                        1 \n",
       "                    사람                   사람들                     사례 \n",
       "                       5                        1                        2 \n",
       "                    사실                     사업                     사이 \n",
       "                       1                        1                        3 \n",
       "                    사태                     사회                   사회학 \n",
       "                       1                       25                        1 \n",
       "                    산업                     상관                     상대 \n",
       "                       2                        1                        3 \n",
       "                  상업성                     상이                 상호작용 \n",
       "                       2                        1                        6 \n",
       "                    상황                       새                     생각 \n",
       "                       2                        1                        1 \n",
       "                    생래                   서베이                 서베이를 \n",
       "                       1                        1                        1 \n",
       "                    서술                     서열                     서울 \n",
       "                       2                        2                        3 \n",
       "                  서울시                 서울시민                     선택 \n",
       "                       1                        1                        6 \n",
       "                    선행                 선행연구                     선호 \n",
       "                       2                        2                        1 \n",
       "                  선호도                       설                     설득 \n",
       "                       1                        1                        1 \n",
       "                    설명                 설문조사                     설정 \n",
       "                       4                        3                        1 \n",
       "                      성                     성가                     성공 \n",
       "                      13                        1                        1 \n",
       "                    성과                     성별                     성인 \n",
       "                       1                        2                        1 \n",
       "                    성장                     성향                       세 \n",
       "                       1                        8                        9 \n",
       "                    세계                     셋째                     소개 \n",
       "                       2                        5                        4 \n",
       "                    소비                   소비자                     소통 \n",
       "                      16                        3                        9 \n",
       "                      수                     수립                     수요 \n",
       "                      21                        2                        1 \n",
       "                    수준                     수집                     순서 \n",
       "                       2                        3                        1 \n",
       "                    순수                       술                     습관 \n",
       "                       1                        1                        4 \n",
       "                      시                     시각                     시간 \n",
       "                       1                        1                        9 \n",
       "                    시기                     시도                     시민 \n",
       "                       1                        2                        2 \n",
       "                    시사                     시청                   시청자 \n",
       "                       1                       14                        8 \n",
       "                    시하                       식                   식도락 \n",
       "                       1                        5                        1 \n",
       "                    식이                     신념                   신도시 \n",
       "                       4                        3                        1 \n",
       "                    신뢰                   신뢰도                   신뢰성 \n",
       "                       4                        2                        1 \n",
       "                    신문                   신문사                     실무 \n",
       "                      10                        2                        1 \n",
       "                    실시                   실용성                     실정 \n",
       "                       1                        1                        1 \n",
       "                    실제                     실증                     실천 \n",
       "                       2                        3                        3 \n",
       "                실천이론                     실패                     실험 \n",
       "                       1                        1                        1 \n",
       "                실험결과                 실험연구                 실험조건 \n",
       "                       1                        1                        1 \n",
       "                    심리                     싸인                     아문 \n",
       "                       5                        1                        1 \n",
       "                      양                     양가                     양극 \n",
       "                       3                        1                        2 \n",
       "                    양자                   어려움                     언론 \n",
       "                       1                        2                        2 \n",
       "                  언론학                     언어                     언제 \n",
       "                       3                        3                        1 \n",
       "                  엘리트                     여론                 여론조사 \n",
       "                       1                        5                        5 \n",
       "                      역                     역동                     역사 \n",
       "                       1                        1                        1 \n",
       "                  역사학                     역할                     연계 \n",
       "                       1                        3                        5 \n",
       "                    연관                     연구                   연구자 \n",
       "                       1                       56                        1 \n",
       "                    연령                   연령별                   영상미 \n",
       "                       2                        2                        1 \n",
       "                    영역                     영향                     예술 \n",
       "                       3                       21                        2 \n",
       "                  예술계                     예측                     오류 \n",
       "                       1                        2                        3 \n",
       "                    오프                   온라인               온오프라인 \n",
       "                       8                       11                        1 \n",
       "                    외교                   외교전                     외부 \n",
       "                       1                        4                        2 \n",
       "                    요리                     요망                     요인 \n",
       "                       1                        1                        1 \n",
       "                    욕구                     우리                     운동 \n",
       "                       1                        4                        8 \n",
       "                    운명                     원인                       월 \n",
       "                       2                        5                        5 \n",
       "              위키리크스             위키리크스를           위키리크스에서 \n",
       "                       1                        1                        1 \n",
       "                    위해                     위험                     유명 \n",
       "                       1                        1                        1 \n",
       "              유의미하게                 유의미한                     유지 \n",
       "                       1                        2                        4 \n",
       "                    유형                   유형별                     육아 \n",
       "                       7                        1                        1 \n",
       "                    융합                   으로서                       은 \n",
       "                       2                        1                        2 \n",
       "                      을                     음식                     응답 \n",
       "                      10                       10                        9 \n",
       "                  응답자                     응집                       의 \n",
       "                       3                        5                        5 \n",
       "                    의견                     의미                     의사 \n",
       "                       1                        4                        2 \n",
       "                    의식                     의의                     의존 \n",
       "                       3                        1                        1 \n",
       "                    의혹                       이                     이념 \n",
       "                       3                       26                        2 \n",
       "                이념성향                     이론                   이론과 \n",
       "                       7                       11                        1 \n",
       "                  이방인                     이번                     이상 \n",
       "                       1                        1                        1 \n",
       "              이야깃거리             이어지는가를                     이용 \n",
       "                       1                        1                       18 \n",
       "                  이용자                 이용행태                     이유 \n",
       "                      12                        1                        1 \n",
       "                    이중                     이질                     이해 \n",
       "                       1                        1                        3 \n",
       "              이해관계자                     인간                 인간관계 \n",
       "                       1                        1                        3 \n",
       "                    인구                     인기                 인력자원 \n",
       "                       1                        2                        1 \n",
       "                    인사                     인식                   인식하 \n",
       "                       3                       10                        1 \n",
       "                    인정                 인지이론                   인터넷 \n",
       "                       1                        1                       10 \n",
       "                인터넷을                   인터뷰                       일 \n",
       "                       2                        1                        6 \n",
       "                    일관                     일반             일방적상호적 \n",
       "                       1                        5                        1 \n",
       "                    일정                     일치                 있는가에 \n",
       "                       1                        3                        1 \n",
       "                    자기                     자료                     자신 \n",
       "                       5                        3                        1 \n",
       "                  자율성                   잘못된                     잠재 \n",
       "                       5                        2                        1 \n",
       "                  잠재력                       장                     장르 \n",
       "                       1                        2                        1 \n",
       "                    장애                   재검토                   재구성 \n",
       "                       1                        1                        1 \n",
       "                    재현                 저널리즘                     저변 \n",
       "                       1                        1                        1 \n",
       "                    저자                       적                     적극 \n",
       "                       1                      131                        1 \n",
       "                적용사례                     적정                     적합 \n",
       "                       1                        1                        6 \n",
       "                      전                     전개                     전국 \n",
       "                       1                        1                        1 \n",
       "                    전략                     전문                   전문가 \n",
       "                       4                        1                        2 \n",
       "                    전반                     전체                     전통 \n",
       "                       3                        3                        1 \n",
       "                    전화                     절약                       점 \n",
       "                       2                        1                       11 \n",
       "                    접근                     접목                     정권 \n",
       "                       1                        1                        1 \n",
       "                정권교체                   정당화                   정반대 \n",
       "                       3                        2                        1 \n",
       "                    정보                     정부                     정세 \n",
       "                       2                        3                        1 \n",
       "                    정책                 정책연구                     정치 \n",
       "                       3                        9                       21 \n",
       "                  정치인                   정치학                     정파 \n",
       "                       4                        1                        5 \n",
       "                      제                     제기                     제도 \n",
       "                       2                        4                        3 \n",
       "                    제시                 제시하였                     제안 \n",
       "                       3                        1                        1 \n",
       "                    조건                     조사                 조사방법 \n",
       "                       2                        3                        4 \n",
       "                    조작                     조절                     조직 \n",
       "                       1                        2                        3 \n",
       "                조직문화           조직적활동이며                   조직화 \n",
       "                       1                        1                        1 \n",
       "                    존재                     주관                   주도하 \n",
       "                       2                        5                        1 \n",
       "                    주목                     주민                     주변 \n",
       "                       5                        1                        1 \n",
       "                  주성분                     주의                     주장 \n",
       "                       1                        3                        1 \n",
       "                    주재       주재국대사관본국간                     주제 \n",
       "                       2                        1                        3 \n",
       "                    주체                     주한                 주한미군 \n",
       "                       1                        1                        1 \n",
       "                    준거                     준비                       줄 \n",
       "                       2                        1                        1 \n",
       "                      중               중도주의자                     중립 \n",
       "                       5                        1                        2 \n",
       "                    중시                     중심                     중요 \n",
       "                       5                        2                        1 \n",
       "                    증가                     증대                     증진 \n",
       "                       2                        2                        1 \n",
       "                      지                     지각                   지상파 \n",
       "                      13                        7                        1 \n",
       "                    지속                     지식               지역공동체 \n",
       "                       1                        1                        1 \n",
       "                    지적                     지지                     지형 \n",
       "                       1                        1                        2 \n",
       "                      직                     직접                     진보 \n",
       "                       1                        3                        3 \n",
       "              진보주의자                     진영                     진행 \n",
       "                       1                        2                        2 \n",
       "                    집단                     집중                       차 \n",
       "                       9                        1                        1 \n",
       "                    차례                     차원                     차이 \n",
       "                       1                        4                        5 \n",
       "                  참가자                     참여                   참여자 \n",
       "                       2                        3                        1 \n",
       "                    참회                     창조                     채택 \n",
       "                       3                        1                        1 \n",
       "                    책임                 책임소재                     처리 \n",
       "                       3                        1                        2 \n",
       "                      첨                     첫째                   청문회 \n",
       "                       1                        6                        2 \n",
       "                      초                     최근                     최소 \n",
       "                       1                        2                        1 \n",
       "                    최큰                     추가                     추구 \n",
       "                       1                        1                        7 \n",
       "                    추상                     추세                     추정 \n",
       "                       1                        1                        2 \n",
       "                    추출                     추후                       축 \n",
       "                       3                        1                        1 \n",
       "                    충분                     충족                     측정 \n",
       "                       1                        2                        6 \n",
       "                      치                     치명                     치밀 \n",
       "                       1                        1                        1 \n",
       "                    칼럼             커뮤니케이션                 커뮤니티 \n",
       "                       2                       22                        1 \n",
       "                  컴퓨터                       키                   타당성 \n",
       "                       4                        1                        2 \n",
       "                    타락                     타입                   탈규범 \n",
       "                       1                        1                        3 \n",
       "                    탐구                     탐색                     태도 \n",
       "                       1                        2                        8 \n",
       "                  텍스트                 텔레비전                     토대 \n",
       "                       2                        1                        2 \n",
       "                  통계학                     통시                     통제 \n",
       "                       2                        1                        2 \n",
       "                  트위터                 트위터가                 트위터는 \n",
       "                       4                        2                        1 \n",
       "                    특성                     특정                     특징 \n",
       "                       3                        1                        5 \n",
       "                    티켓                     파악                     판단 \n",
       "                       1                        2                        1 \n",
       "                    팽창                     편견                     편성 \n",
       "                       1                        1                        1 \n",
       "                    편차                     편파                       평 \n",
       "                       1                        1                        2 \n",
       "                    평가                     평판                 포퓰리즘 \n",
       "                       2                        9                       10 \n",
       "              포퓰리즘과               포퓰리즘에               포퓰리즘이 \n",
       "                       1                        1                        1 \n",
       "                    표본                 표본조사               표집방법에 \n",
       "                       3                        2                        2 \n",
       "              프로그래밍                 프로그램                     필요 \n",
       "                       1                       15                        8 \n",
       "                  필진과                     하기                     하나 \n",
       "                       2                        6                        1 \n",
       "                하는가에                     하부                     하위 \n",
       "                       1                        1                        1 \n",
       "                하위문화                     학계                     학문 \n",
       "                       2                        1                        5 \n",
       "                학문분과                   학부모                     학생 \n",
       "                       1                        1                        1 \n",
       "                학술연구                     학자                       한 \n",
       "                       1                        1                       34 \n",
       "                    한계                   한계점                     한국 \n",
       "                       3                        1                        4 \n",
       "                  한국의                 한미통상                     할당 \n",
       "                       5                        1                        1 \n",
       "              할당표집한                       함                     함의 \n",
       "                       2                        2                        2 \n",
       "                    합의                   합의문                       해 \n",
       "                       4                        1                        5 \n",
       "                    해결                     해답                     해당 \n",
       "                       1                        1                        1 \n",
       "              해당정치인                     해명                 해외파병 \n",
       "                       2                        4                        1 \n",
       "                    핵심                     행동                   행복감 \n",
       "                       1                       13                        3 \n",
       "                    행위                     향후                     허위 \n",
       "                       8                        1                        4 \n",
       "                    현상                     현실                     현업 \n",
       "                       9                        4                        1 \n",
       "                    현재               협력가능성             협력적상호적 \n",
       "                       1                        1                        1 \n",
       "            협력적일방적                       형                     형성 \n",
       "                       1                        2                        9 \n",
       "                    형태                       화                     화시 \n",
       "                       4                        3                        1 \n",
       "                    확대                     확률                     확보 \n",
       "                       1                        2                        2 \n",
       "                    확산                     확인                     환경 \n",
       "                       1                        7                        1 \n",
       "                환경보호                     환원                     활동 \n",
       "                       1                        1                        8 \n",
       "                    활발                   활성화                     활용 \n",
       "                       1                        1                        6 \n",
       "                    회복                     효과                     효능 \n",
       "                       2                       21                        9 \n",
       "                      후                     휴대 \n",
       "                       8                        1 "
      ]
     },
     "metadata": {},
     "output_type": "display_data"
    },
    {
     "data": {
      "text/plain": [
       "<<DocumentTermMatrix (documents: 19, terms: 193)>>\n",
       "Non-/sparse entries: 238/3429\n",
       "Sparsity           : 94%\n",
       "Maximal term length: 12\n",
       "Weighting          : term frequency (tf)"
      ]
     },
     "metadata": {},
     "output_type": "display_data"
    },
    {
     "data": {
      "text/html": [
       "<ol class=list-inline>\n",
       "\t<li>'가능성'</li>\n",
       "\t<li>'가부장적'</li>\n",
       "\t<li>'가중치'</li>\n",
       "\t<li>'가치관'</li>\n",
       "\t<li>'가치지향'</li>\n",
       "\t<li>'감염자'</li>\n",
       "\t<li>'강도가어떠한'</li>\n",
       "\t<li>'개별화'</li>\n",
       "\t<li>'개선방안'</li>\n",
       "\t<li>'건강정보'</li>\n",
       "\t<li>'건강증진'</li>\n",
       "\t<li>'고위공직자'</li>\n",
       "\t<li>'공공성'</li>\n",
       "\t<li>'공동체'</li>\n",
       "\t<li>'공동체적'</li>\n",
       "\t<li>'공연예술'</li>\n",
       "\t<li>'공익성'</li>\n",
       "\t<li>'관료제'</li>\n",
       "\t<li>'교과과정'</li>\n",
       "\t<li>'교수진'</li>\n",
       "\t<li>'교육과정'</li>\n",
       "\t<li>'국내외'</li>\n",
       "\t<li>'권위주의'</li>\n",
       "\t<li>'규정하'</li>\n",
       "\t<li>'기고자'</li>\n",
       "\t<li>'기존연구'</li>\n",
       "\t<li>'남북경협'</li>\n",
       "\t<li>'냉소주의'</li>\n",
       "\t<li>'네트워크'</li>\n",
       "\t<li>'노스탤지어적인'</li>\n",
       "\t<li>'다집단'</li>\n",
       "\t<li>'단순화'</li>\n",
       "\t<li>'대등적일방적'</li>\n",
       "\t<li>'대등적협력적'</li>\n",
       "\t<li>'대상자'</li>\n",
       "\t<li>'대외비'</li>\n",
       "\t<li>'대용량'</li>\n",
       "\t<li>'대표성'</li>\n",
       "\t<li>'대형병원'</li>\n",
       "\t<li>'데이터'</li>\n",
       "\t<li>'도시공동체'</li>\n",
       "\t<li>'동기와'</li>\n",
       "\t<li>'동질성'</li>\n",
       "\t<li>'디리쉴레분포'</li>\n",
       "\t<li>'라디오'</li>\n",
       "\t<li>'兩價感情'</li>\n",
       "\t<li>'레토릭'</li>\n",
       "\t<li>'리더쉽'</li>\n",
       "\t<li>'마케팅'</li>\n",
       "\t<li>'만족감'</li>\n",
       "\t<li>'말하기'</li>\n",
       "\t<li>'매개과정'</li>\n",
       "\t<li>'매개변수'</li>\n",
       "\t<li>'메르스'</li>\n",
       "\t<li>'문화예술'</li>\n",
       "\t<li>'미국과'</li>\n",
       "\t<li>'미국대사관'</li>\n",
       "\t<li>'미디어'</li>\n",
       "\t<li>'민주주의'</li>\n",
       "\t<li>'방법론'</li>\n",
       "\t<li>'방송사'</li>\n",
       "\t<li>'배타적'</li>\n",
       "\t<li>'보수주의자'</li>\n",
       "\t<li>'부여방법인성향가중방법과'</li>\n",
       "\t<li>'북한관련'</li>\n",
       "\t<li>'불일치'</li>\n",
       "\t<li>'사람들'</li>\n",
       "\t<li>'사회학'</li>\n",
       "\t<li>'상업성'</li>\n",
       "\t<li>'상호작용'</li>\n",
       "\t<li>'서베이'</li>\n",
       "\t<li>'서베이를'</li>\n",
       "\t<li>'서울시'</li>\n",
       "\t<li>'서울시민'</li>\n",
       "\t<li>'선행연구'</li>\n",
       "\t<li>'선호도'</li>\n",
       "\t<li>'설문조사'</li>\n",
       "\t<li>'소비자'</li>\n",
       "\t<li>'시청자'</li>\n",
       "\t<li>'식도락'</li>\n",
       "\t<li>'신도시'</li>\n",
       "\t<li>'신뢰도'</li>\n",
       "\t<li>'신뢰성'</li>\n",
       "\t<li>'신문사'</li>\n",
       "\t<li>'실용성'</li>\n",
       "\t<li>'실천이론'</li>\n",
       "\t<li>'실험결과'</li>\n",
       "\t<li>'실험연구'</li>\n",
       "\t<li>'실험조건'</li>\n",
       "\t<li>'어려움'</li>\n",
       "\t<li>'언론학'</li>\n",
       "\t<li>'엘리트'</li>\n",
       "\t<li>'여론조사'</li>\n",
       "\t<li>'역사학'</li>\n",
       "\t<li>'연구자'</li>\n",
       "\t<li>'연령별'</li>\n",
       "\t<li>'영상미'</li>\n",
       "\t<li>'예술계'</li>\n",
       "\t<li>'온라인'</li>\n",
       "\t<li>'온오프라인'</li>\n",
       "\t<li>'외교전'</li>\n",
       "\t<li>'위키리크스'</li>\n",
       "\t<li>'유의미하게'</li>\n",
       "\t<li>'유의미한'</li>\n",
       "\t<li>'유형별'</li>\n",
       "\t<li>'으로서'</li>\n",
       "\t<li>'응답자'</li>\n",
       "\t<li>'이념성향'</li>\n",
       "\t<li>'이론과'</li>\n",
       "\t<li>'이방인'</li>\n",
       "\t<li>'이야깃거리'</li>\n",
       "\t<li>'이어지는가를'</li>\n",
       "\t<li>'이용자'</li>\n",
       "\t<li>'이용행태'</li>\n",
       "\t<li>'이해관계자'</li>\n",
       "\t<li>'인간관계'</li>\n",
       "\t<li>'인력자원'</li>\n",
       "\t<li>'인식하'</li>\n",
       "\t<li>'인지이론'</li>\n",
       "\t<li>'인터넷'</li>\n",
       "\t<li>'인터넷을'</li>\n",
       "\t<li>'인터뷰'</li>\n",
       "\t<li>'일방적상호적'</li>\n",
       "\t<li>'있는가에'</li>\n",
       "\t<li>'자율성'</li>\n",
       "\t<li>'잘못된'</li>\n",
       "\t<li>'잠재력'</li>\n",
       "\t<li>'재검토'</li>\n",
       "\t<li>'재구성'</li>\n",
       "\t<li>'저널리즘'</li>\n",
       "\t<li>'적용사례'</li>\n",
       "\t<li>'전문가'</li>\n",
       "\t<li>'정권교체'</li>\n",
       "\t<li>'정당화'</li>\n",
       "\t<li>'정반대'</li>\n",
       "\t<li>'정책연구'</li>\n",
       "\t<li>'정치인'</li>\n",
       "\t<li>'정치학'</li>\n",
       "\t<li>'제시하였'</li>\n",
       "\t<li>'조사방법'</li>\n",
       "\t<li>'조직문화'</li>\n",
       "\t<li>'조직적활동이며'</li>\n",
       "\t<li>'조직화'</li>\n",
       "\t<li>'주도하'</li>\n",
       "\t<li>'주성분'</li>\n",
       "\t<li>'주재국대사관본국간'</li>\n",
       "\t<li>'주한미군'</li>\n",
       "\t<li>'중도주의자'</li>\n",
       "\t<li>'지상파'</li>\n",
       "\t<li>'지역공동체'</li>\n",
       "\t<li>'진보주의자'</li>\n",
       "\t<li>'참가자'</li>\n",
       "\t<li>'참여자'</li>\n",
       "\t<li>'책임소재'</li>\n",
       "\t<li>'청문회'</li>\n",
       "\t<li>'커뮤니케이션'</li>\n",
       "\t<li>'커뮤니티'</li>\n",
       "\t<li>'컴퓨터'</li>\n",
       "\t<li>'타당성'</li>\n",
       "\t<li>'탈규범'</li>\n",
       "\t<li>'텍스트'</li>\n",
       "\t<li>'텔레비전'</li>\n",
       "\t<li>'통계학'</li>\n",
       "\t<li>'트위터'</li>\n",
       "\t<li>'트위터가'</li>\n",
       "\t<li>'트위터는'</li>\n",
       "\t<li>'포퓰리즘'</li>\n",
       "\t<li>'포퓰리즘과'</li>\n",
       "\t<li>'포퓰리즘에'</li>\n",
       "\t<li>'포퓰리즘이'</li>\n",
       "\t<li>'표본조사'</li>\n",
       "\t<li>'표집방법에'</li>\n",
       "\t<li>'프로그래밍'</li>\n",
       "\t<li>'프로그램'</li>\n",
       "\t<li>'필진과'</li>\n",
       "\t<li>'하는가에'</li>\n",
       "\t<li>'하위문화'</li>\n",
       "\t<li>'학문분과'</li>\n",
       "\t<li>'학부모'</li>\n",
       "\t<li>'학술연구'</li>\n",
       "\t<li>'한계점'</li>\n",
       "\t<li>'한국의'</li>\n",
       "\t<li>'한미통상'</li>\n",
       "\t<li>'할당표집한'</li>\n",
       "\t<li>'합의문'</li>\n",
       "\t<li>'해당정치인'</li>\n",
       "\t<li>'해외파병'</li>\n",
       "\t<li>'행복감'</li>\n",
       "\t<li>'협력가능성'</li>\n",
       "\t<li>'협력적상호적'</li>\n",
       "\t<li>'협력적일방적'</li>\n",
       "\t<li>'환경보호'</li>\n",
       "\t<li>'활성화'</li>\n",
       "</ol>\n"
      ],
      "text/latex": [
       "\\begin{enumerate*}\n",
       "\\item '가능성'\n",
       "\\item '가부장적'\n",
       "\\item '가중치'\n",
       "\\item '가치관'\n",
       "\\item '가치지향'\n",
       "\\item '감염자'\n",
       "\\item '강도가어떠한'\n",
       "\\item '개별화'\n",
       "\\item '개선방안'\n",
       "\\item '건강정보'\n",
       "\\item '건강증진'\n",
       "\\item '고위공직자'\n",
       "\\item '공공성'\n",
       "\\item '공동체'\n",
       "\\item '공동체적'\n",
       "\\item '공연예술'\n",
       "\\item '공익성'\n",
       "\\item '관료제'\n",
       "\\item '교과과정'\n",
       "\\item '교수진'\n",
       "\\item '교육과정'\n",
       "\\item '국내외'\n",
       "\\item '권위주의'\n",
       "\\item '규정하'\n",
       "\\item '기고자'\n",
       "\\item '기존연구'\n",
       "\\item '남북경협'\n",
       "\\item '냉소주의'\n",
       "\\item '네트워크'\n",
       "\\item '노스탤지어적인'\n",
       "\\item '다집단'\n",
       "\\item '단순화'\n",
       "\\item '대등적일방적'\n",
       "\\item '대등적협력적'\n",
       "\\item '대상자'\n",
       "\\item '대외비'\n",
       "\\item '대용량'\n",
       "\\item '대표성'\n",
       "\\item '대형병원'\n",
       "\\item '데이터'\n",
       "\\item '도시공동체'\n",
       "\\item '동기와'\n",
       "\\item '동질성'\n",
       "\\item '디리쉴레분포'\n",
       "\\item '라디오'\n",
       "\\item '兩價感情'\n",
       "\\item '레토릭'\n",
       "\\item '리더쉽'\n",
       "\\item '마케팅'\n",
       "\\item '만족감'\n",
       "\\item '말하기'\n",
       "\\item '매개과정'\n",
       "\\item '매개변수'\n",
       "\\item '메르스'\n",
       "\\item '문화예술'\n",
       "\\item '미국과'\n",
       "\\item '미국대사관'\n",
       "\\item '미디어'\n",
       "\\item '민주주의'\n",
       "\\item '방법론'\n",
       "\\item '방송사'\n",
       "\\item '배타적'\n",
       "\\item '보수주의자'\n",
       "\\item '부여방법인성향가중방법과'\n",
       "\\item '북한관련'\n",
       "\\item '불일치'\n",
       "\\item '사람들'\n",
       "\\item '사회학'\n",
       "\\item '상업성'\n",
       "\\item '상호작용'\n",
       "\\item '서베이'\n",
       "\\item '서베이를'\n",
       "\\item '서울시'\n",
       "\\item '서울시민'\n",
       "\\item '선행연구'\n",
       "\\item '선호도'\n",
       "\\item '설문조사'\n",
       "\\item '소비자'\n",
       "\\item '시청자'\n",
       "\\item '식도락'\n",
       "\\item '신도시'\n",
       "\\item '신뢰도'\n",
       "\\item '신뢰성'\n",
       "\\item '신문사'\n",
       "\\item '실용성'\n",
       "\\item '실천이론'\n",
       "\\item '실험결과'\n",
       "\\item '실험연구'\n",
       "\\item '실험조건'\n",
       "\\item '어려움'\n",
       "\\item '언론학'\n",
       "\\item '엘리트'\n",
       "\\item '여론조사'\n",
       "\\item '역사학'\n",
       "\\item '연구자'\n",
       "\\item '연령별'\n",
       "\\item '영상미'\n",
       "\\item '예술계'\n",
       "\\item '온라인'\n",
       "\\item '온오프라인'\n",
       "\\item '외교전'\n",
       "\\item '위키리크스'\n",
       "\\item '유의미하게'\n",
       "\\item '유의미한'\n",
       "\\item '유형별'\n",
       "\\item '으로서'\n",
       "\\item '응답자'\n",
       "\\item '이념성향'\n",
       "\\item '이론과'\n",
       "\\item '이방인'\n",
       "\\item '이야깃거리'\n",
       "\\item '이어지는가를'\n",
       "\\item '이용자'\n",
       "\\item '이용행태'\n",
       "\\item '이해관계자'\n",
       "\\item '인간관계'\n",
       "\\item '인력자원'\n",
       "\\item '인식하'\n",
       "\\item '인지이론'\n",
       "\\item '인터넷'\n",
       "\\item '인터넷을'\n",
       "\\item '인터뷰'\n",
       "\\item '일방적상호적'\n",
       "\\item '있는가에'\n",
       "\\item '자율성'\n",
       "\\item '잘못된'\n",
       "\\item '잠재력'\n",
       "\\item '재검토'\n",
       "\\item '재구성'\n",
       "\\item '저널리즘'\n",
       "\\item '적용사례'\n",
       "\\item '전문가'\n",
       "\\item '정권교체'\n",
       "\\item '정당화'\n",
       "\\item '정반대'\n",
       "\\item '정책연구'\n",
       "\\item '정치인'\n",
       "\\item '정치학'\n",
       "\\item '제시하였'\n",
       "\\item '조사방법'\n",
       "\\item '조직문화'\n",
       "\\item '조직적활동이며'\n",
       "\\item '조직화'\n",
       "\\item '주도하'\n",
       "\\item '주성분'\n",
       "\\item '주재국대사관본국간'\n",
       "\\item '주한미군'\n",
       "\\item '중도주의자'\n",
       "\\item '지상파'\n",
       "\\item '지역공동체'\n",
       "\\item '진보주의자'\n",
       "\\item '참가자'\n",
       "\\item '참여자'\n",
       "\\item '책임소재'\n",
       "\\item '청문회'\n",
       "\\item '커뮤니케이션'\n",
       "\\item '커뮤니티'\n",
       "\\item '컴퓨터'\n",
       "\\item '타당성'\n",
       "\\item '탈규범'\n",
       "\\item '텍스트'\n",
       "\\item '텔레비전'\n",
       "\\item '통계학'\n",
       "\\item '트위터'\n",
       "\\item '트위터가'\n",
       "\\item '트위터는'\n",
       "\\item '포퓰리즘'\n",
       "\\item '포퓰리즘과'\n",
       "\\item '포퓰리즘에'\n",
       "\\item '포퓰리즘이'\n",
       "\\item '표본조사'\n",
       "\\item '표집방법에'\n",
       "\\item '프로그래밍'\n",
       "\\item '프로그램'\n",
       "\\item '필진과'\n",
       "\\item '하는가에'\n",
       "\\item '하위문화'\n",
       "\\item '학문분과'\n",
       "\\item '학부모'\n",
       "\\item '학술연구'\n",
       "\\item '한계점'\n",
       "\\item '한국의'\n",
       "\\item '한미통상'\n",
       "\\item '할당표집한'\n",
       "\\item '합의문'\n",
       "\\item '해당정치인'\n",
       "\\item '해외파병'\n",
       "\\item '행복감'\n",
       "\\item '협력가능성'\n",
       "\\item '협력적상호적'\n",
       "\\item '협력적일방적'\n",
       "\\item '환경보호'\n",
       "\\item '활성화'\n",
       "\\end{enumerate*}\n"
      ],
      "text/markdown": [
       "1. '가능성'\n",
       "2. '가부장적'\n",
       "3. '가중치'\n",
       "4. '가치관'\n",
       "5. '가치지향'\n",
       "6. '감염자'\n",
       "7. '강도가어떠한'\n",
       "8. '개별화'\n",
       "9. '개선방안'\n",
       "10. '건강정보'\n",
       "11. '건강증진'\n",
       "12. '고위공직자'\n",
       "13. '공공성'\n",
       "14. '공동체'\n",
       "15. '공동체적'\n",
       "16. '공연예술'\n",
       "17. '공익성'\n",
       "18. '관료제'\n",
       "19. '교과과정'\n",
       "20. '교수진'\n",
       "21. '교육과정'\n",
       "22. '국내외'\n",
       "23. '권위주의'\n",
       "24. '규정하'\n",
       "25. '기고자'\n",
       "26. '기존연구'\n",
       "27. '남북경협'\n",
       "28. '냉소주의'\n",
       "29. '네트워크'\n",
       "30. '노스탤지어적인'\n",
       "31. '다집단'\n",
       "32. '단순화'\n",
       "33. '대등적일방적'\n",
       "34. '대등적협력적'\n",
       "35. '대상자'\n",
       "36. '대외비'\n",
       "37. '대용량'\n",
       "38. '대표성'\n",
       "39. '대형병원'\n",
       "40. '데이터'\n",
       "41. '도시공동체'\n",
       "42. '동기와'\n",
       "43. '동질성'\n",
       "44. '디리쉴레분포'\n",
       "45. '라디오'\n",
       "46. '兩價感情'\n",
       "47. '레토릭'\n",
       "48. '리더쉽'\n",
       "49. '마케팅'\n",
       "50. '만족감'\n",
       "51. '말하기'\n",
       "52. '매개과정'\n",
       "53. '매개변수'\n",
       "54. '메르스'\n",
       "55. '문화예술'\n",
       "56. '미국과'\n",
       "57. '미국대사관'\n",
       "58. '미디어'\n",
       "59. '민주주의'\n",
       "60. '방법론'\n",
       "61. '방송사'\n",
       "62. '배타적'\n",
       "63. '보수주의자'\n",
       "64. '부여방법인성향가중방법과'\n",
       "65. '북한관련'\n",
       "66. '불일치'\n",
       "67. '사람들'\n",
       "68. '사회학'\n",
       "69. '상업성'\n",
       "70. '상호작용'\n",
       "71. '서베이'\n",
       "72. '서베이를'\n",
       "73. '서울시'\n",
       "74. '서울시민'\n",
       "75. '선행연구'\n",
       "76. '선호도'\n",
       "77. '설문조사'\n",
       "78. '소비자'\n",
       "79. '시청자'\n",
       "80. '식도락'\n",
       "81. '신도시'\n",
       "82. '신뢰도'\n",
       "83. '신뢰성'\n",
       "84. '신문사'\n",
       "85. '실용성'\n",
       "86. '실천이론'\n",
       "87. '실험결과'\n",
       "88. '실험연구'\n",
       "89. '실험조건'\n",
       "90. '어려움'\n",
       "91. '언론학'\n",
       "92. '엘리트'\n",
       "93. '여론조사'\n",
       "94. '역사학'\n",
       "95. '연구자'\n",
       "96. '연령별'\n",
       "97. '영상미'\n",
       "98. '예술계'\n",
       "99. '온라인'\n",
       "100. '온오프라인'\n",
       "101. '외교전'\n",
       "102. '위키리크스'\n",
       "103. '유의미하게'\n",
       "104. '유의미한'\n",
       "105. '유형별'\n",
       "106. '으로서'\n",
       "107. '응답자'\n",
       "108. '이념성향'\n",
       "109. '이론과'\n",
       "110. '이방인'\n",
       "111. '이야깃거리'\n",
       "112. '이어지는가를'\n",
       "113. '이용자'\n",
       "114. '이용행태'\n",
       "115. '이해관계자'\n",
       "116. '인간관계'\n",
       "117. '인력자원'\n",
       "118. '인식하'\n",
       "119. '인지이론'\n",
       "120. '인터넷'\n",
       "121. '인터넷을'\n",
       "122. '인터뷰'\n",
       "123. '일방적상호적'\n",
       "124. '있는가에'\n",
       "125. '자율성'\n",
       "126. '잘못된'\n",
       "127. '잠재력'\n",
       "128. '재검토'\n",
       "129. '재구성'\n",
       "130. '저널리즘'\n",
       "131. '적용사례'\n",
       "132. '전문가'\n",
       "133. '정권교체'\n",
       "134. '정당화'\n",
       "135. '정반대'\n",
       "136. '정책연구'\n",
       "137. '정치인'\n",
       "138. '정치학'\n",
       "139. '제시하였'\n",
       "140. '조사방법'\n",
       "141. '조직문화'\n",
       "142. '조직적활동이며'\n",
       "143. '조직화'\n",
       "144. '주도하'\n",
       "145. '주성분'\n",
       "146. '주재국대사관본국간'\n",
       "147. '주한미군'\n",
       "148. '중도주의자'\n",
       "149. '지상파'\n",
       "150. '지역공동체'\n",
       "151. '진보주의자'\n",
       "152. '참가자'\n",
       "153. '참여자'\n",
       "154. '책임소재'\n",
       "155. '청문회'\n",
       "156. '커뮤니케이션'\n",
       "157. '커뮤니티'\n",
       "158. '컴퓨터'\n",
       "159. '타당성'\n",
       "160. '탈규범'\n",
       "161. '텍스트'\n",
       "162. '텔레비전'\n",
       "163. '통계학'\n",
       "164. '트위터'\n",
       "165. '트위터가'\n",
       "166. '트위터는'\n",
       "167. '포퓰리즘'\n",
       "168. '포퓰리즘과'\n",
       "169. '포퓰리즘에'\n",
       "170. '포퓰리즘이'\n",
       "171. '표본조사'\n",
       "172. '표집방법에'\n",
       "173. '프로그래밍'\n",
       "174. '프로그램'\n",
       "175. '필진과'\n",
       "176. '하는가에'\n",
       "177. '하위문화'\n",
       "178. '학문분과'\n",
       "179. '학부모'\n",
       "180. '학술연구'\n",
       "181. '한계점'\n",
       "182. '한국의'\n",
       "183. '한미통상'\n",
       "184. '할당표집한'\n",
       "185. '합의문'\n",
       "186. '해당정치인'\n",
       "187. '해외파병'\n",
       "188. '행복감'\n",
       "189. '협력가능성'\n",
       "190. '협력적상호적'\n",
       "191. '협력적일방적'\n",
       "192. '환경보호'\n",
       "193. '활성화'\n",
       "\n",
       "\n"
      ],
      "text/plain": [
       "  [1] \"가능성\"                   \"가부장적\"                \n",
       "  [3] \"가중치\"                   \"가치관\"                  \n",
       "  [5] \"가치지향\"                 \"감염자\"                  \n",
       "  [7] \"강도가어떠한\"             \"개별화\"                  \n",
       "  [9] \"개선방안\"                 \"건강정보\"                \n",
       " [11] \"건강증진\"                 \"고위공직자\"              \n",
       " [13] \"공공성\"                   \"공동체\"                  \n",
       " [15] \"공동체적\"                 \"공연예술\"                \n",
       " [17] \"공익성\"                   \"관료제\"                  \n",
       " [19] \"교과과정\"                 \"교수진\"                  \n",
       " [21] \"교육과정\"                 \"국내외\"                  \n",
       " [23] \"권위주의\"                 \"규정하\"                  \n",
       " [25] \"기고자\"                   \"기존연구\"                \n",
       " [27] \"남북경협\"                 \"냉소주의\"                \n",
       " [29] \"네트워크\"                 \"노스탤지어적인\"          \n",
       " [31] \"다집단\"                   \"단순화\"                  \n",
       " [33] \"대등적일방적\"             \"대등적협력적\"            \n",
       " [35] \"대상자\"                   \"대외비\"                  \n",
       " [37] \"대용량\"                   \"대표성\"                  \n",
       " [39] \"대형병원\"                 \"데이터\"                  \n",
       " [41] \"도시공동체\"               \"동기와\"                  \n",
       " [43] \"동질성\"                   \"디리쉴레분포\"            \n",
       " [45] \"라디오\"                   \"兩價感情\"                \n",
       " [47] \"레토릭\"                   \"리더쉽\"                  \n",
       " [49] \"마케팅\"                   \"만족감\"                  \n",
       " [51] \"말하기\"                   \"매개과정\"                \n",
       " [53] \"매개변수\"                 \"메르스\"                  \n",
       " [55] \"문화예술\"                 \"미국과\"                  \n",
       " [57] \"미국대사관\"               \"미디어\"                  \n",
       " [59] \"민주주의\"                 \"방법론\"                  \n",
       " [61] \"방송사\"                   \"배타적\"                  \n",
       " [63] \"보수주의자\"               \"부여방법인성향가중방법과\"\n",
       " [65] \"북한관련\"                 \"불일치\"                  \n",
       " [67] \"사람들\"                   \"사회학\"                  \n",
       " [69] \"상업성\"                   \"상호작용\"                \n",
       " [71] \"서베이\"                   \"서베이를\"                \n",
       " [73] \"서울시\"                   \"서울시민\"                \n",
       " [75] \"선행연구\"                 \"선호도\"                  \n",
       " [77] \"설문조사\"                 \"소비자\"                  \n",
       " [79] \"시청자\"                   \"식도락\"                  \n",
       " [81] \"신도시\"                   \"신뢰도\"                  \n",
       " [83] \"신뢰성\"                   \"신문사\"                  \n",
       " [85] \"실용성\"                   \"실천이론\"                \n",
       " [87] \"실험결과\"                 \"실험연구\"                \n",
       " [89] \"실험조건\"                 \"어려움\"                  \n",
       " [91] \"언론학\"                   \"엘리트\"                  \n",
       " [93] \"여론조사\"                 \"역사학\"                  \n",
       " [95] \"연구자\"                   \"연령별\"                  \n",
       " [97] \"영상미\"                   \"예술계\"                  \n",
       " [99] \"온라인\"                   \"온오프라인\"              \n",
       "[101] \"외교전\"                   \"위키리크스\"              \n",
       "[103] \"유의미하게\"               \"유의미한\"                \n",
       "[105] \"유형별\"                   \"으로서\"                  \n",
       "[107] \"응답자\"                   \"이념성향\"                \n",
       "[109] \"이론과\"                   \"이방인\"                  \n",
       "[111] \"이야깃거리\"               \"이어지는가를\"            \n",
       "[113] \"이용자\"                   \"이용행태\"                \n",
       "[115] \"이해관계자\"               \"인간관계\"                \n",
       "[117] \"인력자원\"                 \"인식하\"                  \n",
       "[119] \"인지이론\"                 \"인터넷\"                  \n",
       "[121] \"인터넷을\"                 \"인터뷰\"                  \n",
       "[123] \"일방적상호적\"             \"있는가에\"                \n",
       "[125] \"자율성\"                   \"잘못된\"                  \n",
       "[127] \"잠재력\"                   \"재검토\"                  \n",
       "[129] \"재구성\"                   \"저널리즘\"                \n",
       "[131] \"적용사례\"                 \"전문가\"                  \n",
       "[133] \"정권교체\"                 \"정당화\"                  \n",
       "[135] \"정반대\"                   \"정책연구\"                \n",
       "[137] \"정치인\"                   \"정치학\"                  \n",
       "[139] \"제시하였\"                 \"조사방법\"                \n",
       "[141] \"조직문화\"                 \"조직적활동이며\"          \n",
       "[143] \"조직화\"                   \"주도하\"                  \n",
       "[145] \"주성분\"                   \"주재국대사관본국간\"      \n",
       "[147] \"주한미군\"                 \"중도주의자\"              \n",
       "[149] \"지상파\"                   \"지역공동체\"              \n",
       "[151] \"진보주의자\"               \"참가자\"                  \n",
       "[153] \"참여자\"                   \"책임소재\"                \n",
       "[155] \"청문회\"                   \"커뮤니케이션\"            \n",
       "[157] \"커뮤니티\"                 \"컴퓨터\"                  \n",
       "[159] \"타당성\"                   \"탈규범\"                  \n",
       "[161] \"텍스트\"                   \"텔레비전\"                \n",
       "[163] \"통계학\"                   \"트위터\"                  \n",
       "[165] \"트위터가\"                 \"트위터는\"                \n",
       "[167] \"포퓰리즘\"                 \"포퓰리즘과\"              \n",
       "[169] \"포퓰리즘에\"               \"포퓰리즘이\"              \n",
       "[171] \"표본조사\"                 \"표집방법에\"              \n",
       "[173] \"프로그래밍\"               \"프로그램\"                \n",
       "[175] \"필진과\"                   \"하는가에\"                \n",
       "[177] \"하위문화\"                 \"학문분과\"                \n",
       "[179] \"학부모\"                   \"학술연구\"                \n",
       "[181] \"한계점\"                   \"한국의\"                  \n",
       "[183] \"한미통상\"                 \"할당표집한\"              \n",
       "[185] \"합의문\"                   \"해당정치인\"              \n",
       "[187] \"해외파병\"                 \"행복감\"                  \n",
       "[189] \"협력가능성\"               \"협력적상호적\"            \n",
       "[191] \"협력적일방적\"             \"환경보호\"                \n",
       "[193] \"활성화\"                  "
      ]
     },
     "metadata": {},
     "output_type": "display_data"
    }
   ],
   "source": [
    "##############################\n",
    "# dtm.k 구하기\n",
    "##############################\n",
    "\n",
    "#R을 이용한 한국어 자연어처리\n",
    "library('KoNLP')\n",
    "library('tm')\n",
    "library('stringr')\n",
    "#자바의 문제가 있을 수 있으며, 문제발생시 자신의 PC 사양에 맞는 자바를 설치하고 재실행. \n",
    "\n",
    "#2016년까지 출간된 저자의 한국어 논문들의 말뭉치를 구성하였다.\n",
    "mytextlocation <- \"ymbaek_nonmun\"\n",
    "mypaper <- VCorpus(DirSource(mytextlocation))\n",
    "mypaper\n",
    "\n",
    "#우선 가장 최근 논문초록을 대상으로 한국어 자연어 처리를 진행해 보자. \n",
    "mykorean <- mypaper[[19]]$content\n",
    "mykorean\n",
    "\n",
    "#간단한 사전처리를 실시하여 봅시다. \n",
    "#영문표현들은 모두 삭제하였다(한국어 분석이기 때문에)\n",
    "mytext <- str_replace_all(mykorean, \"[[:lower:]]\",\"\")\n",
    "#괄호를 삭제하였다. \n",
    "mytext <- str_replace_all(mytext, \"\\\\(\",\"\")\n",
    "mytext <- str_replace_all(mytext, \"\\\\)\",\"\")\n",
    "#따옴표를 삭제하였다. \n",
    "mytext <- str_replace_all(mytext, \"‘\",\"\")\n",
    "mytext <- str_replace_all(mytext, \"’\",\"\")\n",
    "#가운뎃점을 삭제하였다. \n",
    "mytext <- str_replace_all(mytext, \" · \",\", \")\n",
    "mytext\n",
    "\n",
    "#의미의 핵심이라고 할 수 있는 명사를 추출하였다. \n",
    "noun.mytext <- extractNoun(mytext)\n",
    "noun.mytext\n",
    "#명사들의 빈도 분석을 해보자. \n",
    "table(noun.mytext)\n",
    "\n",
    "#한국어 말뭉치 텍스트 데이터 분석 \n",
    "#숫자표현은 어떤 것들이 사용되었는지 확인 \n",
    "mydigits <- lapply(mypaper, function(x) (str_extract_all(x, \"[[:digit:]]{1,}\")))\n",
    "table(unlist(mydigits))\n",
    "#특수기호는 어떤 것들이 사용되었고, 그 전후의 표현은 어떤가?\n",
    "mypuncts <- lapply(mypaper, function(x) (str_extract_all(x, \"\\\\b[[:alpha:]]{1,}[[:punct:]]{1,}[[:alpha:]]{1,}\\\\b\")))\n",
    "table(unlist(mypuncts))\n",
    "\n",
    "#숫자표현들 모두 삭제 \n",
    "mycorpus <- tm_map(mypaper, removeNumbers)\n",
    "\n",
    "#지정된 표현들 교체\n",
    "mytempfunct <- function(myobject, oldexp, newexp) {\n",
    "  newobject <- tm_map(myobject,\n",
    "                      content_transformer(function(x,pattern) gsub(pattern,newexp,x)), oldexp)\n",
    "  newobject \n",
    "}\n",
    "#특수기호들 처리 \n",
    "mycorpus <- mytempfunct(mycorpus, \"[[:lower:]]\",\"\")\n",
    "mycorpus <- mytempfunct(mycorpus, \"[[:upper:]]\",\"\")\n",
    "mycorpus <- mytempfunct(mycorpus, \"\\\\(\",\" \")\n",
    "mycorpus <- mytempfunct(mycorpus, \"\\\\)\",\" \")\n",
    "mycorpus <- mytempfunct(mycorpus, \"‘\",\" \")\n",
    "mycorpus <- mytempfunct(mycorpus, \"’\",\" \")\n",
    "mycorpus <- mytempfunct(mycorpus, \" · \",\", \")\n",
    "mycorpus <- mytempfunct(mycorpus, \"·\",\", \")\n",
    "mycorpus <- mytempfunct(mycorpus, \"ㆍ\",\", \")\n",
    "mycorpus <- mytempfunct(mycorpus, \"/\",\"\")\n",
    "mycorpus <- mytempfunct(mycorpus, \"-\",\"\")\n",
    "mycorpus <- mytempfunct(mycorpus, \"－\",\"\")\n",
    "mycorpus <- mytempfunct(mycorpus, \"\\\\?\",\" \")\n",
    "\n",
    "#공란 처리 \n",
    "mycorpus <- tm_map(mycorpus, stripWhitespace)\n",
    "\n",
    "#명사 추출 후 문서를 명사들의 나열로 바꾸어주는 개인맞춤 함수 \n",
    "myNounFun <- function(mytext){\n",
    "  myNounList <- paste(extractNoun(mytext),collapse='  ')\n",
    "  myNounList\n",
    "}\n",
    "\n",
    "myNounCorpus <- mycorpus \n",
    "for (i in 1:length(mycorpus)) {\n",
    "  myNounCorpus[[i]]$content <- myNounFun(mycorpus[[i]]$content)\n",
    "}\n",
    "\n",
    "#전체 말뭉치 단어를 확인해 보자. \n",
    "table(unlist(lapply(myNounCorpus,function(x) str_extract_all(x,boundary(\"word\")))))\n",
    "\n",
    "#추출된 단어들중 몇몇은 문제들을 발견할 수 있다. \n",
    "#예를 들면 포퓰리즘, 포퓰리즘과, 포퓰리즘에 등이 모두 개별단어로 처리되어 있다. \n",
    "#추가적인 작업을 통해 이런 표현들을 정리하는 것도 괜찮지만, 양이 많을 경우 노력이 많이 소요된다. \n",
    "#몇개만 실시해 보자. \n",
    "temp <- myNounCorpus\n",
    "for (i in 1:length(myNounCorpus)) {\n",
    "  myNounCorpus[[i]]$content <- str_replace_all(temp[[i]]$content,\"포퓰리즘[[:alpha:]]{1,}\",\"포퓰리즘\")\n",
    "  myNounCorpus[[i]]$content <- str_replace_all(temp[[i]]$content,\"커뮤니케이션[[:alpha:]]{1,}\",\"커뮤니케이션\")\n",
    "  myNounCorpus[[i]]$content <- str_replace_all(temp[[i]]$content,\"참여[[:alpha:]]{1,}\",\"참가\")  \n",
    "  myNounCorpus[[i]]$content <- str_replace_all(temp[[i]]$content,\"참가[[:alpha:]]{1,}\",\"참가\") \n",
    "  myNounCorpus[[i]]$content <- str_replace_all(temp[[i]]$content,\"위키리크스[[:alpha:]]{1,}\",\"위키리크스\") \n",
    "}\n",
    "#DTM을 구축\n",
    "dtm.k <- DocumentTermMatrix(myNounCorpus)\n",
    "dtm.k\n",
    "colnames(dtm.k[,])"
   ]
  },
  {
   "cell_type": "code",
   "execution_count": 72,
   "metadata": {},
   "outputs": [
    {
     "data": {
      "image/png": "[encoded data removed]",
      "text/plain": [
       "Plot with title “”"
      ]
     },
     "metadata": {},
     "output_type": "display_data"
    },
    {
     "data": {
      "image/png": "[encoded data removed]",
      "text/plain": [
       "plot without title"
      ]
     },
     "metadata": {},
     "output_type": "display_data"
    }
   ],
   "source": [
    "#이제는 한국어 학술논문들의 말뭉치를 분석해 보자. \n",
    "#동일한 과정을 밟았다. \n",
    "word.freq <- apply(dtm.k[,],2,sum)\n",
    "sort.word.freq <- sort(word.freq,decreasing=TRUE)\n",
    "cumsum.word.freq <- cumsum(sort.word.freq)\n",
    "#다음과 같이 하면 전체합이 1이 되는 비율을 계산할 수 있다. \n",
    "prop.word.freq <- cumsum.word.freq/cumsum.word.freq[length(cumsum.word.freq)]\n",
    "#단어빈도에 대한 간단한 분석  \n",
    "plot(1:length(word.freq),prop.word.freq,type='l',\n",
    "     xlab='단어의 발현빈도',ylab='누적비율',\n",
    "     main=\"\",axes=FALSE)\n",
    "axis(1,at=round(24.3*(0:10)),labels=paste(10*(0:10),\"%\",sep=\"\"))\n",
    "axis(2,at=0.20*(0:5),labels=paste(20*(0:5),\"%\",sep=\"\"))\n",
    "for (i in 1:9) {\n",
    "  text(2.43*10*i,0.05+prop.word.freq[2.43*10*i],\n",
    "       labels=paste(round(100*prop.word.freq[2.43*10*i]),\"%\",sep=\"\"))\n",
    "  points(2.43*10*i,prop.word.freq[2.43*10*i],pch=19)\n",
    "}\n",
    "\n",
    "pal <- brewer.pal(4, \"Dark2\")\n",
    "wordcloud(names(word.freq),freq=word.freq,scale=c(4,0.05),\n",
    "          rot.per=0.0,min.freq=5,random.order=FALSE,col=pal)"
   ]
  },
  {
   "cell_type": "code",
   "execution_count": 73,
   "metadata": {},
   "outputs": [
    {
     "data": {
      "text/html": [
       "<strong>$polit</strong> = <dl class=dl-horizontal>\n",
       "\t<dt>aaebuycottingaaf</dt>\n",
       "\t\t<dd>0.73</dd>\n",
       "\t<dt>academ</dt>\n",
       "\t\t<dd>0.73</dd>\n",
       "\t<dt>agenda</dt>\n",
       "\t\t<dd>0.73</dd>\n",
       "\t<dt>boycot</dt>\n",
       "\t\t<dd>0.73</dd>\n",
       "\t<dt>boycott</dt>\n",
       "\t\t<dd>0.73</dd>\n",
       "\t<dt>buycott</dt>\n",
       "\t\t<dd>0.73</dd>\n",
       "\t<dt>consumer</dt>\n",
       "\t\t<dd>0.73</dd>\n",
       "\t<dt>demograph</dt>\n",
       "\t\t<dd>0.73</dd>\n",
       "\t<dt>discredit</dt>\n",
       "\t\t<dd>0.73</dd>\n",
       "\t<dt>interest</dt>\n",
       "\t\t<dd>0.73</dd>\n",
       "\t<dt>lifestyl</dt>\n",
       "\t\t<dd>0.73</dd>\n",
       "\t<dt>possess</dt>\n",
       "\t\t<dd>0.73</dd>\n",
       "\t<dt>postmateri</dt>\n",
       "\t\t<dd>0.73</dd>\n",
       "\t<dt>socio</dt>\n",
       "\t\t<dd>0.73</dd>\n",
       "\t<dt>underscor</dt>\n",
       "\t\t<dd>0.73</dd>\n",
       "\t<dt>civic</dt>\n",
       "\t\t<dd>0.68</dd>\n",
       "\t<dt>emerg</dt>\n",
       "\t\t<dd>0.68</dd>\n",
       "\t<dt>particip</dt>\n",
       "\t\t<dd>0.65</dd>\n",
       "\t<dt>background</dt>\n",
       "\t\t<dd>0.61</dd>\n",
       "\t<dt>issu</dt>\n",
       "\t\t<dd>0.61</dd>\n",
       "\t<dt>generat</dt>\n",
       "\t\t<dd>0.56</dd>\n",
       "\t<dt>consum</dt>\n",
       "\t\t<dd>0.55</dd>\n",
       "\t<dt>measur</dt>\n",
       "\t\t<dd>0.55</dd>\n",
       "\t<dt>democrat</dt>\n",
       "\t\t<dd>0.53</dd>\n",
       "</dl>\n"
      ],
      "text/latex": [
       "\\textbf{\\$polit} = \\begin{description*}\n",
       "\\item[aaebuycottingaaf] 0.73\n",
       "\\item[academ] 0.73\n",
       "\\item[agenda] 0.73\n",
       "\\item[boycot] 0.73\n",
       "\\item[boycott] 0.73\n",
       "\\item[buycott] 0.73\n",
       "\\item[consumer] 0.73\n",
       "\\item[demograph] 0.73\n",
       "\\item[discredit] 0.73\n",
       "\\item[interest] 0.73\n",
       "\\item[lifestyl] 0.73\n",
       "\\item[possess] 0.73\n",
       "\\item[postmateri] 0.73\n",
       "\\item[socio] 0.73\n",
       "\\item[underscor] 0.73\n",
       "\\item[civic] 0.68\n",
       "\\item[emerg] 0.68\n",
       "\\item[particip] 0.65\n",
       "\\item[background] 0.61\n",
       "\\item[issu] 0.61\n",
       "\\item[generat] 0.56\n",
       "\\item[consum] 0.55\n",
       "\\item[measur] 0.55\n",
       "\\item[democrat] 0.53\n",
       "\\end{description*}\n"
      ],
      "text/markdown": [
       "**$polit** = aaebuycottingaaf\n",
       ":   0.73academ\n",
       ":   0.73agenda\n",
       ":   0.73boycot\n",
       ":   0.73boycott\n",
       ":   0.73buycott\n",
       ":   0.73consumer\n",
       ":   0.73demograph\n",
       ":   0.73discredit\n",
       ":   0.73interest\n",
       ":   0.73lifestyl\n",
       ":   0.73possess\n",
       ":   0.73postmateri\n",
       ":   0.73socio\n",
       ":   0.73underscor\n",
       ":   0.73civic\n",
       ":   0.68emerg\n",
       ":   0.68particip\n",
       ":   0.65background\n",
       ":   0.61issu\n",
       ":   0.61generat\n",
       ":   0.56consum\n",
       ":   0.55measur\n",
       ":   0.55democrat\n",
       ":   0.53\n",
       "\n"
      ],
      "text/plain": [
       "$polit\n",
       "aaebuycottingaaf           academ           agenda           boycot \n",
       "            0.73             0.73             0.73             0.73 \n",
       "         boycott          buycott         consumer        demograph \n",
       "            0.73             0.73             0.73             0.73 \n",
       "       discredit         interest         lifestyl          possess \n",
       "            0.73             0.73             0.73             0.73 \n",
       "      postmateri            socio        underscor            civic \n",
       "            0.73             0.73             0.73             0.68 \n",
       "           emerg         particip       background             issu \n",
       "            0.68             0.65             0.61             0.61 \n",
       "         generat           consum           measur         democrat \n",
       "            0.56             0.55             0.55             0.53 \n"
      ]
     },
     "metadata": {},
     "output_type": "display_data"
    }
   ],
   "source": [
    "#findAssocs 함수를 사용하면 DTM, TDM에 등장하는 단어가 지정된 수치를 이상인 값으로 연관된 단어들 목록을 알 수 있다. \n",
    "#즉 아래는 dtm.e라는 DTM에 속한 polit라는 단어와 .50이상의 상관관계를 갖는 단어들의 목록을 구하는 방법이다. \n",
    "findAssocs(dtm.e,\"polit\",0.50)"
   ]
  },
  {
   "cell_type": "code",
   "execution_count": 74,
   "metadata": {},
   "outputs": [
    {
     "data": {
      "text/plain": [
       "\n",
       "\tPearson's product-moment correlation\n",
       "\n",
       "data:  var1 and var2\n",
       "t = 4.9693, df = 22, p-value = 5.675e-05\n",
       "alternative hypothesis: true correlation is not equal to 0\n",
       "95 percent confidence interval:\n",
       " 0.4582569 0.8741715\n",
       "sample estimates:\n",
       "      cor \n",
       "0.7272202 \n"
      ]
     },
     "metadata": {},
     "output_type": "display_data"
    }
   ],
   "source": [
    "#findAssocs는 사실 피어슨 상관계수다. 예를 들어 polit와 agenda 두 단어의 상관계수를 구해보자. \n",
    "var1 <- as.vector(dtm.e[,\"polit\"])\n",
    "var2 <- as.vector(dtm.e[,\"agenda\"])\n",
    "cor.test(var1,var2)"
   ]
  },
  {
   "cell_type": "code",
   "execution_count": 75,
   "metadata": {},
   "outputs": [],
   "source": [
    "#위와 같은 과정을 개인맞춤형 함수로 지정해 보자. \n",
    "my.assoc.func <- function(mydtm,term1,term2){\n",
    "  myvar1 <- as.vector(mydtm[,term1])\n",
    "  myvar2 <- as.vector(mydtm[,term2])\n",
    "  cor.test(myvar1,myvar2)\n",
    "}"
   ]
  },
  {
   "cell_type": "code",
   "execution_count": 76,
   "metadata": {},
   "outputs": [
    {
     "data": {
      "text/plain": [
       "\n",
       "\tPearson's product-moment correlation\n",
       "\n",
       "data:  myvar1 and myvar2\n",
       "t = 4.9693, df = 22, p-value = 5.675e-05\n",
       "alternative hypothesis: true correlation is not equal to 0\n",
       "95 percent confidence interval:\n",
       " 0.4582569 0.8741715\n",
       "sample estimates:\n",
       "      cor \n",
       "0.7272202 \n"
      ]
     },
     "metadata": {},
     "output_type": "display_data"
    }
   ],
   "source": [
    "#동일한 결과를 얻을 수 있다. \n",
    "my.assoc.func(dtm.e,\"polit\",\"agenda\")"
   ]
  },
  {
   "cell_type": "code",
   "execution_count": 77,
   "metadata": {},
   "outputs": [
    {
     "data": {
      "text/plain": [
       "\n",
       "\tPearson's product-moment correlation\n",
       "\n",
       "data:  myvar1 and myvar2\n",
       "t = 11.573, df = 684, p-value < 2.2e-16\n",
       "alternative hypothesis: true correlation is not equal to 0\n",
       "95 percent confidence interval:\n",
       " 0.3400907 0.4654036\n",
       "sample estimates:\n",
       "     cor \n",
       "0.404645 \n"
      ]
     },
     "metadata": {},
     "output_type": "display_data"
    }
   ],
   "source": [
    "#DTM을 TDM으로 전치시킨 후 문서와 문서의 상관계수도 구할 수 있다. \n",
    "my.assoc.func(t(dtm.e),\"p2014a.txt\",\"p2014f.txt\")"
   ]
  },
  {
   "cell_type": "code",
   "execution_count": 78,
   "metadata": {},
   "outputs": [],
   "source": [
    "#아래와 같이 문서와 문서의 상관계수 행렬을 계산할 수도 있다. \n",
    "length.doc <- length(rownames(dtm.e))\n",
    "my.doc.cor <- matrix(NA,nrow=length.doc,ncol=length.doc)\n",
    "for (i in 1:length.doc) {\n",
    "  for (j in 1:length.doc) {\n",
    "    my.doc.cor[i,j] <- my.assoc.func(t(dtm.e),rownames(dtm.e)[i],rownames(dtm.e)[j])$est\n",
    "  }\n",
    "}\n",
    "rownames(my.doc.cor) <- colnames(my.doc.cor) <- rownames(dtm.e)"
   ]
  },
  {
   "cell_type": "code",
   "execution_count": 79,
   "metadata": {},
   "outputs": [
    {
     "data": {
      "text/html": [
       "<table>\n",
       "<caption>A matrix: 4 × 4 of type dbl</caption>\n",
       "<thead>\n",
       "\t<tr><th></th><th scope=col>p2009a.txt</th><th scope=col>p2009b.txt</th><th scope=col>p2010a.txt</th><th scope=col>p2010b.txt</th></tr>\n",
       "</thead>\n",
       "<tbody>\n",
       "\t<tr><th scope=row>p2009a.txt</th><td> 1.00</td><td>0.08</td><td>0.20</td><td>-0.04</td></tr>\n",
       "\t<tr><th scope=row>p2009b.txt</th><td> 0.08</td><td>1.00</td><td>0.12</td><td> 0.04</td></tr>\n",
       "\t<tr><th scope=row>p2010a.txt</th><td> 0.20</td><td>0.12</td><td>1.00</td><td> 0.00</td></tr>\n",
       "\t<tr><th scope=row>p2010b.txt</th><td>-0.04</td><td>0.04</td><td>0.00</td><td> 1.00</td></tr>\n",
       "</tbody>\n",
       "</table>\n"
      ],
      "text/latex": [
       "A matrix: 4 × 4 of type dbl\n",
       "\\begin{tabular}{r|llll}\n",
       "  & p2009a.txt & p2009b.txt & p2010a.txt & p2010b.txt\\\\\n",
       "\\hline\n",
       "\tp2009a.txt &  1.00 & 0.08 & 0.20 & -0.04\\\\\n",
       "\tp2009b.txt &  0.08 & 1.00 & 0.12 &  0.04\\\\\n",
       "\tp2010a.txt &  0.20 & 0.12 & 1.00 &  0.00\\\\\n",
       "\tp2010b.txt & -0.04 & 0.04 & 0.00 &  1.00\\\\\n",
       "\\end{tabular}\n"
      ],
      "text/markdown": [
       "\n",
       "A matrix: 4 × 4 of type dbl\n",
       "\n",
       "| <!--/--> | p2009a.txt | p2009b.txt | p2010a.txt | p2010b.txt |\n",
       "|---|---|---|---|---|\n",
       "| p2009a.txt |  1.00 | 0.08 | 0.20 | -0.04 |\n",
       "| p2009b.txt |  0.08 | 1.00 | 0.12 |  0.04 |\n",
       "| p2010a.txt |  0.20 | 0.12 | 1.00 |  0.00 |\n",
       "| p2010b.txt | -0.04 | 0.04 | 0.00 |  1.00 |\n",
       "\n"
      ],
      "text/plain": [
       "           p2009a.txt p2009b.txt p2010a.txt p2010b.txt\n",
       "p2009a.txt  1.00      0.08       0.20       -0.04     \n",
       "p2009b.txt  0.08      1.00       0.12        0.04     \n",
       "p2010a.txt  0.20      0.12       1.00        0.00     \n",
       "p2010b.txt -0.04      0.04       0.00        1.00     "
      ]
     },
     "metadata": {},
     "output_type": "display_data"
    }
   ],
   "source": [
    "#상관계수 행렬의 일부만 살펴보자. \n",
    "round(my.doc.cor[1:4,1:4],2)"
   ]
  },
  {
   "cell_type": "code",
   "execution_count": 80,
   "metadata": {},
   "outputs": [
    {
     "data": {
      "text/html": [
       "<dl class=dl-horizontal>\n",
       "\t<dt>p2009a.txt</dt>\n",
       "\t\t<dd>1</dd>\n",
       "\t<dt>p2009b.txt</dt>\n",
       "\t\t<dd>0.08</dd>\n",
       "\t<dt>p2010a.txt</dt>\n",
       "\t\t<dd>0.2</dd>\n",
       "\t<dt>p2010b.txt</dt>\n",
       "\t\t<dd>-0.04</dd>\n",
       "\t<dt>p2010c.txt</dt>\n",
       "\t\t<dd>0.04</dd>\n",
       "\t<dt>p2011a.txt</dt>\n",
       "\t\t<dd>0.05</dd>\n",
       "\t<dt>p2011b.txt</dt>\n",
       "\t\t<dd>-0.05</dd>\n",
       "\t<dt>p2012a.txt</dt>\n",
       "\t\t<dd>0.51</dd>\n",
       "\t<dt>p2012b.txt</dt>\n",
       "\t\t<dd>0.04</dd>\n",
       "\t<dt>p2013a.txt</dt>\n",
       "\t\t<dd>0</dd>\n",
       "\t<dt>p2014a.txt</dt>\n",
       "\t\t<dd>0.11</dd>\n",
       "\t<dt>p2014b.txt</dt>\n",
       "\t\t<dd>0.02</dd>\n",
       "\t<dt>p2014c.txt</dt>\n",
       "\t\t<dd>0</dd>\n",
       "\t<dt>p2014d.txt</dt>\n",
       "\t\t<dd>0.05</dd>\n",
       "\t<dt>p2014e.txt</dt>\n",
       "\t\t<dd>0.06</dd>\n",
       "\t<dt>p2014f.txt</dt>\n",
       "\t\t<dd>0.03</dd>\n",
       "\t<dt>p2014g.txt</dt>\n",
       "\t\t<dd>0.01</dd>\n",
       "\t<dt>p2014h.txt</dt>\n",
       "\t\t<dd>0.08</dd>\n",
       "\t<dt>p2014i.txt</dt>\n",
       "\t\t<dd>0.05</dd>\n",
       "\t<dt>p2014k.txt</dt>\n",
       "\t\t<dd>0.12</dd>\n",
       "\t<dt>p2015a.txt</dt>\n",
       "\t\t<dd>0.03</dd>\n",
       "\t<dt>p2015b.txt</dt>\n",
       "\t\t<dd>0.04</dd>\n",
       "\t<dt>p2015c.txt</dt>\n",
       "\t\t<dd>0.06</dd>\n",
       "\t<dt>p2015d.txt</dt>\n",
       "\t\t<dd>0.01</dd>\n",
       "</dl>\n"
      ],
      "text/latex": [
       "\\begin{description*}\n",
       "\\item[p2009a.txt] 1\n",
       "\\item[p2009b.txt] 0.08\n",
       "\\item[p2010a.txt] 0.2\n",
       "\\item[p2010b.txt] -0.04\n",
       "\\item[p2010c.txt] 0.04\n",
       "\\item[p2011a.txt] 0.05\n",
       "\\item[p2011b.txt] -0.05\n",
       "\\item[p2012a.txt] 0.51\n",
       "\\item[p2012b.txt] 0.04\n",
       "\\item[p2013a.txt] 0\n",
       "\\item[p2014a.txt] 0.11\n",
       "\\item[p2014b.txt] 0.02\n",
       "\\item[p2014c.txt] 0\n",
       "\\item[p2014d.txt] 0.05\n",
       "\\item[p2014e.txt] 0.06\n",
       "\\item[p2014f.txt] 0.03\n",
       "\\item[p2014g.txt] 0.01\n",
       "\\item[p2014h.txt] 0.08\n",
       "\\item[p2014i.txt] 0.05\n",
       "\\item[p2014k.txt] 0.12\n",
       "\\item[p2015a.txt] 0.03\n",
       "\\item[p2015b.txt] 0.04\n",
       "\\item[p2015c.txt] 0.06\n",
       "\\item[p2015d.txt] 0.01\n",
       "\\end{description*}\n"
      ],
      "text/markdown": [
       "p2009a.txt\n",
       ":   1p2009b.txt\n",
       ":   0.08p2010a.txt\n",
       ":   0.2p2010b.txt\n",
       ":   -0.04p2010c.txt\n",
       ":   0.04p2011a.txt\n",
       ":   0.05p2011b.txt\n",
       ":   -0.05p2012a.txt\n",
       ":   0.51p2012b.txt\n",
       ":   0.04p2013a.txt\n",
       ":   0p2014a.txt\n",
       ":   0.11p2014b.txt\n",
       ":   0.02p2014c.txt\n",
       ":   0p2014d.txt\n",
       ":   0.05p2014e.txt\n",
       ":   0.06p2014f.txt\n",
       ":   0.03p2014g.txt\n",
       ":   0.01p2014h.txt\n",
       ":   0.08p2014i.txt\n",
       ":   0.05p2014k.txt\n",
       ":   0.12p2015a.txt\n",
       ":   0.03p2015b.txt\n",
       ":   0.04p2015c.txt\n",
       ":   0.06p2015d.txt\n",
       ":   0.01\n",
       "\n"
      ],
      "text/plain": [
       "p2009a.txt p2009b.txt p2010a.txt p2010b.txt p2010c.txt p2011a.txt p2011b.txt \n",
       "      1.00       0.08       0.20      -0.04       0.04       0.05      -0.05 \n",
       "p2012a.txt p2012b.txt p2013a.txt p2014a.txt p2014b.txt p2014c.txt p2014d.txt \n",
       "      0.51       0.04       0.00       0.11       0.02       0.00       0.05 \n",
       "p2014e.txt p2014f.txt p2014g.txt p2014h.txt p2014i.txt p2014k.txt p2015a.txt \n",
       "      0.06       0.03       0.01       0.08       0.05       0.12       0.03 \n",
       "p2015b.txt p2015c.txt p2015d.txt \n",
       "      0.04       0.06       0.01 "
      ]
     },
     "metadata": {},
     "output_type": "display_data"
    }
   ],
   "source": [
    "#예를 들어 첫번째 문서, 즉 p2009a.txt는 다른 문서들과 어떤 상관관계를 갖는지 살펴볼 수 있다. \n",
    "round(my.doc.cor[,1],2)"
   ]
  },
  {
   "cell_type": "code",
   "execution_count": 81,
   "metadata": {},
   "outputs": [
    {
     "data": {
      "text/plain": [
       "     Min.   1st Qu.    Median      Mean   3rd Qu.      Max. \n",
       "-0.045511  0.008282  0.037820  0.062494  0.083207  0.511300 "
      ]
     },
     "metadata": {},
     "output_type": "display_data"
    },
    {
     "data": {
      "image/png": "[encoded data removed]",
      "text/plain": [
       "Plot with title “Correlations between English journal papers”"
      ]
     },
     "metadata": {},
     "output_type": "display_data"
    }
   ],
   "source": [
    "#아래와 같은 방법으로 문서간 상관계수의 히스토그램을 살펴보자. \n",
    "hist(my.doc.cor[lower.tri(my.doc.cor)],breaks=30,\n",
    "     col='lightblue',xlim=c(-0.1,0.6),xlab=\"correlations\",\n",
    "     main=\"Correlations between English journal papers\")\n",
    "summary(my.doc.cor[lower.tri(my.doc.cor)])"
   ]
  },
  {
   "cell_type": "code",
   "execution_count": 82,
   "metadata": {},
   "outputs": [
    {
     "data": {
      "text/plain": [
       "\n",
       "Call:\n",
       "factanal(factors = 5, covmat = my.doc.cor, rotation = \"promax\")\n",
       "\n",
       "Uniquenesses:\n",
       "p2009a.txt p2009b.txt p2010a.txt p2010b.txt p2010c.txt p2011a.txt p2011b.txt \n",
       "     0.670      0.900      0.747      0.964      0.576      0.819      0.998 \n",
       "p2012a.txt p2012b.txt p2013a.txt p2014a.txt p2014b.txt p2014c.txt p2014d.txt \n",
       "     0.205      0.975      0.208      0.625      0.690      0.994      0.481 \n",
       "p2014e.txt p2014f.txt p2014g.txt p2014h.txt p2014i.txt p2014k.txt p2015a.txt \n",
       "     0.894      0.691      0.793      0.734      0.988      0.720      0.301 \n",
       "p2015b.txt p2015c.txt p2015d.txt \n",
       "     0.942      0.970      0.682 \n",
       "\n",
       "Loadings:\n",
       "           Factor1 Factor2 Factor3 Factor4 Factor5\n",
       "p2009a.txt                                  0.578 \n",
       "p2009b.txt                  0.338                 \n",
       "p2010a.txt                  0.384  -0.102   0.264 \n",
       "p2010b.txt                  0.135                 \n",
       "p2010c.txt                  0.673                 \n",
       "p2011a.txt                  0.453  -0.113         \n",
       "p2011b.txt                                        \n",
       "p2012a.txt                                  0.875 \n",
       "p2012b.txt                                        \n",
       "p2013a.txt -0.120                   0.940         \n",
       "p2014a.txt  0.594                           0.116 \n",
       "p2014b.txt          0.553                         \n",
       "p2014c.txt                                        \n",
       "p2014d.txt  0.750                                 \n",
       "p2014e.txt                          0.316         \n",
       "p2014f.txt  0.588                                 \n",
       "p2014g.txt  0.228           0.300   0.136  -0.123 \n",
       "p2014h.txt  0.211                   0.385         \n",
       "p2014i.txt                                        \n",
       "p2014k.txt                  0.474   0.169         \n",
       "p2015a.txt          0.847                         \n",
       "p2015b.txt          0.127                         \n",
       "p2015c.txt                  0.163                 \n",
       "p2015d.txt          0.569                         \n",
       "\n",
       "               Factor1 Factor2 Factor3 Factor4 Factor5\n",
       "SS loadings      1.389   1.389   1.337   1.261   1.222\n",
       "Proportion Var   0.058   0.058   0.056   0.053   0.051\n",
       "Cumulative Var   0.058   0.116   0.171   0.224   0.275\n",
       "\n",
       "Factor Correlations:\n",
       "        Factor1 Factor2 Factor3 Factor4 Factor5\n",
       "Factor1  1.0000 -0.0682 -0.0549   0.187  -0.286\n",
       "Factor2 -0.0682  1.0000  0.1737  -0.300   0.273\n",
       "Factor3 -0.0549  0.1737  1.0000  -0.165   0.158\n",
       "Factor4  0.1868 -0.3003 -0.1646   1.000  -0.151\n",
       "Factor5 -0.2859  0.2730  0.1582  -0.151   1.000\n",
       "\n",
       "The degrees of freedom for the model is 166 and the fit was 0.4812 "
      ]
     },
     "metadata": {},
     "output_type": "display_data"
    }
   ],
   "source": [
    "#위의 상관계수 행렬을 이용해 EFA나 PCA를 실시하는 것도 가능하다. \n",
    "factanal(factors=5,covmat=my.doc.cor,rotation=\"promax\")"
   ]
  },
  {
   "cell_type": "code",
   "execution_count": 83,
   "metadata": {},
   "outputs": [],
   "source": [
    "#한국어 학술논문 말뭉치에 대해서도 문서간 유사도를 계산해보자. \n",
    "#영어 학술논문 말뭉치를 분석한 경우와 동일한 과정을 밟았다. \n",
    "length.doc <- length(rownames(dtm.k))\n",
    "my.doc.cor <- matrix(NA,nrow=length.doc,ncol=length.doc)\n",
    "for (i in 1:length.doc) {\n",
    "  for (j in 1:length.doc) {\n",
    "    my.doc.cor[i,j] <- my.assoc.func(t(dtm.k),rownames(dtm.k)[i],rownames(dtm.k)[j])$est\n",
    "  }\n",
    "}\n",
    "rownames(my.doc.cor) <- colnames(my.doc.cor) <- rownames(dtm.k)"
   ]
  },
  {
   "cell_type": "code",
   "execution_count": 84,
   "metadata": {},
   "outputs": [
    {
     "data": {
      "image/png": "[encoded data removed]",
      "text/plain": [
       "Plot with title “한국어 학술논문들 사이의 상관계수 분포”"
      ]
     },
     "metadata": {},
     "output_type": "display_data"
    }
   ],
   "source": [
    "#상관계수의 히스토그램은 다음과 같다. \n",
    "hist(my.doc.cor[lower.tri(my.doc.cor)],breaks=30,\n",
    "     col='lightblue',xlim=c(-0.1,0.6),xlab=\"상관계수\",\n",
    "     main=\"한국어 학술논문들 사이의 상관계수 분포\")"
   ]
  },
  {
   "cell_type": "code",
   "execution_count": 85,
   "metadata": {},
   "outputs": [
    {
     "data": {
      "text/html": [
       "<dl class=dl-horizontal>\n",
       "\t<dt>up2004a.txt</dt>\n",
       "\t\t<dd>-0.04</dd>\n",
       "\t<dt>up2005a.txt</dt>\n",
       "\t\t<dd>-0.03</dd>\n",
       "\t<dt>up2005b.txt</dt>\n",
       "\t\t<dd>-0.06</dd>\n",
       "\t<dt>up2012a.txt</dt>\n",
       "\t\t<dd>0.02</dd>\n",
       "\t<dt>up2012b.txt</dt>\n",
       "\t\t<dd>-0.02</dd>\n",
       "\t<dt>up2013a.txt</dt>\n",
       "\t\t<dd>-0.05</dd>\n",
       "\t<dt>up2013b.txt</dt>\n",
       "\t\t<dd>-0.04</dd>\n",
       "\t<dt>up2014a.txt</dt>\n",
       "\t\t<dd>-0.01</dd>\n",
       "\t<dt>up2014b.txt</dt>\n",
       "\t\t<dd>-0.03</dd>\n",
       "\t<dt>up2014c.txt</dt>\n",
       "\t\t<dd>-0.04</dd>\n",
       "\t<dt>up2014d.txt</dt>\n",
       "\t\t<dd>0</dd>\n",
       "\t<dt>up2016a.txt</dt>\n",
       "\t\t<dd>-0.04</dd>\n",
       "\t<dt>up2016b.txt</dt>\n",
       "\t\t<dd>-0.03</dd>\n",
       "\t<dt>up2016c.txt</dt>\n",
       "\t\t<dd>0</dd>\n",
       "\t<dt>up2016d.txt</dt>\n",
       "\t\t<dd>-0.01</dd>\n",
       "\t<dt>up2016e.txt</dt>\n",
       "\t\t<dd>-0.03</dd>\n",
       "\t<dt>up2016f.txt</dt>\n",
       "\t\t<dd>-0.03</dd>\n",
       "\t<dt>up2016g.txt</dt>\n",
       "\t\t<dd>-0.04</dd>\n",
       "\t<dt>up2016h.txt</dt>\n",
       "\t\t<dd>1</dd>\n",
       "</dl>\n"
      ],
      "text/latex": [
       "\\begin{description*}\n",
       "\\item[up2004a.txt] -0.04\n",
       "\\item[up2005a.txt] -0.03\n",
       "\\item[up2005b.txt] -0.06\n",
       "\\item[up2012a.txt] 0.02\n",
       "\\item[up2012b.txt] -0.02\n",
       "\\item[up2013a.txt] -0.05\n",
       "\\item[up2013b.txt] -0.04\n",
       "\\item[up2014a.txt] -0.01\n",
       "\\item[up2014b.txt] -0.03\n",
       "\\item[up2014c.txt] -0.04\n",
       "\\item[up2014d.txt] 0\n",
       "\\item[up2016a.txt] -0.04\n",
       "\\item[up2016b.txt] -0.03\n",
       "\\item[up2016c.txt] 0\n",
       "\\item[up2016d.txt] -0.01\n",
       "\\item[up2016e.txt] -0.03\n",
       "\\item[up2016f.txt] -0.03\n",
       "\\item[up2016g.txt] -0.04\n",
       "\\item[up2016h.txt] 1\n",
       "\\end{description*}\n"
      ],
      "text/markdown": [
       "up2004a.txt\n",
       ":   -0.04up2005a.txt\n",
       ":   -0.03up2005b.txt\n",
       ":   -0.06up2012a.txt\n",
       ":   0.02up2012b.txt\n",
       ":   -0.02up2013a.txt\n",
       ":   -0.05up2013b.txt\n",
       ":   -0.04up2014a.txt\n",
       ":   -0.01up2014b.txt\n",
       ":   -0.03up2014c.txt\n",
       ":   -0.04up2014d.txt\n",
       ":   0up2016a.txt\n",
       ":   -0.04up2016b.txt\n",
       ":   -0.03up2016c.txt\n",
       ":   0up2016d.txt\n",
       ":   -0.01up2016e.txt\n",
       ":   -0.03up2016f.txt\n",
       ":   -0.03up2016g.txt\n",
       ":   -0.04up2016h.txt\n",
       ":   1\n",
       "\n"
      ],
      "text/plain": [
       "up2004a.txt up2005a.txt up2005b.txt up2012a.txt up2012b.txt up2013a.txt \n",
       "      -0.04       -0.03       -0.06        0.02       -0.02       -0.05 \n",
       "up2013b.txt up2014a.txt up2014b.txt up2014c.txt up2014d.txt up2016a.txt \n",
       "      -0.04       -0.01       -0.03       -0.04        0.00       -0.04 \n",
       "up2016b.txt up2016c.txt up2016d.txt up2016e.txt up2016f.txt up2016g.txt \n",
       "      -0.03        0.00       -0.01       -0.03       -0.03       -0.04 \n",
       "up2016h.txt \n",
       "       1.00 "
      ]
     },
     "metadata": {},
     "output_type": "display_data"
    },
    {
     "data": {
      "text/plain": [
       "     Min.   1st Qu.    Median      Mean   3rd Qu.      Max. \n",
       "-0.102812 -0.040421 -0.028838 -0.001476 -0.015769  0.543449 "
      ]
     },
     "metadata": {},
     "output_type": "display_data"
    }
   ],
   "source": [
    "#이번에는 가장 마지막 문서인 p2015d.txt 다른 문서들과 맺고 있는 상관관계를 살펴보았다. \n",
    "round(my.doc.cor[,nrow(my.doc.cor)],2)\n",
    "summary(my.doc.cor[lower.tri(my.doc.cor)])"
   ]
  },
  {
   "cell_type": "code",
   "execution_count": 86,
   "metadata": {},
   "outputs": [],
   "source": [
    "#마찬가지로 위의 상관계수 행렬을 이용해 EFA나 PCA를 실시하는 것도 가능하다. \n",
    "#하지만 별도로 제시하지는 않았다. "
   ]
  },
  {
   "cell_type": "code",
   "execution_count": 87,
   "metadata": {},
   "outputs": [
    {
     "data": {
      "text/html": [
       "<table>\n",
       "<caption>A matrix: 4 × 4 of type dbl</caption>\n",
       "<thead>\n",
       "\t<tr><th></th><th scope=col>p2009a.txt</th><th scope=col>p2009b.txt</th><th scope=col>p2010a.txt</th><th scope=col>p2010b.txt</th></tr>\n",
       "</thead>\n",
       "<tbody>\n",
       "\t<tr><th scope=row>p2009a.txt</th><td> 0.00000</td><td>17.26268</td><td>14.35270</td><td>16.46208</td></tr>\n",
       "\t<tr><th scope=row>p2009b.txt</th><td>17.26268</td><td> 0.00000</td><td>17.32051</td><td>18.13836</td></tr>\n",
       "\t<tr><th scope=row>p2010a.txt</th><td>14.35270</td><td>17.32051</td><td> 0.00000</td><td>16.64332</td></tr>\n",
       "\t<tr><th scope=row>p2010b.txt</th><td>16.46208</td><td>18.13836</td><td>16.64332</td><td> 0.00000</td></tr>\n",
       "</tbody>\n",
       "</table>\n"
      ],
      "text/latex": [
       "A matrix: 4 × 4 of type dbl\n",
       "\\begin{tabular}{r|llll}\n",
       "  & p2009a.txt & p2009b.txt & p2010a.txt & p2010b.txt\\\\\n",
       "\\hline\n",
       "\tp2009a.txt &  0.00000 & 17.26268 & 14.35270 & 16.46208\\\\\n",
       "\tp2009b.txt & 17.26268 &  0.00000 & 17.32051 & 18.13836\\\\\n",
       "\tp2010a.txt & 14.35270 & 17.32051 &  0.00000 & 16.64332\\\\\n",
       "\tp2010b.txt & 16.46208 & 18.13836 & 16.64332 &  0.00000\\\\\n",
       "\\end{tabular}\n"
      ],
      "text/markdown": [
       "\n",
       "A matrix: 4 × 4 of type dbl\n",
       "\n",
       "| <!--/--> | p2009a.txt | p2009b.txt | p2010a.txt | p2010b.txt |\n",
       "|---|---|---|---|---|\n",
       "| p2009a.txt |  0.00000 | 17.26268 | 14.35270 | 16.46208 |\n",
       "| p2009b.txt | 17.26268 |  0.00000 | 17.32051 | 18.13836 |\n",
       "| p2010a.txt | 14.35270 | 17.32051 |  0.00000 | 16.64332 |\n",
       "| p2010b.txt | 16.46208 | 18.13836 | 16.64332 |  0.00000 |\n",
       "\n"
      ],
      "text/plain": [
       "           p2009a.txt p2009b.txt p2010a.txt p2010b.txt\n",
       "p2009a.txt  0.00000   17.26268   14.35270   16.46208  \n",
       "p2009b.txt 17.26268    0.00000   17.32051   18.13836  \n",
       "p2010a.txt 14.35270   17.32051    0.00000   16.64332  \n",
       "p2010b.txt 16.46208   18.13836   16.64332    0.00000  "
      ]
     },
     "metadata": {},
     "output_type": "display_data"
    }
   ],
   "source": [
    "#발현단어빈도에 기반하여 문서들의 유사도/거리를 살펴 보자.  \n",
    "dist.dtm.e <- dist(dtm.e)\n",
    "as.matrix(dist.dtm.e)[1:4,1:4]"
   ]
  },
  {
   "cell_type": "code",
   "execution_count": 88,
   "metadata": {},
   "outputs": [
    {
     "data": {
      "image/png": "[encoded data removed]",
      "text/plain": [
       "Plot with title “Cluster Dendrogram”"
      ]
     },
     "metadata": {},
     "output_type": "display_data"
    }
   ],
   "source": [
    "#Ward’s method 사용 군집분석을 실시함. \n",
    "myclusters <- hclust(dist.dtm.e,method=\"ward.D2\")\n",
    "#군집분석결과를 그래프로 그리면 아래와 같다.\n",
    "plot(myclusters)"
   ]
  },
  {
   "cell_type": "code",
   "execution_count": 89,
   "metadata": {},
   "outputs": [
    {
     "data": {
      "image/png": "[encoded data removed]",
      "text/plain": [
       "Plot with title “Cluster Dendrogram”"
      ]
     },
     "metadata": {},
     "output_type": "display_data"
    }
   ],
   "source": [
    "#라벨이 별로 보기 좋지 않다. 년도와 년도 뒤의 ab..만 두고 나머지 텍스트는 지우자. \n",
    "myclusters$labels <- str_extract(myclusters$labels, \"[[:digit:]]{4}[[:alpha:]]{1}\")\n",
    "#군집분석결과를 그래프로 그리면 아래와 같다.\n",
    "plot(myclusters)"
   ]
  },
  {
   "cell_type": "code",
   "execution_count": 90,
   "metadata": {},
   "outputs": [
    {
     "data": {
      "text/html": [
       "<dl class=dl-horizontal>\n",
       "\t<dt>2009a</dt>\n",
       "\t\t<dd>1</dd>\n",
       "\t<dt>2009b</dt>\n",
       "\t\t<dd>1</dd>\n",
       "\t<dt>2010a</dt>\n",
       "\t\t<dd>1</dd>\n",
       "\t<dt>2010b</dt>\n",
       "\t\t<dd>1</dd>\n",
       "\t<dt>2010c</dt>\n",
       "\t\t<dd>1</dd>\n",
       "\t<dt>2011a</dt>\n",
       "\t\t<dd>1</dd>\n",
       "\t<dt>2011b</dt>\n",
       "\t\t<dd>1</dd>\n",
       "\t<dt>2012a</dt>\n",
       "\t\t<dd>1</dd>\n",
       "\t<dt>2012b</dt>\n",
       "\t\t<dd>1</dd>\n",
       "\t<dt>2013a</dt>\n",
       "\t\t<dd>2</dd>\n",
       "\t<dt>2014a</dt>\n",
       "\t\t<dd>3</dd>\n",
       "\t<dt>2014b</dt>\n",
       "\t\t<dd>1</dd>\n",
       "\t<dt>2014c</dt>\n",
       "\t\t<dd>4</dd>\n",
       "\t<dt>2014d</dt>\n",
       "\t\t<dd>3</dd>\n",
       "\t<dt>2014e</dt>\n",
       "\t\t<dd>1</dd>\n",
       "\t<dt>2014f</dt>\n",
       "\t\t<dd>3</dd>\n",
       "\t<dt>2014g</dt>\n",
       "\t\t<dd>1</dd>\n",
       "\t<dt>2014h</dt>\n",
       "\t\t<dd>1</dd>\n",
       "\t<dt>2014i</dt>\n",
       "\t\t<dd>1</dd>\n",
       "\t<dt>2014k</dt>\n",
       "\t\t<dd>1</dd>\n",
       "\t<dt>2015a</dt>\n",
       "\t\t<dd>5</dd>\n",
       "\t<dt>2015b</dt>\n",
       "\t\t<dd>1</dd>\n",
       "\t<dt>2015c</dt>\n",
       "\t\t<dd>1</dd>\n",
       "\t<dt>2015d</dt>\n",
       "\t\t<dd>1</dd>\n",
       "</dl>\n"
      ],
      "text/latex": [
       "\\begin{description*}\n",
       "\\item[2009a] 1\n",
       "\\item[2009b] 1\n",
       "\\item[2010a] 1\n",
       "\\item[2010b] 1\n",
       "\\item[2010c] 1\n",
       "\\item[2011a] 1\n",
       "\\item[2011b] 1\n",
       "\\item[2012a] 1\n",
       "\\item[2012b] 1\n",
       "\\item[2013a] 2\n",
       "\\item[2014a] 3\n",
       "\\item[2014b] 1\n",
       "\\item[2014c] 4\n",
       "\\item[2014d] 3\n",
       "\\item[2014e] 1\n",
       "\\item[2014f] 3\n",
       "\\item[2014g] 1\n",
       "\\item[2014h] 1\n",
       "\\item[2014i] 1\n",
       "\\item[2014k] 1\n",
       "\\item[2015a] 5\n",
       "\\item[2015b] 1\n",
       "\\item[2015c] 1\n",
       "\\item[2015d] 1\n",
       "\\end{description*}\n"
      ],
      "text/markdown": [
       "2009a\n",
       ":   12009b\n",
       ":   12010a\n",
       ":   12010b\n",
       ":   12010c\n",
       ":   12011a\n",
       ":   12011b\n",
       ":   12012a\n",
       ":   12012b\n",
       ":   12013a\n",
       ":   22014a\n",
       ":   32014b\n",
       ":   12014c\n",
       ":   42014d\n",
       ":   32014e\n",
       ":   12014f\n",
       ":   32014g\n",
       ":   12014h\n",
       ":   12014i\n",
       ":   12014k\n",
       ":   12015a\n",
       ":   52015b\n",
       ":   12015c\n",
       ":   12015d\n",
       ":   1\n",
       "\n"
      ],
      "text/plain": [
       "2009a 2009b 2010a 2010b 2010c 2011a 2011b 2012a 2012b 2013a 2014a 2014b 2014c \n",
       "    1     1     1     1     1     1     1     1     1     2     3     1     4 \n",
       "2014d 2014e 2014f 2014g 2014h 2014i 2014k 2015a 2015b 2015c 2015d \n",
       "    3     1     3     1     1     1     1     5     1     1     1 "
      ]
     },
     "metadata": {},
     "output_type": "display_data"
    },
    {
     "data": {
      "text/plain": [
       "mygroup\n",
       " 1  2  3  4  5 \n",
       "18  1  3  1  1 "
      ]
     },
     "metadata": {},
     "output_type": "display_data"
    }
   ],
   "source": [
    "#원하는 군집의 수는 다음과 같이 계산하면 된다. 만약 5개를 원한다면\n",
    "mygroup <- cutree(myclusters,k=5)\n",
    "mygroup\n",
    "table(mygroup)"
   ]
  },
  {
   "cell_type": "code",
   "execution_count": 91,
   "metadata": {},
   "outputs": [
    {
     "data": {
      "text/plain": [
       "mygroup\n",
       "1 2 3 4 5 6 7 8 \n",
       "6 9 1 1 3 1 2 1 "
      ]
     },
     "metadata": {},
     "output_type": "display_data"
    }
   ],
   "source": [
    "#8개의 군집을 설정하자\n",
    "mygroup <- cutree(myclusters,k=8)\n",
    "table(mygroup)\n"
   ]
  },
  {
   "cell_type": "code",
   "execution_count": 92,
   "metadata": {},
   "outputs": [
    {
     "name": "stderr",
     "output_type": "stream",
     "text": [
      "\n",
      "---------------------\n",
      "Welcome to dendextend version 1.10.0\n",
      "Type citation('dendextend') for how to cite the package.\n",
      "\n",
      "Type browseVignettes(package = 'dendextend') for the package vignette.\n",
      "The github page is: https://github.com/talgalili/dendextend/\n",
      "\n",
      "Suggestions and bug-reports can be submitted at: https://github.com/talgalili/dendextend/issues\n",
      "Or contact: <tal.galili@gmail.com>\n",
      "\n",
      "\tTo suppress this message use:  suppressPackageStartupMessages(library(dendextend))\n",
      "---------------------\n",
      "\n",
      "\n",
      "Attaching package: ‘dendextend’\n",
      "\n",
      "The following object is masked from ‘package:stats’:\n",
      "\n",
      "    cutree\n",
      "\n"
     ]
    },
    {
     "data": {
      "image/png": "[encoded data removed]",
      "text/plain": [
       "Plot with title “Clustering documents”"
      ]
     },
     "metadata": {},
     "output_type": "display_data"
    }
   ],
   "source": [
    "#만약 색조가 들어간 군집분석결과를 그래프로 그리면 다음과 같다. \n",
    "#우선은 dendextend 라이브러리를 구동해야 한다. \n",
    "library('dendextend')\n",
    "#우선은 덴드로그램 그림을 저장한다. \n",
    "dend <- as.dendrogram(myclusters)\n",
    "#몇 개의 집단을 선정할지를 결정하였다. \n",
    "myk <- 8\n",
    "#덴드로그램의 선의 색깔을 다르게 설정하였다. \n",
    "dend <- dend %>%\n",
    "  color_branches(k = myk) %>%\n",
    "  color_labels(dend, k=myk) %>%\n",
    "  set(\"branches_lwd\", 2) %>%\n",
    "  set(\"branches_lty\", 1)\n",
    "plot(dend,main=\"Clustering documents\",ylab=\"Height\",\n",
    "     ylim=c(0,30))"
   ]
  },
  {
   "cell_type": "code",
   "execution_count": 93,
   "metadata": {},
   "outputs": [
    {
     "data": {
      "text/plain": [
       "      \n",
       "       1 2 3 4 5 6 7 8\n",
       "  2009 2 0 0 0 0 0 0 0\n",
       "  2010 2 1 0 0 0 0 0 0\n",
       "  2011 0 1 1 0 0 0 0 0\n",
       "  2012 1 1 0 0 0 0 0 0\n",
       "  2013 0 0 0 1 0 0 0 0\n",
       "  2014 1 3 0 0 3 1 2 0\n",
       "  2015 0 3 0 0 0 0 0 1"
      ]
     },
     "metadata": {},
     "output_type": "display_data"
    }
   ],
   "source": [
    "#8개의 군집을 설정하고, 각 군집별로 출간년도의 빈도를 구해보자\n",
    "mytable <- table(str_extract(myclusters$labels,\"[[:digit:]]*\"),\n",
    "                 +                  cutree(myclusters,k=8))\n",
    "mytable"
   ]
  },
  {
   "cell_type": "code",
   "execution_count": 94,
   "metadata": {},
   "outputs": [
    {
     "name": "stderr",
     "output_type": "stream",
     "text": [
      "\n",
      "Attaching package: ‘ggplot2’\n",
      "\n",
      "The following object is masked from ‘package:NLP’:\n",
      "\n",
      "    annotate\n",
      "\n"
     ]
    },
    {
     "data": {
      "image/png": "[encoded data removed]",
      "text/plain": [
       "plot without title"
      ]
     },
     "metadata": {},
     "output_type": "display_data"
    }
   ],
   "source": [
    "#위의 결과를 막대그래프로 그리면 보다 효율적이다. \n",
    "#사전준비작업을 합시다. 응용편을 참조하라. \n",
    "library('ggplot2')\n",
    "cluster.by.year <- data.frame(mytable)\n",
    "colnames(cluster.by.year) <- c('year','cluster','publish')\n",
    "cluster.by.year$cluster <- paste('cluster',cluster.by.year$cluster,sep='')\n",
    "cluster.by.year$year <- as.numeric(as.character(cluster.by.year$year))\n",
    "#시간에 따른 변화를 살펴보자 \n",
    "ggplot(data=cluster.by.year, aes(x=year, y=publish, fill=cluster)) + \n",
    "  geom_bar(stat=\"identity\")+\n",
    "  scale_x_continuous(breaks=2009:2015,labels=2009:2015)+\n",
    "  scale_fill_manual(values=1:8,labels=paste('군집',1:8,sep=''))+\n",
    "  labs(x=\"출판년도\",y=\"출간논문수\",fill='군집')"
   ]
  },
  {
   "cell_type": "code",
   "execution_count": 95,
   "metadata": {},
   "outputs": [],
   "source": [
    "#한국어 학술논문 말뭉치에 대한 분석결과는 아래와 같다. \n",
    "#위에서 소개한 영문 학술논문 말뭉치에 대한 분석결과에서의 설명을 참조하라. \n",
    "dist.dtm.k <- dist(dtm.k)\n",
    "myclusters <- hclust(dist.dtm.k,method=\"ward.D2\")"
   ]
  },
  {
   "cell_type": "code",
   "execution_count": 96,
   "metadata": {},
   "outputs": [
    {
     "data": {
      "image/png": "[encoded data removed]",
      "text/plain": [
       "Plot with title “Cluster Dendrogram”"
      ]
     },
     "metadata": {},
     "output_type": "display_data"
    }
   ],
   "source": [
    "#년도와 년도 뒤의 ab..만 두고 나머지 텍스트는 지우자. \n",
    "myclusters$labels <- str_extract(myclusters$labels, \"[[:digit:]]{4}[[:alpha:]]{1}\")\n",
    "#군집분석결과를 그래프로 그리면 아래와 같다.\n",
    "plot(myclusters)"
   ]
  },
  {
   "cell_type": "code",
   "execution_count": 97,
   "metadata": {},
   "outputs": [
    {
     "data": {
      "text/plain": [
       "mygroup\n",
       " 1  2  3  4  5 \n",
       "14  1  2  1  1 "
      ]
     },
     "metadata": {},
     "output_type": "display_data"
    },
    {
     "data": {
      "text/plain": [
       "mygroup\n",
       " 1  2  3  4  5  6  7  8 \n",
       "10  1  2  1  2  1  1  1 "
      ]
     },
     "metadata": {},
     "output_type": "display_data"
    },
    {
     "data": {
      "text/plain": [
       "mygroup\n",
       " 1  2  3  4  5  6  7  8  9 10 \n",
       " 1  1  1  8  2  1  2  1  1  1 "
      ]
     },
     "metadata": {},
     "output_type": "display_data"
    },
    {
     "data": {
      "image/png": "[encoded data removed]",
      "text/plain": [
       "Plot with title “Clustering documents”"
      ]
     },
     "metadata": {},
     "output_type": "display_data"
    }
   ],
   "source": [
    "#군집의 수를 5로 정하거나 8, 심지어 10으로 정해도 군집이 잘 나누어지지는 못한다. \n",
    "#적어도 국문 학술논문 말뭉치를 구성하는 문서들을 적절하게 군집화하는 것은 쉽지 않다.\n",
    "#여기서는 영어 학술논문 말뭉치에서 적용했던 8을 그대로 이용하자. \n",
    "mygroup <- cutree(myclusters,k=5)\n",
    "table(mygroup)\n",
    "mygroup <- cutree(myclusters,k=8)\n",
    "table(mygroup)\n",
    "mygroup <- cutree(myclusters,k=10)\n",
    "table(mygroup)\n",
    "\n",
    "dend <- as.dendrogram(myclusters)\n",
    "myk <- 8\n",
    "dend <- dend %>%\n",
    "  color_branches(k = myk) %>%\n",
    "  color_labels(dend, k=myk) %>%\n",
    "  set(\"branches_lwd\", 2) %>%\n",
    "  set(\"branches_lty\", 1)\n",
    "plot(dend,main=\"Clustering documents\",ylab=\"Height\",\n",
    "     ylim=c(0,25))\n",
    "\n",
    "mytable <- table(str_extract(myclusters$labels,\"[[:digit:]]*\"),\n",
    "                 cutree(myclusters,k=8))\n",
    "cluster.by.year <- data.frame(mytable)\n",
    "colnames(cluster.by.year) <- c('year','cluster','publish')\n",
    "cluster.by.year$cluster <- paste('cluster',cluster.by.year$cluster,sep='')\n",
    "cluster.by.year$year <- as.numeric(as.character(cluster.by.year$year))\n"
   ]
  },
  {
   "cell_type": "code",
   "execution_count": 98,
   "metadata": {},
   "outputs": [
    {
     "data": {
      "image/png": "[encoded data removed]",
      "text/plain": [
       "plot without title"
      ]
     },
     "metadata": {},
     "output_type": "display_data"
    }
   ],
   "source": [
    "#시간에 따른 변화를 살펴보자 \n",
    "ggplot(data=cluster.by.year, aes(x=year, y=publish, fill=cluster)) + \n",
    "  geom_bar(stat=\"identity\")+\n",
    "  scale_x_continuous(breaks=2004:2016,labels=2004:2016)+\n",
    "  scale_y_continuous(breaks=2*(0:5),labels=2*(0:5))+\n",
    "  scale_fill_manual(values=1:8,labels=paste('군집',1:8,sep=''))+\n",
    "  labs(x=\"출판년도\",y=\"출간논문수\",fill='군집')"
   ]
  },
  {
   "cell_type": "code",
   "execution_count": null,
   "metadata": {},
   "outputs": [],
   "source": []
  }
 ],
 "metadata": {
  "kernelspec": {
   "display_name": "R",
   "language": "R",
   "name": "ir"
  },
  "language_info": {
   "codemirror_mode": "r",
   "file_extension": ".r",
   "mimetype": "text/x-r-source",
   "name": "R",
   "pygments_lexer": "r",
   "version": "3.5.2"
  }
 },
 "nbformat": 4,
 "nbformat_minor": 2
}
