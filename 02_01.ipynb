{
 "cells": [
  {
   "cell_type": "markdown",
   "metadata": {},
   "source": [
    "#######################################\n",
    "#제 2부 텍스트 데이터 처리############# \n",
    "#01 텍스트 분석을 위한 기초적 R 함수들#\n",
    "#######################################"
   ]
  },
  {
   "cell_type": "code",
   "execution_count": 1,
   "metadata": {},
   "outputs": [
    {
     "data": {
      "text/html": [
       "<ol class=list-inline>\n",
       "\t<li>'1'</li>\n",
       "\t<li>'2'</li>\n",
       "\t<li>'3'</li>\n",
       "\t<li>'4'</li>\n",
       "\t<li>'5'</li>\n",
       "\t<li>'6'</li>\n",
       "\t<li>'a'</li>\n",
       "</ol>\n"
      ],
      "text/latex": [
       "\\begin{enumerate*}\n",
       "\\item '1'\n",
       "\\item '2'\n",
       "\\item '3'\n",
       "\\item '4'\n",
       "\\item '5'\n",
       "\\item '6'\n",
       "\\item 'a'\n",
       "\\end{enumerate*}\n"
      ],
      "text/markdown": [
       "1. '1'\n",
       "2. '2'\n",
       "3. '3'\n",
       "4. '4'\n",
       "5. '5'\n",
       "6. '6'\n",
       "7. 'a'\n",
       "\n",
       "\n"
      ],
      "text/plain": [
       "[1] \"1\" \"2\" \"3\" \"4\" \"5\" \"6\" \"a\""
      ]
     },
     "metadata": {},
     "output_type": "display_data"
    },
    {
     "data": {
      "text/html": [
       "<ol>\n",
       "\t<li><ol class=list-inline>\n",
       "\t<li>1</li>\n",
       "\t<li>2</li>\n",
       "\t<li>3</li>\n",
       "\t<li>4</li>\n",
       "\t<li>5</li>\n",
       "\t<li>6</li>\n",
       "</ol>\n",
       "</li>\n",
       "\t<li>'a'</li>\n",
       "</ol>\n"
      ],
      "text/latex": [
       "\\begin{enumerate}\n",
       "\\item \\begin{enumerate*}\n",
       "\\item 1\n",
       "\\item 2\n",
       "\\item 3\n",
       "\\item 4\n",
       "\\item 5\n",
       "\\item 6\n",
       "\\end{enumerate*}\n",
       "\n",
       "\\item 'a'\n",
       "\\end{enumerate}\n"
      ],
      "text/markdown": [
       "1. 1. 1\n",
       "2. 2\n",
       "3. 3\n",
       "4. 4\n",
       "5. 5\n",
       "6. 6\n",
       "\n",
       "\n",
       "\n",
       "2. 'a'\n",
       "\n",
       "\n"
      ],
      "text/plain": [
       "[[1]]\n",
       "[1] 1 2 3 4 5 6\n",
       "\n",
       "[[2]]\n",
       "[1] \"a\"\n"
      ]
     },
     "metadata": {},
     "output_type": "display_data"
    },
    {
     "data": {
      "text/html": [
       "<ol>\n",
       "\t<li><ol class=list-inline>\n",
       "\t<li>1</li>\n",
       "\t<li>2</li>\n",
       "\t<li>3</li>\n",
       "\t<li>4</li>\n",
       "</ol>\n",
       "</li>\n",
       "\t<li><ol class=list-inline>\n",
       "\t<li>6</li>\n",
       "\t<li>7</li>\n",
       "\t<li>8</li>\n",
       "\t<li>9</li>\n",
       "\t<li>10</li>\n",
       "</ol>\n",
       "</li>\n",
       "</ol>\n"
      ],
      "text/latex": [
       "\\begin{enumerate}\n",
       "\\item \\begin{enumerate*}\n",
       "\\item 1\n",
       "\\item 2\n",
       "\\item 3\n",
       "\\item 4\n",
       "\\end{enumerate*}\n",
       "\n",
       "\\item \\begin{enumerate*}\n",
       "\\item 6\n",
       "\\item 7\n",
       "\\item 8\n",
       "\\item 9\n",
       "\\item 10\n",
       "\\end{enumerate*}\n",
       "\n",
       "\\end{enumerate}\n"
      ],
      "text/markdown": [
       "1. 1. 1\n",
       "2. 2\n",
       "3. 3\n",
       "4. 4\n",
       "\n",
       "\n",
       "\n",
       "2. 1. 6\n",
       "2. 7\n",
       "3. 8\n",
       "4. 9\n",
       "5. 10\n",
       "\n",
       "\n",
       "\n",
       "\n",
       "\n"
      ],
      "text/plain": [
       "[[1]]\n",
       "[1] 1 2 3 4\n",
       "\n",
       "[[2]]\n",
       "[1]  6  7  8  9 10\n"
      ]
     },
     "metadata": {},
     "output_type": "display_data"
    },
    {
     "data": {
      "text/html": [
       "<ol>\n",
       "\t<li><ol class=list-inline>\n",
       "\t<li>1</li>\n",
       "\t<li>2</li>\n",
       "\t<li>3</li>\n",
       "\t<li>4</li>\n",
       "</ol>\n",
       "</li>\n",
       "\t<li><ol class=list-inline>\n",
       "\t<li>6</li>\n",
       "\t<li>7</li>\n",
       "\t<li>8</li>\n",
       "\t<li>9</li>\n",
       "\t<li>10</li>\n",
       "</ol>\n",
       "</li>\n",
       "\t<li><ol>\n",
       "\t<li><ol class=list-inline>\n",
       "\t<li>1</li>\n",
       "\t<li>2</li>\n",
       "\t<li>3</li>\n",
       "\t<li>4</li>\n",
       "</ol>\n",
       "</li>\n",
       "\t<li><ol class=list-inline>\n",
       "\t<li>6</li>\n",
       "\t<li>7</li>\n",
       "\t<li>8</li>\n",
       "\t<li>9</li>\n",
       "\t<li>10</li>\n",
       "</ol>\n",
       "</li>\n",
       "</ol>\n",
       "</li>\n",
       "</ol>\n"
      ],
      "text/latex": [
       "\\begin{enumerate}\n",
       "\\item \\begin{enumerate*}\n",
       "\\item 1\n",
       "\\item 2\n",
       "\\item 3\n",
       "\\item 4\n",
       "\\end{enumerate*}\n",
       "\n",
       "\\item \\begin{enumerate*}\n",
       "\\item 6\n",
       "\\item 7\n",
       "\\item 8\n",
       "\\item 9\n",
       "\\item 10\n",
       "\\end{enumerate*}\n",
       "\n",
       "\\item \\begin{enumerate}\n",
       "\\item \\begin{enumerate*}\n",
       "\\item 1\n",
       "\\item 2\n",
       "\\item 3\n",
       "\\item 4\n",
       "\\end{enumerate*}\n",
       "\n",
       "\\item \\begin{enumerate*}\n",
       "\\item 6\n",
       "\\item 7\n",
       "\\item 8\n",
       "\\item 9\n",
       "\\item 10\n",
       "\\end{enumerate*}\n",
       "\n",
       "\\end{enumerate}\n",
       "\n",
       "\\end{enumerate}\n"
      ],
      "text/markdown": [
       "1. 1. 1\n",
       "2. 2\n",
       "3. 3\n",
       "4. 4\n",
       "\n",
       "\n",
       "\n",
       "2. 1. 6\n",
       "2. 7\n",
       "3. 8\n",
       "4. 9\n",
       "5. 10\n",
       "\n",
       "\n",
       "\n",
       "3. 1. 1. 1\n",
       "2. 2\n",
       "3. 3\n",
       "4. 4\n",
       "\n",
       "\n",
       "\n",
       "2. 1. 6\n",
       "2. 7\n",
       "3. 8\n",
       "4. 9\n",
       "5. 10\n",
       "\n",
       "\n",
       "\n",
       "\n",
       "\n",
       "\n",
       "\n",
       "\n"
      ],
      "text/plain": [
       "[[1]]\n",
       "[1] 1 2 3 4\n",
       "\n",
       "[[2]]\n",
       "[1]  6  7  8  9 10\n",
       "\n",
       "[[3]]\n",
       "[[3]][[1]]\n",
       "[1] 1 2 3 4\n",
       "\n",
       "[[3]][[2]]\n",
       "[1]  6  7  8  9 10\n",
       "\n"
      ]
     },
     "metadata": {},
     "output_type": "display_data"
    },
    {
     "data": {
      "text/html": [
       "<ol>\n",
       "\t<li><ol class=list-inline>\n",
       "\t<li>1</li>\n",
       "\t<li>2</li>\n",
       "\t<li>3</li>\n",
       "\t<li>4</li>\n",
       "</ol>\n",
       "</li>\n",
       "</ol>\n"
      ],
      "text/latex": [
       "\\begin{enumerate}\n",
       "\\item \\begin{enumerate*}\n",
       "\\item 1\n",
       "\\item 2\n",
       "\\item 3\n",
       "\\item 4\n",
       "\\end{enumerate*}\n",
       "\n",
       "\\end{enumerate}\n"
      ],
      "text/markdown": [
       "1. 1. 1\n",
       "2. 2\n",
       "3. 3\n",
       "4. 4\n",
       "\n",
       "\n",
       "\n",
       "\n",
       "\n"
      ],
      "text/plain": [
       "[[1]]\n",
       "[1] 1 2 3 4\n"
      ]
     },
     "metadata": {},
     "output_type": "display_data"
    },
    {
     "data": {
      "text/html": [
       "<ol class=list-inline>\n",
       "\t<li>1</li>\n",
       "\t<li>2</li>\n",
       "\t<li>3</li>\n",
       "\t<li>4</li>\n",
       "</ol>\n"
      ],
      "text/latex": [
       "\\begin{enumerate*}\n",
       "\\item 1\n",
       "\\item 2\n",
       "\\item 3\n",
       "\\item 4\n",
       "\\end{enumerate*}\n"
      ],
      "text/markdown": [
       "1. 1\n",
       "2. 2\n",
       "3. 3\n",
       "4. 4\n",
       "\n",
       "\n"
      ],
      "text/plain": [
       "[1] 1 2 3 4"
      ]
     },
     "metadata": {},
     "output_type": "display_data"
    },
    {
     "data": {
      "text/html": [
       "2"
      ],
      "text/latex": [
       "2"
      ],
      "text/markdown": [
       "2"
      ],
      "text/plain": [
       "[1] 2"
      ]
     },
     "metadata": {},
     "output_type": "display_data"
    },
    {
     "data": {
      "text/html": [
       "<ol class=list-inline>\n",
       "\t<li>'1'</li>\n",
       "\t<li>'2'</li>\n",
       "\t<li>'3'</li>\n",
       "\t<li>'4'</li>\n",
       "\t<li>'5'</li>\n",
       "\t<li>'6'</li>\n",
       "\t<li>'a'</li>\n",
       "</ol>\n"
      ],
      "text/latex": [
       "\\begin{enumerate*}\n",
       "\\item '1'\n",
       "\\item '2'\n",
       "\\item '3'\n",
       "\\item '4'\n",
       "\\item '5'\n",
       "\\item '6'\n",
       "\\item 'a'\n",
       "\\end{enumerate*}\n"
      ],
      "text/markdown": [
       "1. '1'\n",
       "2. '2'\n",
       "3. '3'\n",
       "4. '4'\n",
       "5. '5'\n",
       "6. '6'\n",
       "7. 'a'\n",
       "\n",
       "\n"
      ],
      "text/plain": [
       "[1] \"1\" \"2\" \"3\" \"4\" \"5\" \"6\" \"a\""
      ]
     },
     "metadata": {},
     "output_type": "display_data"
    },
    {
     "data": {
      "text/html": [
       "<ol class=list-inline>\n",
       "\t<li>TRUE</li>\n",
       "\t<li>TRUE</li>\n",
       "\t<li>TRUE</li>\n",
       "\t<li>TRUE</li>\n",
       "\t<li>TRUE</li>\n",
       "\t<li>TRUE</li>\n",
       "\t<li>TRUE</li>\n",
       "</ol>\n"
      ],
      "text/latex": [
       "\\begin{enumerate*}\n",
       "\\item TRUE\n",
       "\\item TRUE\n",
       "\\item TRUE\n",
       "\\item TRUE\n",
       "\\item TRUE\n",
       "\\item TRUE\n",
       "\\item TRUE\n",
       "\\end{enumerate*}\n"
      ],
      "text/markdown": [
       "1. TRUE\n",
       "2. TRUE\n",
       "3. TRUE\n",
       "4. TRUE\n",
       "5. TRUE\n",
       "6. TRUE\n",
       "7. TRUE\n",
       "\n",
       "\n"
      ],
      "text/plain": [
       "[1] TRUE TRUE TRUE TRUE TRUE TRUE TRUE"
      ]
     },
     "metadata": {},
     "output_type": "display_data"
    },
    {
     "data": {
      "text/html": [
       "3.5"
      ],
      "text/latex": [
       "3.5"
      ],
      "text/markdown": [
       "3.5"
      ],
      "text/plain": [
       "[1] 3.5"
      ]
     },
     "metadata": {},
     "output_type": "display_data"
    },
    {
     "name": "stderr",
     "output_type": "stream",
     "text": [
      "Warning message in mean.default(unlist(mylist)[1:6]):\n",
      "“argument is not numeric or logical: returning NA”"
     ]
    },
    {
     "data": {
      "text/html": [
       "&lt;NA&gt;"
      ],
      "text/latex": [
       "<NA>"
      ],
      "text/markdown": [
       "&lt;NA&gt;"
      ],
      "text/plain": [
       "[1] NA"
      ]
     },
     "metadata": {},
     "output_type": "display_data"
    },
    {
     "data": {
      "text/html": [
       "<ol>\n",
       "\t<li>'Donald'</li>\n",
       "\t<li>' '</li>\n",
       "\t<li>'Trump'</li>\n",
       "</ol>\n"
      ],
      "text/latex": [
       "\\begin{enumerate}\n",
       "\\item 'Donald'\n",
       "\\item ' '\n",
       "\\item 'Trump'\n",
       "\\end{enumerate}\n"
      ],
      "text/markdown": [
       "1. 'Donald'\n",
       "2. ' '\n",
       "3. 'Trump'\n",
       "\n",
       "\n"
      ],
      "text/plain": [
       "[[1]]\n",
       "[1] \"Donald\"\n",
       "\n",
       "[[2]]\n",
       "[1] \" \"\n",
       "\n",
       "[[3]]\n",
       "[1] \"Trump\"\n"
      ]
     },
     "metadata": {},
     "output_type": "display_data"
    },
    {
     "data": {
      "text/html": [
       "<ol class=list-inline>\n",
       "\t<li>'Donald'</li>\n",
       "\t<li>' '</li>\n",
       "\t<li>'Trump'</li>\n",
       "</ol>\n"
      ],
      "text/latex": [
       "\\begin{enumerate*}\n",
       "\\item 'Donald'\n",
       "\\item ' '\n",
       "\\item 'Trump'\n",
       "\\end{enumerate*}\n"
      ],
      "text/markdown": [
       "1. 'Donald'\n",
       "2. ' '\n",
       "3. 'Trump'\n",
       "\n",
       "\n"
      ],
      "text/plain": [
       "[1] \"Donald\" \" \"      \"Trump\" "
      ]
     },
     "metadata": {},
     "output_type": "display_data"
    },
    {
     "data": {
      "text/html": [
       "<ol class=list-inline>\n",
       "\t<li>갑</li>\n",
       "\t<li>을</li>\n",
       "\t<li>병</li>\n",
       "\t<li>정</li>\n",
       "</ol>\n",
       "\n",
       "<details>\n",
       "\t<summary style=display:list-item;cursor:pointer>\n",
       "\t\t<strong>Levels</strong>:\n",
       "\t</summary>\n",
       "\t<ol class=list-inline>\n",
       "\t\t<li>'갑'</li>\n",
       "\t\t<li>'병'</li>\n",
       "\t\t<li>'을'</li>\n",
       "\t\t<li>'정'</li>\n",
       "\t</ol>\n",
       "</details>"
      ],
      "text/latex": [
       "\\begin{enumerate*}\n",
       "\\item 갑\n",
       "\\item 을\n",
       "\\item 병\n",
       "\\item 정\n",
       "\\end{enumerate*}\n",
       "\n",
       "\\emph{Levels}: \\begin{enumerate*}\n",
       "\\item '갑'\n",
       "\\item '병'\n",
       "\\item '을'\n",
       "\\item '정'\n",
       "\\end{enumerate*}\n"
      ],
      "text/markdown": [
       "1. 갑\n",
       "2. 을\n",
       "3. 병\n",
       "4. 정\n",
       "\n",
       "\n",
       "\n",
       "**Levels**: 1. '갑'\n",
       "2. '병'\n",
       "3. '을'\n",
       "4. '정'\n",
       "\n",
       "\n"
      ],
      "text/plain": [
       "[1] 갑 을 병 정\n",
       "attr(,\"what the variable means\")\n",
       "[1] 응답자의 이름\n",
       "Levels: 갑 병 을 정"
      ]
     },
     "metadata": {},
     "output_type": "display_data"
    },
    {
     "data": {
      "text/html": [
       "<ol class=list-inline>\n",
       "\t<li>2</li>\n",
       "\t<li>1</li>\n",
       "\t<li>1</li>\n",
       "\t<li>2</li>\n",
       "</ol>\n"
      ],
      "text/latex": [
       "\\begin{enumerate*}\n",
       "\\item 2\n",
       "\\item 1\n",
       "\\item 1\n",
       "\\item 2\n",
       "\\end{enumerate*}\n"
      ],
      "text/markdown": [
       "1. 2\n",
       "2. 1\n",
       "3. 1\n",
       "4. 2\n",
       "\n",
       "\n"
      ],
      "text/plain": [
       "[1] 2 1 1 2\n",
       "attr(,\"what the variable means\")\n",
       "[1] \"응답자의 성별\"\n",
       "attr(,\"what the value means\")\n",
       "[1] \"여성\" \"남성\" \"남성\" \"여성\""
      ]
     },
     "metadata": {},
     "output_type": "display_data"
    },
    {
     "data": {
      "text/html": [
       "<ol class=list-inline>\n",
       "\t<li>'여성'</li>\n",
       "\t<li>'남성'</li>\n",
       "\t<li>'남성'</li>\n",
       "\t<li>'여성'</li>\n",
       "</ol>\n"
      ],
      "text/latex": [
       "\\begin{enumerate*}\n",
       "\\item '여성'\n",
       "\\item '남성'\n",
       "\\item '남성'\n",
       "\\item '여성'\n",
       "\\end{enumerate*}\n"
      ],
      "text/markdown": [
       "1. '여성'\n",
       "2. '남성'\n",
       "3. '남성'\n",
       "4. '여성'\n",
       "\n",
       "\n"
      ],
      "text/plain": [
       "[1] \"여성\" \"남성\" \"남성\" \"여성\""
      ]
     },
     "metadata": {},
     "output_type": "display_data"
    },
    {
     "data": {
      "text/html": [
       "<table>\n",
       "<caption>A data.frame: 4 × 3</caption>\n",
       "<thead>\n",
       "\t<tr><th scope=col>name</th><th scope=col>gender</th><th scope=col>gender.character</th></tr>\n",
       "\t<tr><th scope=col>&lt;fct&gt;</th><th scope=col>&lt;dbl&gt;</th><th scope=col>&lt;chr&gt;</th></tr>\n",
       "</thead>\n",
       "<tbody>\n",
       "\t<tr><td>갑</td><td>2</td><td>여성</td></tr>\n",
       "\t<tr><td>을</td><td>1</td><td>남성</td></tr>\n",
       "\t<tr><td>병</td><td>1</td><td>남성</td></tr>\n",
       "\t<tr><td>정</td><td>2</td><td>여성</td></tr>\n",
       "</tbody>\n",
       "</table>\n"
      ],
      "text/latex": [
       "A data.frame: 4 × 3\n",
       "\\begin{tabular}{r|lll}\n",
       " name & gender & gender.character\\\\\n",
       " <fct> & <dbl> & <chr>\\\\\n",
       "\\hline\n",
       "\t 갑 & 2 & 여성\\\\\n",
       "\t 을 & 1 & 남성\\\\\n",
       "\t 병 & 1 & 남성\\\\\n",
       "\t 정 & 2 & 여성\\\\\n",
       "\\end{tabular}\n"
      ],
      "text/markdown": [
       "\n",
       "A data.frame: 4 × 3\n",
       "\n",
       "| name &lt;fct&gt; | gender &lt;dbl&gt; | gender.character &lt;chr&gt; |\n",
       "|---|---|---|\n",
       "| 갑 | 2 | 여성 |\n",
       "| 을 | 1 | 남성 |\n",
       "| 병 | 1 | 남성 |\n",
       "| 정 | 2 | 여성 |\n",
       "\n"
      ],
      "text/plain": [
       "  name gender gender.character\n",
       "1 갑   2      여성            \n",
       "2 을   1      남성            \n",
       "3 병   1      남성            \n",
       "4 정   2      여성            "
      ]
     },
     "metadata": {},
     "output_type": "display_data"
    },
    {
     "data": {
      "text/html": [
       "<ol>\n",
       "\t<li>2.5</li>\n",
       "\t<li>8</li>\n",
       "</ol>\n"
      ],
      "text/latex": [
       "\\begin{enumerate}\n",
       "\\item 2.5\n",
       "\\item 8\n",
       "\\end{enumerate}\n"
      ],
      "text/markdown": [
       "1. 2.5\n",
       "2. 8\n",
       "\n",
       "\n"
      ],
      "text/plain": [
       "[[1]]\n",
       "[1] 2.5\n",
       "\n",
       "[[2]]\n",
       "[1] 8\n"
      ]
     },
     "metadata": {},
     "output_type": "display_data"
    },
    {
     "name": "stderr",
     "output_type": "stream",
     "text": [
      "Warning message in mean.default(X[[i]], ...):\n",
      "“argument is not numeric or logical: returning NA”"
     ]
    },
    {
     "data": {
      "text/html": [
       "<ol>\n",
       "\t<li>2.5</li>\n",
       "\t<li>8</li>\n",
       "\t<li>&lt;NA&gt;</li>\n",
       "</ol>\n"
      ],
      "text/latex": [
       "\\begin{enumerate}\n",
       "\\item 2.5\n",
       "\\item 8\n",
       "\\item <NA>\n",
       "\\end{enumerate}\n"
      ],
      "text/markdown": [
       "1. 2.5\n",
       "2. 8\n",
       "3. &lt;NA&gt;\n",
       "\n",
       "\n"
      ],
      "text/plain": [
       "[[1]]\n",
       "[1] 2.5\n",
       "\n",
       "[[2]]\n",
       "[1] 8\n",
       "\n",
       "[[3]]\n",
       "[1] NA\n"
      ]
     },
     "metadata": {},
     "output_type": "display_data"
    },
    {
     "data": {
      "text/html": [
       "<ol>\n",
       "\t<li>2.5</li>\n",
       "\t<li>8</li>\n",
       "\t<li>2.5</li>\n",
       "\t<li>8</li>\n",
       "</ol>\n"
      ],
      "text/latex": [
       "\\begin{enumerate}\n",
       "\\item 2.5\n",
       "\\item 8\n",
       "\\item 2.5\n",
       "\\item 8\n",
       "\\end{enumerate}\n"
      ],
      "text/markdown": [
       "1. 2.5\n",
       "2. 8\n",
       "3. 2.5\n",
       "4. 8\n",
       "\n",
       "\n"
      ],
      "text/plain": [
       "[[1]]\n",
       "[1] 2.5\n",
       "\n",
       "[[2]]\n",
       "[1] 8\n",
       "\n",
       "[[3]]\n",
       "[1] 2.5\n",
       "\n",
       "[[4]]\n",
       "[1] 8\n"
      ]
     },
     "metadata": {},
     "output_type": "display_data"
    },
    {
     "data": {
      "text/html": [
       "<ol class=list-inline>\n",
       "\t<li>10</li>\n",
       "\t<li>40</li>\n",
       "\t<li>10</li>\n",
       "\t<li>40</li>\n",
       "</ol>\n"
      ],
      "text/latex": [
       "\\begin{enumerate*}\n",
       "\\item 10\n",
       "\\item 40\n",
       "\\item 10\n",
       "\\item 40\n",
       "\\end{enumerate*}\n"
      ],
      "text/markdown": [
       "1. 10\n",
       "2. 40\n",
       "3. 10\n",
       "4. 40\n",
       "\n",
       "\n"
      ],
      "text/plain": [
       "[1] 10 40 10 40"
      ]
     },
     "metadata": {},
     "output_type": "display_data"
    },
    {
     "data": {
      "text/html": [
       "<ol class=list-inline>\n",
       "\t<li>10</li>\n",
       "\t<li>40</li>\n",
       "\t<li>10</li>\n",
       "\t<li>40</li>\n",
       "</ol>\n"
      ],
      "text/latex": [
       "\\begin{enumerate*}\n",
       "\\item 10\n",
       "\\item 40\n",
       "\\item 10\n",
       "\\item 40\n",
       "\\end{enumerate*}\n"
      ],
      "text/markdown": [
       "1. 10\n",
       "2. 40\n",
       "3. 10\n",
       "4. 40\n",
       "\n",
       "\n"
      ],
      "text/plain": [
       "[1] 10 40 10 40"
      ]
     },
     "metadata": {},
     "output_type": "display_data"
    },
    {
     "data": {
      "text/html": [
       "<dl class=dl-horizontal>\n",
       "\t<dt>a</dt>\n",
       "\t\t<dd>1</dd>\n",
       "\t<dt>is</dt>\n",
       "\t\t<dd>1</dd>\n",
       "\t<dt>the</dt>\n",
       "\t\t<dd>2</dd>\n",
       "</dl>\n"
      ],
      "text/latex": [
       "\\begin{description*}\n",
       "\\item[a] 1\n",
       "\\item[is] 1\n",
       "\\item[the] 2\n",
       "\\end{description*}\n"
      ],
      "text/markdown": [
       "a\n",
       ":   1is\n",
       ":   1the\n",
       ":   2\n",
       "\n"
      ],
      "text/plain": [
       "  a  is the \n",
       "  1   1   2 "
      ]
     },
     "metadata": {},
     "output_type": "display_data"
    },
    {
     "data": {
      "text/html": [
       "<dl class=dl-horizontal>\n",
       "\t<dt>a</dt>\n",
       "\t\t<dd>1</dd>\n",
       "\t<dt>is</dt>\n",
       "\t\t<dd>1</dd>\n",
       "\t<dt>the</dt>\n",
       "\t\t<dd>2</dd>\n",
       "</dl>\n"
      ],
      "text/latex": [
       "\\begin{description*}\n",
       "\\item[a] 1\n",
       "\\item[is] 1\n",
       "\\item[the] 2\n",
       "\\end{description*}\n"
      ],
      "text/markdown": [
       "a\n",
       ":   1is\n",
       ":   1the\n",
       ":   2\n",
       "\n"
      ],
      "text/plain": [
       "  a  is the \n",
       "  1   1   2 "
      ]
     },
     "metadata": {},
     "output_type": "display_data"
    },
    {
     "data": {
      "text/html": [
       "<dl class=dl-horizontal>\n",
       "\t<dt>a</dt>\n",
       "\t\t<dd>2</dd>\n",
       "\t<dt>is</dt>\n",
       "\t\t<dd>4</dd>\n",
       "\t<dt>the</dt>\n",
       "\t\t<dd>7</dd>\n",
       "</dl>\n"
      ],
      "text/latex": [
       "\\begin{description*}\n",
       "\\item[a] 2\n",
       "\\item[is] 4\n",
       "\\item[the] 7\n",
       "\\end{description*}\n"
      ],
      "text/markdown": [
       "a\n",
       ":   2is\n",
       ":   4the\n",
       ":   7\n",
       "\n"
      ],
      "text/plain": [
       "  a  is the \n",
       "  2   4   7 "
      ]
     },
     "metadata": {},
     "output_type": "display_data"
    },
    {
     "data": {
      "text/html": [
       "<dl class=dl-horizontal>\n",
       "\t<dt>a</dt>\n",
       "\t\t<dd>1</dd>\n",
       "\t<dt>is</dt>\n",
       "\t\t<dd>1</dd>\n",
       "\t<dt>the</dt>\n",
       "\t\t<dd>2</dd>\n",
       "</dl>\n"
      ],
      "text/latex": [
       "\\begin{description*}\n",
       "\\item[a] 1\n",
       "\\item[is] 1\n",
       "\\item[the] 2\n",
       "\\end{description*}\n"
      ],
      "text/markdown": [
       "a\n",
       ":   1is\n",
       ":   1the\n",
       ":   2\n",
       "\n"
      ],
      "text/plain": [
       "  a  is the \n",
       "  1   1   2 "
      ]
     },
     "metadata": {},
     "output_type": "display_data"
    },
    {
     "data": {
      "text/html": [
       "<dl class=dl-horizontal>\n",
       "\t<dt>ashes</dt>\n",
       "\t\t<dd>2</dd>\n",
       "\t<dt>dust</dt>\n",
       "\t\t<dd>2</dd>\n",
       "\t<dt>earth</dt>\n",
       "\t\t<dd>2</dd>\n",
       "\t<dt>to</dt>\n",
       "\t\t<dd>3</dd>\n",
       "</dl>\n"
      ],
      "text/latex": [
       "\\begin{description*}\n",
       "\\item[ashes] 2\n",
       "\\item[dust] 2\n",
       "\\item[earth] 2\n",
       "\\item[to] 3\n",
       "\\end{description*}\n"
      ],
      "text/markdown": [
       "ashes\n",
       ":   2dust\n",
       ":   2earth\n",
       ":   2to\n",
       ":   3\n",
       "\n"
      ],
      "text/plain": [
       "ashes  dust earth    to \n",
       "    2     2     2     3 "
      ]
     },
     "metadata": {},
     "output_type": "display_data"
    }
   ],
   "source": [
    "\n",
    "#리스트와 벡터의 구분\n",
    "myvector <- c(1:6,'a')\n",
    "myvector\n",
    "\n",
    "mylist <- list(1:6,'a')\n",
    "mylist\n",
    "\n",
    "#list 형식의 오브젝트 소개\n",
    "obj1 <- 1:4\n",
    "obj2 <- 6:10\n",
    "#간단한 리스트 형식의 오브젝트는 다음과 같다.\n",
    "obj3 <- list(obj1,obj2)\n",
    "obj3\n",
    "\n",
    "#list함수는 연이어 사용할 수도 있다.\n",
    "mylist <- list(obj1,obj2,obj3)\n",
    "mylist\n",
    "\n",
    "#벡터로 구성된 자료의 경우 []를 사용하지만, 리스트형식은 [[]]을 사용한다\n",
    "#예를 들어 아래와 같이 []을 사용하면 리스트를, [[]]을 사용하면 벡터를 얻을 수 있다.\n",
    "mylist[[3]][1]; mylist[[3]][[1]]\n",
    "\n",
    "#[[]]와 []에 익숙해지면 아래의 표현도 이해할 수 있다. \n",
    "mylist[[3]][[1]][2]\n",
    "\n",
    "#unlist함수는 리스트를 벡터형식으로 돌려주는 역할이다. \n",
    "#unlist 함수는 유용하지만 조심하여 사용하기 바란다. \n",
    "myvector <- c(1:6,'a')\n",
    "mylist <- list(1:6,'a')\n",
    "unlist(mylist)\n",
    "unlist(mylist) == myvector\n",
    "\n",
    "#예를 들어 mylist의 모든 관측값의 평균을 구한다고 가정하자. \n",
    "mean(mylist[[1]][1:6])\n",
    "mean(unlist(mylist)[1:6])\n",
    "\n",
    "#텍스트형 자료(문자에서 단어로)\n",
    "name1 <- \"Donald\"\n",
    "myspace <- \" \"\n",
    "name2 <- \"Trump\"\n",
    "list(name1, myspace, name2)\n",
    "unlist(list(name1, myspace, name2))\n",
    "\n",
    "#오브젝트의 속성이 입력된 경우가 많으며, 상황에 따라 속성값을 저장할 필요가 있다\n",
    "name <- c('갑','을','병','정')\n",
    "gender <- c(2,1,1,2)\n",
    "mydata <- data.frame(name,gender)\n",
    "attr(mydata$name,\"what the variable means\") <- \"응답자의 이름\"\n",
    "mydata$name\n",
    "attr(mydata$gender,\"what the variable means\") <- \"응답자의 성별\"\n",
    "myvalues <- gender\n",
    "for (i in 1:length(gender)) {myvalues[i] <- ifelse(gender[i]==1,\"남성\",\"여성\")}\n",
    "attr(mydata$gender,\"what the value means\") <- myvalues\n",
    "mydata$gender\n",
    "\n",
    "#속성값 추출\n",
    "attr(mydata$gender,\"what the value means\")\n",
    "#속성값을 추출한 후 mydata에 새로운 변수로 추가해 보자. \n",
    "mydata$gender.character <- attr(mydata$gender,\"what the value means\")\n",
    "mydata\n",
    "\n",
    "#리스트 형식인 경우 lapply 함수가 매우 유용하다. \n",
    "mylist <- list(1:4,6:10,list(1:4,6:10))\n",
    "lapply(mylist[[3]],mean)\n",
    "\n",
    "#그러나 [[]][[]]의 형태를 가질 경우 주의할 필요가 있다. \n",
    "lapply(mylist,mean)\n",
    "lapply(mylist[c(1,2,c(1,2))],mean)\n",
    "\n",
    "#sapply 함수의 경우 lapply 함수 결과와 유사하지만 결과값에 unlist 함수를 적용한다는 점이 다르다\n",
    "sapply(mylist[c(1,2,c(1,2))],sum)\n",
    "unlist(lapply(mylist[c(1,2,c(1,2))],sum))\n",
    "\n",
    "#tapply는 텍스트 데이터에서 종종 사용된다.\n",
    "#다음과 같은 빈도표 2개를 가정해 보자. \n",
    "wordlist <- c(\"the\",\"is\",\"a\",\"the\")\n",
    "doc1freq <- c(3,4,2,4)\n",
    "doc2freq <- rep(1,4)\n",
    "#아래의 사례를 보면 tapply() 함수가 어떤 역할을 하는지 알 수 있다. \n",
    "tapply(doc1freq,wordlist,length)\n",
    "tapply(doc2freq,wordlist,length)\n",
    "tapply(doc1freq,wordlist,sum)\n",
    "tapply(doc2freq,wordlist,sum)\n",
    "\n",
    "#다음과 같은 단어들의 연쇄로 구성된 세 문장들을 생각해 보자. \n",
    "sent1 <- c(\"earth\",\"to\",\"earth\")\n",
    "sent2 <- c(\"ashes\",\"to\",\"ashes\")\n",
    "sent3 <- c(\"dust\",\"to\",\"dust\")\n",
    "#한 문장에서 to는 1회, to가 아닌 단어는 2회 등장했다. \n",
    "#3문장에서 등장한 단어빈도가 어떠한지 tapply함수를 이용해 계산하자. \n",
    "myfreq <- c(rep(1,length(sent1)),rep(1,length(sent2)),rep(1,length(sent3)))\n",
    "tapply(myfreq,c(sent1,sent2,sent3),sum)\n",
    "\n",
    "  \n",
    "  \n",
    "\n"
   ]
  },
  {
   "cell_type": "code",
   "execution_count": 2,
   "metadata": {},
   "outputs": [
    {
     "data": {
      "text/html": [
       "<ol class=list-inline>\n",
       "\t<li>'1'</li>\n",
       "\t<li>'2'</li>\n",
       "\t<li>'3'</li>\n",
       "\t<li>'4'</li>\n",
       "\t<li>'5'</li>\n",
       "\t<li>'6'</li>\n",
       "\t<li>'a'</li>\n",
       "</ol>\n"
      ],
      "text/latex": [
       "\\begin{enumerate*}\n",
       "\\item '1'\n",
       "\\item '2'\n",
       "\\item '3'\n",
       "\\item '4'\n",
       "\\item '5'\n",
       "\\item '6'\n",
       "\\item 'a'\n",
       "\\end{enumerate*}\n"
      ],
      "text/markdown": [
       "1. '1'\n",
       "2. '2'\n",
       "3. '3'\n",
       "4. '4'\n",
       "5. '5'\n",
       "6. '6'\n",
       "7. 'a'\n",
       "\n",
       "\n"
      ],
      "text/plain": [
       "[1] \"1\" \"2\" \"3\" \"4\" \"5\" \"6\" \"a\""
      ]
     },
     "metadata": {},
     "output_type": "display_data"
    },
    {
     "data": {
      "text/html": [
       "<ol>\n",
       "\t<li><ol class=list-inline>\n",
       "\t<li>1</li>\n",
       "\t<li>2</li>\n",
       "\t<li>3</li>\n",
       "\t<li>4</li>\n",
       "\t<li>5</li>\n",
       "\t<li>6</li>\n",
       "</ol>\n",
       "</li>\n",
       "\t<li>'a'</li>\n",
       "</ol>\n"
      ],
      "text/latex": [
       "\\begin{enumerate}\n",
       "\\item \\begin{enumerate*}\n",
       "\\item 1\n",
       "\\item 2\n",
       "\\item 3\n",
       "\\item 4\n",
       "\\item 5\n",
       "\\item 6\n",
       "\\end{enumerate*}\n",
       "\n",
       "\\item 'a'\n",
       "\\end{enumerate}\n"
      ],
      "text/markdown": [
       "1. 1. 1\n",
       "2. 2\n",
       "3. 3\n",
       "4. 4\n",
       "5. 5\n",
       "6. 6\n",
       "\n",
       "\n",
       "\n",
       "2. 'a'\n",
       "\n",
       "\n"
      ],
      "text/plain": [
       "[[1]]\n",
       "[1] 1 2 3 4 5 6\n",
       "\n",
       "[[2]]\n",
       "[1] \"a\"\n"
      ]
     },
     "metadata": {},
     "output_type": "display_data"
    }
   ],
   "source": [
    "#리스트와 벡터의 구분\n",
    "myvector <- c(1:6,'a')\n",
    "myvector\n",
    "\n",
    "mylist <- list(1:6,'a')\n",
    "mylist\n"
   ]
  },
  {
   "cell_type": "code",
   "execution_count": 3,
   "metadata": {},
   "outputs": [
    {
     "data": {
      "text/html": [
       "<ol>\n",
       "\t<li><ol class=list-inline>\n",
       "\t<li>1</li>\n",
       "\t<li>2</li>\n",
       "\t<li>3</li>\n",
       "\t<li>4</li>\n",
       "</ol>\n",
       "</li>\n",
       "\t<li><ol class=list-inline>\n",
       "\t<li>6</li>\n",
       "\t<li>7</li>\n",
       "\t<li>8</li>\n",
       "\t<li>9</li>\n",
       "\t<li>10</li>\n",
       "</ol>\n",
       "</li>\n",
       "</ol>\n"
      ],
      "text/latex": [
       "\\begin{enumerate}\n",
       "\\item \\begin{enumerate*}\n",
       "\\item 1\n",
       "\\item 2\n",
       "\\item 3\n",
       "\\item 4\n",
       "\\end{enumerate*}\n",
       "\n",
       "\\item \\begin{enumerate*}\n",
       "\\item 6\n",
       "\\item 7\n",
       "\\item 8\n",
       "\\item 9\n",
       "\\item 10\n",
       "\\end{enumerate*}\n",
       "\n",
       "\\end{enumerate}\n"
      ],
      "text/markdown": [
       "1. 1. 1\n",
       "2. 2\n",
       "3. 3\n",
       "4. 4\n",
       "\n",
       "\n",
       "\n",
       "2. 1. 6\n",
       "2. 7\n",
       "3. 8\n",
       "4. 9\n",
       "5. 10\n",
       "\n",
       "\n",
       "\n",
       "\n",
       "\n"
      ],
      "text/plain": [
       "[[1]]\n",
       "[1] 1 2 3 4\n",
       "\n",
       "[[2]]\n",
       "[1]  6  7  8  9 10\n"
      ]
     },
     "metadata": {},
     "output_type": "display_data"
    }
   ],
   "source": [
    "#list 형식의 오브젝트 소개\n",
    "obj1 <- 1:4\n",
    "obj2 <- 6:10\n",
    "#간단한 리스트 형식의 오브젝트는 다음과 같다.\n",
    "obj3 <- list(obj1,obj2)\n",
    "obj3"
   ]
  },
  {
   "cell_type": "code",
   "execution_count": 4,
   "metadata": {},
   "outputs": [
    {
     "data": {
      "text/html": [
       "<ol>\n",
       "\t<li><ol class=list-inline>\n",
       "\t<li>1</li>\n",
       "\t<li>2</li>\n",
       "\t<li>3</li>\n",
       "\t<li>4</li>\n",
       "</ol>\n",
       "</li>\n",
       "\t<li><ol class=list-inline>\n",
       "\t<li>6</li>\n",
       "\t<li>7</li>\n",
       "\t<li>8</li>\n",
       "\t<li>9</li>\n",
       "\t<li>10</li>\n",
       "</ol>\n",
       "</li>\n",
       "\t<li><ol>\n",
       "\t<li><ol class=list-inline>\n",
       "\t<li>1</li>\n",
       "\t<li>2</li>\n",
       "\t<li>3</li>\n",
       "\t<li>4</li>\n",
       "</ol>\n",
       "</li>\n",
       "\t<li><ol class=list-inline>\n",
       "\t<li>6</li>\n",
       "\t<li>7</li>\n",
       "\t<li>8</li>\n",
       "\t<li>9</li>\n",
       "\t<li>10</li>\n",
       "</ol>\n",
       "</li>\n",
       "</ol>\n",
       "</li>\n",
       "</ol>\n"
      ],
      "text/latex": [
       "\\begin{enumerate}\n",
       "\\item \\begin{enumerate*}\n",
       "\\item 1\n",
       "\\item 2\n",
       "\\item 3\n",
       "\\item 4\n",
       "\\end{enumerate*}\n",
       "\n",
       "\\item \\begin{enumerate*}\n",
       "\\item 6\n",
       "\\item 7\n",
       "\\item 8\n",
       "\\item 9\n",
       "\\item 10\n",
       "\\end{enumerate*}\n",
       "\n",
       "\\item \\begin{enumerate}\n",
       "\\item \\begin{enumerate*}\n",
       "\\item 1\n",
       "\\item 2\n",
       "\\item 3\n",
       "\\item 4\n",
       "\\end{enumerate*}\n",
       "\n",
       "\\item \\begin{enumerate*}\n",
       "\\item 6\n",
       "\\item 7\n",
       "\\item 8\n",
       "\\item 9\n",
       "\\item 10\n",
       "\\end{enumerate*}\n",
       "\n",
       "\\end{enumerate}\n",
       "\n",
       "\\end{enumerate}\n"
      ],
      "text/markdown": [
       "1. 1. 1\n",
       "2. 2\n",
       "3. 3\n",
       "4. 4\n",
       "\n",
       "\n",
       "\n",
       "2. 1. 6\n",
       "2. 7\n",
       "3. 8\n",
       "4. 9\n",
       "5. 10\n",
       "\n",
       "\n",
       "\n",
       "3. 1. 1. 1\n",
       "2. 2\n",
       "3. 3\n",
       "4. 4\n",
       "\n",
       "\n",
       "\n",
       "2. 1. 6\n",
       "2. 7\n",
       "3. 8\n",
       "4. 9\n",
       "5. 10\n",
       "\n",
       "\n",
       "\n",
       "\n",
       "\n",
       "\n",
       "\n",
       "\n"
      ],
      "text/plain": [
       "[[1]]\n",
       "[1] 1 2 3 4\n",
       "\n",
       "[[2]]\n",
       "[1]  6  7  8  9 10\n",
       "\n",
       "[[3]]\n",
       "[[3]][[1]]\n",
       "[1] 1 2 3 4\n",
       "\n",
       "[[3]][[2]]\n",
       "[1]  6  7  8  9 10\n",
       "\n"
      ]
     },
     "metadata": {},
     "output_type": "display_data"
    }
   ],
   "source": [
    "#list함수는 연이어 사용할 수도 있다.\n",
    "mylist <- list(obj1,obj2,obj3)\n",
    "mylist"
   ]
  },
  {
   "cell_type": "code",
   "execution_count": 5,
   "metadata": {},
   "outputs": [
    {
     "data": {
      "text/html": [
       "<ol>\n",
       "\t<li><ol class=list-inline>\n",
       "\t<li>1</li>\n",
       "\t<li>2</li>\n",
       "\t<li>3</li>\n",
       "\t<li>4</li>\n",
       "</ol>\n",
       "</li>\n",
       "</ol>\n"
      ],
      "text/latex": [
       "\\begin{enumerate}\n",
       "\\item \\begin{enumerate*}\n",
       "\\item 1\n",
       "\\item 2\n",
       "\\item 3\n",
       "\\item 4\n",
       "\\end{enumerate*}\n",
       "\n",
       "\\end{enumerate}\n"
      ],
      "text/markdown": [
       "1. 1. 1\n",
       "2. 2\n",
       "3. 3\n",
       "4. 4\n",
       "\n",
       "\n",
       "\n",
       "\n",
       "\n"
      ],
      "text/plain": [
       "[[1]]\n",
       "[1] 1 2 3 4\n"
      ]
     },
     "metadata": {},
     "output_type": "display_data"
    },
    {
     "data": {
      "text/html": [
       "<ol class=list-inline>\n",
       "\t<li>1</li>\n",
       "\t<li>2</li>\n",
       "\t<li>3</li>\n",
       "\t<li>4</li>\n",
       "</ol>\n"
      ],
      "text/latex": [
       "\\begin{enumerate*}\n",
       "\\item 1\n",
       "\\item 2\n",
       "\\item 3\n",
       "\\item 4\n",
       "\\end{enumerate*}\n"
      ],
      "text/markdown": [
       "1. 1\n",
       "2. 2\n",
       "3. 3\n",
       "4. 4\n",
       "\n",
       "\n"
      ],
      "text/plain": [
       "[1] 1 2 3 4"
      ]
     },
     "metadata": {},
     "output_type": "display_data"
    },
    {
     "data": {
      "text/html": [
       "2"
      ],
      "text/latex": [
       "2"
      ],
      "text/markdown": [
       "2"
      ],
      "text/plain": [
       "[1] 2"
      ]
     },
     "metadata": {},
     "output_type": "display_data"
    }
   ],
   "source": [
    "#벡터로 구성된 자료의 경우 []를 사용하지만, 리스트형식은 [[]]을 사용한다\n",
    "#예를 들어 아래와 같이 []을 사용하면 리스트를, [[]]을 사용하면 벡터를 얻을 수 있다.\n",
    "mylist[[3]][1]; mylist[[3]][[1]]\n",
    "\n",
    "#[[]]와 []에 익숙해지면 아래의 표현도 이해할 수 있다. \n",
    "mylist[[3]][[1]][2]"
   ]
  },
  {
   "cell_type": "code",
   "execution_count": 6,
   "metadata": {},
   "outputs": [
    {
     "data": {
      "text/html": [
       "<ol class=list-inline>\n",
       "\t<li>'1'</li>\n",
       "\t<li>'2'</li>\n",
       "\t<li>'3'</li>\n",
       "\t<li>'4'</li>\n",
       "\t<li>'5'</li>\n",
       "\t<li>'6'</li>\n",
       "\t<li>'a'</li>\n",
       "</ol>\n"
      ],
      "text/latex": [
       "\\begin{enumerate*}\n",
       "\\item '1'\n",
       "\\item '2'\n",
       "\\item '3'\n",
       "\\item '4'\n",
       "\\item '5'\n",
       "\\item '6'\n",
       "\\item 'a'\n",
       "\\end{enumerate*}\n"
      ],
      "text/markdown": [
       "1. '1'\n",
       "2. '2'\n",
       "3. '3'\n",
       "4. '4'\n",
       "5. '5'\n",
       "6. '6'\n",
       "7. 'a'\n",
       "\n",
       "\n"
      ],
      "text/plain": [
       "[1] \"1\" \"2\" \"3\" \"4\" \"5\" \"6\" \"a\""
      ]
     },
     "metadata": {},
     "output_type": "display_data"
    },
    {
     "data": {
      "text/html": [
       "<ol class=list-inline>\n",
       "\t<li>TRUE</li>\n",
       "\t<li>TRUE</li>\n",
       "\t<li>TRUE</li>\n",
       "\t<li>TRUE</li>\n",
       "\t<li>TRUE</li>\n",
       "\t<li>TRUE</li>\n",
       "\t<li>TRUE</li>\n",
       "</ol>\n"
      ],
      "text/latex": [
       "\\begin{enumerate*}\n",
       "\\item TRUE\n",
       "\\item TRUE\n",
       "\\item TRUE\n",
       "\\item TRUE\n",
       "\\item TRUE\n",
       "\\item TRUE\n",
       "\\item TRUE\n",
       "\\end{enumerate*}\n"
      ],
      "text/markdown": [
       "1. TRUE\n",
       "2. TRUE\n",
       "3. TRUE\n",
       "4. TRUE\n",
       "5. TRUE\n",
       "6. TRUE\n",
       "7. TRUE\n",
       "\n",
       "\n"
      ],
      "text/plain": [
       "[1] TRUE TRUE TRUE TRUE TRUE TRUE TRUE"
      ]
     },
     "metadata": {},
     "output_type": "display_data"
    }
   ],
   "source": [
    "#unlist함수는 리스트를 벡터형식으로 돌려주는 역할이다. \n",
    "#unlist 함수는 유용하지만 조심하여 사용하기 바란다. \n",
    "myvector <- c(1:6,'a')\n",
    "mylist <- list(1:6,'a')\n",
    "unlist(mylist)\n",
    "unlist(mylist) == myvector"
   ]
  },
  {
   "cell_type": "code",
   "execution_count": 8,
   "metadata": {},
   "outputs": [
    {
     "data": {
      "text/html": [
       "3.5"
      ],
      "text/latex": [
       "3.5"
      ],
      "text/markdown": [
       "3.5"
      ],
      "text/plain": [
       "[1] 3.5"
      ]
     },
     "metadata": {},
     "output_type": "display_data"
    },
    {
     "name": "stderr",
     "output_type": "stream",
     "text": [
      "Warning message in mean.default(unlist(mylist)[1:6]):\n",
      "“argument is not numeric or logical: returning NA”"
     ]
    },
    {
     "data": {
      "text/html": [
       "&lt;NA&gt;"
      ],
      "text/latex": [
       "<NA>"
      ],
      "text/markdown": [
       "&lt;NA&gt;"
      ],
      "text/plain": [
       "[1] NA"
      ]
     },
     "metadata": {},
     "output_type": "display_data"
    }
   ],
   "source": [
    "#예를 들어 mylist의 모든 관측값의 평균을 구한다고 가정하자. \n",
    "mean(mylist[[1]][1:6])\n",
    "mean(unlist(mylist)[1:6])"
   ]
  },
  {
   "cell_type": "code",
   "execution_count": 7,
   "metadata": {},
   "outputs": [
    {
     "data": {
      "text/html": [
       "<ol>\n",
       "\t<li>'Donald'</li>\n",
       "\t<li>' '</li>\n",
       "\t<li>'Trump'</li>\n",
       "</ol>\n"
      ],
      "text/latex": [
       "\\begin{enumerate}\n",
       "\\item 'Donald'\n",
       "\\item ' '\n",
       "\\item 'Trump'\n",
       "\\end{enumerate}\n"
      ],
      "text/markdown": [
       "1. 'Donald'\n",
       "2. ' '\n",
       "3. 'Trump'\n",
       "\n",
       "\n"
      ],
      "text/plain": [
       "[[1]]\n",
       "[1] \"Donald\"\n",
       "\n",
       "[[2]]\n",
       "[1] \" \"\n",
       "\n",
       "[[3]]\n",
       "[1] \"Trump\"\n"
      ]
     },
     "metadata": {},
     "output_type": "display_data"
    },
    {
     "data": {
      "text/html": [
       "<ol class=list-inline>\n",
       "\t<li>'Donald'</li>\n",
       "\t<li>' '</li>\n",
       "\t<li>'Trump'</li>\n",
       "</ol>\n"
      ],
      "text/latex": [
       "\\begin{enumerate*}\n",
       "\\item 'Donald'\n",
       "\\item ' '\n",
       "\\item 'Trump'\n",
       "\\end{enumerate*}\n"
      ],
      "text/markdown": [
       "1. 'Donald'\n",
       "2. ' '\n",
       "3. 'Trump'\n",
       "\n",
       "\n"
      ],
      "text/plain": [
       "[1] \"Donald\" \" \"      \"Trump\" "
      ]
     },
     "metadata": {},
     "output_type": "display_data"
    }
   ],
   "source": [
    "#텍스트형 자료(문자에서 단어로)\n",
    "name1 <- \"Donald\"\n",
    "myspace <- \" \"\n",
    "name2 <- \"Trump\"\n",
    "list(name1, myspace, name2)\n",
    "unlist(list(name1, myspace, name2))"
   ]
  },
  {
   "cell_type": "code",
   "execution_count": 9,
   "metadata": {},
   "outputs": [
    {
     "data": {
      "text/html": [
       "<ol class=list-inline>\n",
       "\t<li>갑</li>\n",
       "\t<li>을</li>\n",
       "\t<li>병</li>\n",
       "\t<li>정</li>\n",
       "</ol>\n",
       "\n",
       "<details>\n",
       "\t<summary style=display:list-item;cursor:pointer>\n",
       "\t\t<strong>Levels</strong>:\n",
       "\t</summary>\n",
       "\t<ol class=list-inline>\n",
       "\t\t<li>'갑'</li>\n",
       "\t\t<li>'병'</li>\n",
       "\t\t<li>'을'</li>\n",
       "\t\t<li>'정'</li>\n",
       "\t</ol>\n",
       "</details>"
      ],
      "text/latex": [
       "\\begin{enumerate*}\n",
       "\\item 갑\n",
       "\\item 을\n",
       "\\item 병\n",
       "\\item 정\n",
       "\\end{enumerate*}\n",
       "\n",
       "\\emph{Levels}: \\begin{enumerate*}\n",
       "\\item '갑'\n",
       "\\item '병'\n",
       "\\item '을'\n",
       "\\item '정'\n",
       "\\end{enumerate*}\n"
      ],
      "text/markdown": [
       "1. 갑\n",
       "2. 을\n",
       "3. 병\n",
       "4. 정\n",
       "\n",
       "\n",
       "\n",
       "**Levels**: 1. '갑'\n",
       "2. '병'\n",
       "3. '을'\n",
       "4. '정'\n",
       "\n",
       "\n"
      ],
      "text/plain": [
       "[1] 갑 을 병 정\n",
       "attr(,\"what the variable means\")\n",
       "[1] 응답자의 이름\n",
       "Levels: 갑 병 을 정"
      ]
     },
     "metadata": {},
     "output_type": "display_data"
    },
    {
     "data": {
      "text/html": [
       "<ol class=list-inline>\n",
       "\t<li>2</li>\n",
       "\t<li>1</li>\n",
       "\t<li>1</li>\n",
       "\t<li>2</li>\n",
       "</ol>\n"
      ],
      "text/latex": [
       "\\begin{enumerate*}\n",
       "\\item 2\n",
       "\\item 1\n",
       "\\item 1\n",
       "\\item 2\n",
       "\\end{enumerate*}\n"
      ],
      "text/markdown": [
       "1. 2\n",
       "2. 1\n",
       "3. 1\n",
       "4. 2\n",
       "\n",
       "\n"
      ],
      "text/plain": [
       "[1] 2 1 1 2\n",
       "attr(,\"what the variable means\")\n",
       "[1] \"응답자의 성별\"\n",
       "attr(,\"what the value means\")\n",
       "[1] \"여성\" \"남성\" \"남성\" \"여성\""
      ]
     },
     "metadata": {},
     "output_type": "display_data"
    }
   ],
   "source": [
    "#오브젝트의 속성이 입력된 경우가 많으며, 상황에 따라 속성값을 저장할 필요가 있다\n",
    "name <- c('갑','을','병','정')\n",
    "gender <- c(2,1,1,2)\n",
    "mydata <- data.frame(name,gender)\n",
    "attr(mydata$name,\"what the variable means\") <- \"응답자의 이름\"\n",
    "mydata$name\n",
    "attr(mydata$gender,\"what the variable means\") <- \"응답자의 성별\"\n",
    "myvalues <- gender\n",
    "for (i in 1:length(gender)) {myvalues[i] <- ifelse(gender[i]==1,\"남성\",\"여성\")}\n",
    "attr(mydata$gender,\"what the value means\") <- myvalues\n",
    "mydata$gender"
   ]
  },
  {
   "cell_type": "code",
   "execution_count": 10,
   "metadata": {},
   "outputs": [
    {
     "data": {
      "text/html": [
       "<ol class=list-inline>\n",
       "\t<li>'여성'</li>\n",
       "\t<li>'남성'</li>\n",
       "\t<li>'남성'</li>\n",
       "\t<li>'여성'</li>\n",
       "</ol>\n"
      ],
      "text/latex": [
       "\\begin{enumerate*}\n",
       "\\item '여성'\n",
       "\\item '남성'\n",
       "\\item '남성'\n",
       "\\item '여성'\n",
       "\\end{enumerate*}\n"
      ],
      "text/markdown": [
       "1. '여성'\n",
       "2. '남성'\n",
       "3. '남성'\n",
       "4. '여성'\n",
       "\n",
       "\n"
      ],
      "text/plain": [
       "[1] \"여성\" \"남성\" \"남성\" \"여성\""
      ]
     },
     "metadata": {},
     "output_type": "display_data"
    }
   ],
   "source": [
    "myvalues"
   ]
  },
  {
   "cell_type": "code",
   "execution_count": 11,
   "metadata": {},
   "outputs": [
    {
     "data": {
      "text/html": [
       "<ol class=list-inline>\n",
       "\t<li>2</li>\n",
       "\t<li>1</li>\n",
       "\t<li>1</li>\n",
       "\t<li>2</li>\n",
       "</ol>\n"
      ],
      "text/latex": [
       "\\begin{enumerate*}\n",
       "\\item 2\n",
       "\\item 1\n",
       "\\item 1\n",
       "\\item 2\n",
       "\\end{enumerate*}\n"
      ],
      "text/markdown": [
       "1. 2\n",
       "2. 1\n",
       "3. 1\n",
       "4. 2\n",
       "\n",
       "\n"
      ],
      "text/plain": [
       "[1] 2 1 1 2\n",
       "attr(,\"what the variable means\")\n",
       "[1] \"응답자의 성별\"\n",
       "attr(,\"what the value means\")\n",
       "[1] \"여성\" \"남성\" \"남성\" \"여성\""
      ]
     },
     "metadata": {},
     "output_type": "display_data"
    }
   ],
   "source": [
    "mydata$gender"
   ]
  },
  {
   "cell_type": "code",
   "execution_count": 12,
   "metadata": {},
   "outputs": [
    {
     "data": {
      "text/html": [
       "<ol class=list-inline>\n",
       "\t<li>'여성'</li>\n",
       "\t<li>'남성'</li>\n",
       "\t<li>'남성'</li>\n",
       "\t<li>'여성'</li>\n",
       "</ol>\n"
      ],
      "text/latex": [
       "\\begin{enumerate*}\n",
       "\\item '여성'\n",
       "\\item '남성'\n",
       "\\item '남성'\n",
       "\\item '여성'\n",
       "\\end{enumerate*}\n"
      ],
      "text/markdown": [
       "1. '여성'\n",
       "2. '남성'\n",
       "3. '남성'\n",
       "4. '여성'\n",
       "\n",
       "\n"
      ],
      "text/plain": [
       "[1] \"여성\" \"남성\" \"남성\" \"여성\""
      ]
     },
     "metadata": {},
     "output_type": "display_data"
    },
    {
     "data": {
      "text/html": [
       "<table>\n",
       "<caption>A data.frame: 4 × 3</caption>\n",
       "<thead>\n",
       "\t<tr><th scope=col>name</th><th scope=col>gender</th><th scope=col>gender.character</th></tr>\n",
       "\t<tr><th scope=col>&lt;fct&gt;</th><th scope=col>&lt;dbl&gt;</th><th scope=col>&lt;chr&gt;</th></tr>\n",
       "</thead>\n",
       "<tbody>\n",
       "\t<tr><td>갑</td><td>2</td><td>여성</td></tr>\n",
       "\t<tr><td>을</td><td>1</td><td>남성</td></tr>\n",
       "\t<tr><td>병</td><td>1</td><td>남성</td></tr>\n",
       "\t<tr><td>정</td><td>2</td><td>여성</td></tr>\n",
       "</tbody>\n",
       "</table>\n"
      ],
      "text/latex": [
       "A data.frame: 4 × 3\n",
       "\\begin{tabular}{r|lll}\n",
       " name & gender & gender.character\\\\\n",
       " <fct> & <dbl> & <chr>\\\\\n",
       "\\hline\n",
       "\t 갑 & 2 & 여성\\\\\n",
       "\t 을 & 1 & 남성\\\\\n",
       "\t 병 & 1 & 남성\\\\\n",
       "\t 정 & 2 & 여성\\\\\n",
       "\\end{tabular}\n"
      ],
      "text/markdown": [
       "\n",
       "A data.frame: 4 × 3\n",
       "\n",
       "| name &lt;fct&gt; | gender &lt;dbl&gt; | gender.character &lt;chr&gt; |\n",
       "|---|---|---|\n",
       "| 갑 | 2 | 여성 |\n",
       "| 을 | 1 | 남성 |\n",
       "| 병 | 1 | 남성 |\n",
       "| 정 | 2 | 여성 |\n",
       "\n"
      ],
      "text/plain": [
       "  name gender gender.character\n",
       "1 갑   2      여성            \n",
       "2 을   1      남성            \n",
       "3 병   1      남성            \n",
       "4 정   2      여성            "
      ]
     },
     "metadata": {},
     "output_type": "display_data"
    }
   ],
   "source": [
    "#속성값 추출\n",
    "attr(mydata$gender,\"what the value means\")\n",
    "#속성값을 추출한 후 mydata에 새로운 변수로 추가해 보자. \n",
    "mydata$gender.character <- attr(mydata$gender,\"what the value means\")\n",
    "mydata"
   ]
  },
  {
   "cell_type": "code",
   "execution_count": 14,
   "metadata": {},
   "outputs": [
    {
     "data": {
      "text/html": [
       "<ol>\n",
       "\t<li>2.5</li>\n",
       "\t<li>8</li>\n",
       "</ol>\n"
      ],
      "text/latex": [
       "\\begin{enumerate}\n",
       "\\item 2.5\n",
       "\\item 8\n",
       "\\end{enumerate}\n"
      ],
      "text/markdown": [
       "1. 2.5\n",
       "2. 8\n",
       "\n",
       "\n"
      ],
      "text/plain": [
       "[[1]]\n",
       "[1] 2.5\n",
       "\n",
       "[[2]]\n",
       "[1] 8\n"
      ]
     },
     "metadata": {},
     "output_type": "display_data"
    }
   ],
   "source": [
    "#리스트 형식인 경우 lapply 함수가 매우 유용하다. \n",
    "mylist <- list(1:4,6:10,list(1:4,6:10))\n",
    "lapply(mylist[[3]],mean)\n",
    "\n"
   ]
  },
  {
   "cell_type": "code",
   "execution_count": 15,
   "metadata": {},
   "outputs": [
    {
     "name": "stderr",
     "output_type": "stream",
     "text": [
      "Warning message in mean.default(X[[i]], ...):\n",
      "“argument is not numeric or logical: returning NA”"
     ]
    },
    {
     "data": {
      "text/html": [
       "<ol>\n",
       "\t<li>2.5</li>\n",
       "\t<li>8</li>\n",
       "\t<li>&lt;NA&gt;</li>\n",
       "</ol>\n"
      ],
      "text/latex": [
       "\\begin{enumerate}\n",
       "\\item 2.5\n",
       "\\item 8\n",
       "\\item <NA>\n",
       "\\end{enumerate}\n"
      ],
      "text/markdown": [
       "1. 2.5\n",
       "2. 8\n",
       "3. &lt;NA&gt;\n",
       "\n",
       "\n"
      ],
      "text/plain": [
       "[[1]]\n",
       "[1] 2.5\n",
       "\n",
       "[[2]]\n",
       "[1] 8\n",
       "\n",
       "[[3]]\n",
       "[1] NA\n"
      ]
     },
     "metadata": {},
     "output_type": "display_data"
    },
    {
     "data": {
      "text/html": [
       "<ol>\n",
       "\t<li>2.5</li>\n",
       "\t<li>8</li>\n",
       "\t<li>2.5</li>\n",
       "\t<li>8</li>\n",
       "</ol>\n"
      ],
      "text/latex": [
       "\\begin{enumerate}\n",
       "\\item 2.5\n",
       "\\item 8\n",
       "\\item 2.5\n",
       "\\item 8\n",
       "\\end{enumerate}\n"
      ],
      "text/markdown": [
       "1. 2.5\n",
       "2. 8\n",
       "3. 2.5\n",
       "4. 8\n",
       "\n",
       "\n"
      ],
      "text/plain": [
       "[[1]]\n",
       "[1] 2.5\n",
       "\n",
       "[[2]]\n",
       "[1] 8\n",
       "\n",
       "[[3]]\n",
       "[1] 2.5\n",
       "\n",
       "[[4]]\n",
       "[1] 8\n"
      ]
     },
     "metadata": {},
     "output_type": "display_data"
    }
   ],
   "source": [
    "#그러나 [[]][[]]의 형태를 가질 경우 주의할 필요가 있다. \n",
    "lapply(mylist,mean)\n",
    "lapply(mylist[c(1,2,c(1,2))],mean)\n",
    "\n"
   ]
  },
  {
   "cell_type": "code",
   "execution_count": 16,
   "metadata": {},
   "outputs": [
    {
     "data": {
      "text/html": [
       "<ol class=list-inline>\n",
       "\t<li>10</li>\n",
       "\t<li>40</li>\n",
       "\t<li>10</li>\n",
       "\t<li>40</li>\n",
       "</ol>\n"
      ],
      "text/latex": [
       "\\begin{enumerate*}\n",
       "\\item 10\n",
       "\\item 40\n",
       "\\item 10\n",
       "\\item 40\n",
       "\\end{enumerate*}\n"
      ],
      "text/markdown": [
       "1. 10\n",
       "2. 40\n",
       "3. 10\n",
       "4. 40\n",
       "\n",
       "\n"
      ],
      "text/plain": [
       "[1] 10 40 10 40"
      ]
     },
     "metadata": {},
     "output_type": "display_data"
    },
    {
     "data": {
      "text/html": [
       "<ol class=list-inline>\n",
       "\t<li>10</li>\n",
       "\t<li>40</li>\n",
       "\t<li>10</li>\n",
       "\t<li>40</li>\n",
       "</ol>\n"
      ],
      "text/latex": [
       "\\begin{enumerate*}\n",
       "\\item 10\n",
       "\\item 40\n",
       "\\item 10\n",
       "\\item 40\n",
       "\\end{enumerate*}\n"
      ],
      "text/markdown": [
       "1. 10\n",
       "2. 40\n",
       "3. 10\n",
       "4. 40\n",
       "\n",
       "\n"
      ],
      "text/plain": [
       "[1] 10 40 10 40"
      ]
     },
     "metadata": {},
     "output_type": "display_data"
    }
   ],
   "source": [
    "#sapply 함수의 경우 lapply 함수 결과와 유사하지만 결과값에 unlist 함수를 적용한다는 점이 다르다\n",
    "sapply(mylist[c(1,2,c(1,2))],sum)\n",
    "unlist(lapply(mylist[c(1,2,c(1,2))],sum))"
   ]
  },
  {
   "cell_type": "code",
   "execution_count": 17,
   "metadata": {},
   "outputs": [
    {
     "data": {
      "text/html": [
       "<dl class=dl-horizontal>\n",
       "\t<dt>a</dt>\n",
       "\t\t<dd>1</dd>\n",
       "\t<dt>is</dt>\n",
       "\t\t<dd>1</dd>\n",
       "\t<dt>the</dt>\n",
       "\t\t<dd>2</dd>\n",
       "</dl>\n"
      ],
      "text/latex": [
       "\\begin{description*}\n",
       "\\item[a] 1\n",
       "\\item[is] 1\n",
       "\\item[the] 2\n",
       "\\end{description*}\n"
      ],
      "text/markdown": [
       "a\n",
       ":   1is\n",
       ":   1the\n",
       ":   2\n",
       "\n"
      ],
      "text/plain": [
       "  a  is the \n",
       "  1   1   2 "
      ]
     },
     "metadata": {},
     "output_type": "display_data"
    },
    {
     "data": {
      "text/html": [
       "<dl class=dl-horizontal>\n",
       "\t<dt>a</dt>\n",
       "\t\t<dd>1</dd>\n",
       "\t<dt>is</dt>\n",
       "\t\t<dd>1</dd>\n",
       "\t<dt>the</dt>\n",
       "\t\t<dd>2</dd>\n",
       "</dl>\n"
      ],
      "text/latex": [
       "\\begin{description*}\n",
       "\\item[a] 1\n",
       "\\item[is] 1\n",
       "\\item[the] 2\n",
       "\\end{description*}\n"
      ],
      "text/markdown": [
       "a\n",
       ":   1is\n",
       ":   1the\n",
       ":   2\n",
       "\n"
      ],
      "text/plain": [
       "  a  is the \n",
       "  1   1   2 "
      ]
     },
     "metadata": {},
     "output_type": "display_data"
    },
    {
     "data": {
      "text/html": [
       "<dl class=dl-horizontal>\n",
       "\t<dt>a</dt>\n",
       "\t\t<dd>2</dd>\n",
       "\t<dt>is</dt>\n",
       "\t\t<dd>4</dd>\n",
       "\t<dt>the</dt>\n",
       "\t\t<dd>7</dd>\n",
       "</dl>\n"
      ],
      "text/latex": [
       "\\begin{description*}\n",
       "\\item[a] 2\n",
       "\\item[is] 4\n",
       "\\item[the] 7\n",
       "\\end{description*}\n"
      ],
      "text/markdown": [
       "a\n",
       ":   2is\n",
       ":   4the\n",
       ":   7\n",
       "\n"
      ],
      "text/plain": [
       "  a  is the \n",
       "  2   4   7 "
      ]
     },
     "metadata": {},
     "output_type": "display_data"
    },
    {
     "data": {
      "text/html": [
       "<dl class=dl-horizontal>\n",
       "\t<dt>a</dt>\n",
       "\t\t<dd>1</dd>\n",
       "\t<dt>is</dt>\n",
       "\t\t<dd>1</dd>\n",
       "\t<dt>the</dt>\n",
       "\t\t<dd>2</dd>\n",
       "</dl>\n"
      ],
      "text/latex": [
       "\\begin{description*}\n",
       "\\item[a] 1\n",
       "\\item[is] 1\n",
       "\\item[the] 2\n",
       "\\end{description*}\n"
      ],
      "text/markdown": [
       "a\n",
       ":   1is\n",
       ":   1the\n",
       ":   2\n",
       "\n"
      ],
      "text/plain": [
       "  a  is the \n",
       "  1   1   2 "
      ]
     },
     "metadata": {},
     "output_type": "display_data"
    }
   ],
   "source": [
    "\n",
    "#tapply는 텍스트 데이터에서 종종 사용된다.\n",
    "#다음과 같은 빈도표 2개를 가정해 보자. \n",
    "wordlist <- c(\"the\",\"is\",\"a\",\"the\")\n",
    "doc1freq <- c(3,4,2,4)\n",
    "doc2freq <- rep(1,4)\n",
    "#아래의 사례를 보면 tapply() 함수가 어떤 역할을 하는지 알 수 있다. \n",
    "tapply(doc1freq,wordlist,length)\n",
    "tapply(doc2freq,wordlist,length)\n",
    "tapply(doc1freq,wordlist,sum)\n",
    "tapply(doc2freq,wordlist,sum)\n",
    "\n",
    "\n"
   ]
  },
  {
   "cell_type": "code",
   "execution_count": 21,
   "metadata": {},
   "outputs": [
    {
     "data": {
      "text/html": [
       "<dl class=dl-horizontal>\n",
       "\t<dt>a</dt>\n",
       "\t\t<dd>2</dd>\n",
       "\t<dt>is</dt>\n",
       "\t\t<dd>4</dd>\n",
       "\t<dt>the</dt>\n",
       "\t\t<dd>7</dd>\n",
       "</dl>\n"
      ],
      "text/latex": [
       "\\begin{description*}\n",
       "\\item[a] 2\n",
       "\\item[is] 4\n",
       "\\item[the] 7\n",
       "\\end{description*}\n"
      ],
      "text/markdown": [
       "a\n",
       ":   2is\n",
       ":   4the\n",
       ":   7\n",
       "\n"
      ],
      "text/plain": [
       "  a  is the \n",
       "  2   4   7 "
      ]
     },
     "metadata": {},
     "output_type": "display_data"
    }
   ],
   "source": [
    "tapply(doc1freq,wordlist,sum)"
   ]
  },
  {
   "cell_type": "code",
   "execution_count": 23,
   "metadata": {},
   "outputs": [
    {
     "data": {
      "text/html": [
       "<ol class=list-inline>\n",
       "\t<li>'the'</li>\n",
       "\t<li>'is'</li>\n",
       "\t<li>'a'</li>\n",
       "\t<li>'the'</li>\n",
       "</ol>\n"
      ],
      "text/latex": [
       "\\begin{enumerate*}\n",
       "\\item 'the'\n",
       "\\item 'is'\n",
       "\\item 'a'\n",
       "\\item 'the'\n",
       "\\end{enumerate*}\n"
      ],
      "text/markdown": [
       "1. 'the'\n",
       "2. 'is'\n",
       "3. 'a'\n",
       "4. 'the'\n",
       "\n",
       "\n"
      ],
      "text/plain": [
       "[1] \"the\" \"is\"  \"a\"   \"the\""
      ]
     },
     "metadata": {},
     "output_type": "display_data"
    },
    {
     "data": {
      "text/html": [
       "<ol class=list-inline>\n",
       "\t<li>3</li>\n",
       "\t<li>4</li>\n",
       "\t<li>2</li>\n",
       "\t<li>4</li>\n",
       "</ol>\n"
      ],
      "text/latex": [
       "\\begin{enumerate*}\n",
       "\\item 3\n",
       "\\item 4\n",
       "\\item 2\n",
       "\\item 4\n",
       "\\end{enumerate*}\n"
      ],
      "text/markdown": [
       "1. 3\n",
       "2. 4\n",
       "3. 2\n",
       "4. 4\n",
       "\n",
       "\n"
      ],
      "text/plain": [
       "[1] 3 4 2 4"
      ]
     },
     "metadata": {},
     "output_type": "display_data"
    }
   ],
   "source": [
    "wordlist <- c(\"the\",\"is\",\"a\",\"the\")\n",
    "wordlist\n",
    "doc1freq"
   ]
  },
  {
   "cell_type": "code",
   "execution_count": 31,
   "metadata": {},
   "outputs": [
    {
     "data": {
      "text/html": [
       "<dl class=dl-horizontal>\n",
       "\t<dt>a</dt>\n",
       "\t\t<dd>1</dd>\n",
       "\t<dt>is</dt>\n",
       "\t\t<dd>1</dd>\n",
       "\t<dt>the</dt>\n",
       "\t\t<dd>2</dd>\n",
       "</dl>\n"
      ],
      "text/latex": [
       "\\begin{description*}\n",
       "\\item[a] 1\n",
       "\\item[is] 1\n",
       "\\item[the] 2\n",
       "\\end{description*}\n"
      ],
      "text/markdown": [
       "a\n",
       ":   1is\n",
       ":   1the\n",
       ":   2\n",
       "\n"
      ],
      "text/plain": [
       "  a  is the \n",
       "  1   1   2 "
      ]
     },
     "metadata": {},
     "output_type": "display_data"
    },
    {
     "data": {
      "text/html": [
       "<dl class=dl-horizontal>\n",
       "\t<dt>a</dt>\n",
       "\t\t<dd>2</dd>\n",
       "\t<dt>is</dt>\n",
       "\t\t<dd>2</dd>\n",
       "\t<dt>the</dt>\n",
       "\t\t<dd>4</dd>\n",
       "</dl>\n"
      ],
      "text/latex": [
       "\\begin{description*}\n",
       "\\item[a] 2\n",
       "\\item[is] 2\n",
       "\\item[the] 4\n",
       "\\end{description*}\n"
      ],
      "text/markdown": [
       "a\n",
       ":   2is\n",
       ":   2the\n",
       ":   4\n",
       "\n"
      ],
      "text/plain": [
       "  a  is the \n",
       "  2   2   4 "
      ]
     },
     "metadata": {},
     "output_type": "display_data"
    }
   ],
   "source": [
    "doc0freq <-c(2, 2 ,2, 2)\n",
    "tapply(doc0freq, wordlist, length)\n",
    "tapply(doc0freq, wordlist, sum)"
   ]
  },
  {
   "cell_type": "code",
   "execution_count": 18,
   "metadata": {},
   "outputs": [
    {
     "data": {
      "text/html": [
       "<ol class=list-inline>\n",
       "\t<li>1</li>\n",
       "\t<li>1</li>\n",
       "\t<li>1</li>\n",
       "\t<li>1</li>\n",
       "</ol>\n"
      ],
      "text/latex": [
       "\\begin{enumerate*}\n",
       "\\item 1\n",
       "\\item 1\n",
       "\\item 1\n",
       "\\item 1\n",
       "\\end{enumerate*}\n"
      ],
      "text/markdown": [
       "1. 1\n",
       "2. 1\n",
       "3. 1\n",
       "4. 1\n",
       "\n",
       "\n"
      ],
      "text/plain": [
       "[1] 1 1 1 1"
      ]
     },
     "metadata": {},
     "output_type": "display_data"
    }
   ],
   "source": [
    "doc2freq"
   ]
  },
  {
   "cell_type": "code",
   "execution_count": 32,
   "metadata": {},
   "outputs": [
    {
     "data": {
      "text/html": [
       "<dl class=dl-horizontal>\n",
       "\t<dt>ashes</dt>\n",
       "\t\t<dd>2</dd>\n",
       "\t<dt>dust</dt>\n",
       "\t\t<dd>2</dd>\n",
       "\t<dt>earth</dt>\n",
       "\t\t<dd>2</dd>\n",
       "\t<dt>to</dt>\n",
       "\t\t<dd>3</dd>\n",
       "</dl>\n"
      ],
      "text/latex": [
       "\\begin{description*}\n",
       "\\item[ashes] 2\n",
       "\\item[dust] 2\n",
       "\\item[earth] 2\n",
       "\\item[to] 3\n",
       "\\end{description*}\n"
      ],
      "text/markdown": [
       "ashes\n",
       ":   2dust\n",
       ":   2earth\n",
       ":   2to\n",
       ":   3\n",
       "\n"
      ],
      "text/plain": [
       "ashes  dust earth    to \n",
       "    2     2     2     3 "
      ]
     },
     "metadata": {},
     "output_type": "display_data"
    }
   ],
   "source": [
    "#다음과 같은 단어들의 연쇄로 구성된 세 문장들을 생각해 보자. \n",
    "sent1 <- c(\"earth\",\"to\",\"earth\")\n",
    "sent2 <- c(\"ashes\",\"to\",\"ashes\")\n",
    "sent3 <- c(\"dust\",\"to\",\"dust\")\n",
    "#한 문장에서 to는 1회, to가 아닌 단어는 2회 등장했다. \n",
    "#3문장에서 등장한 단어빈도가 어떠한지 tapply함수를 이용해 계산하자. \n",
    "myfreq <- c(rep(1,length(sent1)),rep(1,length(sent2)),rep(1,length(sent3)))\n",
    "tapply(myfreq,c(sent1,sent2,sent3),sum)"
   ]
  },
  {
   "cell_type": "code",
   "execution_count": null,
   "metadata": {},
   "outputs": [],
   "source": []
  },
  {
   "cell_type": "code",
   "execution_count": null,
   "metadata": {},
   "outputs": [],
   "source": []
  }
 ],
 "metadata": {
  "kernelspec": {
   "display_name": "R",
   "language": "R",
   "name": "ir"
  },
  "language_info": {
   "codemirror_mode": "r",
   "file_extension": ".r",
   "mimetype": "text/x-r-source",
   "name": "R",
   "pygments_lexer": "r",
   "version": "3.5.2"
  }
 },
 "nbformat": 4,
 "nbformat_minor": 2
}
